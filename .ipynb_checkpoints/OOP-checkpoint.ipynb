{
 "cells": [
  {
   "cell_type": "markdown",
   "id": "c7d61729",
   "metadata": {},
   "source": [
    "# OOP\n",
    "\n",
    "**Object Oriented Programming (OOP) allows programmers to create their own object that have methods and attributes** "
   ]
  },
  {
   "cell_type": "code",
   "execution_count": 1,
   "id": "dc087d58",
   "metadata": {},
   "outputs": [],
   "source": [
    "# syntax\n",
    "\n",
    "class NameOfClass():\n",
    "    def __init__(self, param1, param2):\n",
    "        self.param1 = param1\n",
    "        self.param2 = param2\n",
    "        \n",
    "    def some_method(self):\n",
    "        # perform some action\n",
    "        print(self.param1)"
   ]
  },
  {
   "cell_type": "code",
   "execution_count": 3,
   "id": "56eb9f19",
   "metadata": {},
   "outputs": [],
   "source": [
    "class Student():\n",
    "    pass"
   ]
  },
  {
   "cell_type": "code",
   "execution_count": 4,
   "id": "6f612410",
   "metadata": {},
   "outputs": [],
   "source": [
    "new_student = Student()"
   ]
  },
  {
   "cell_type": "code",
   "execution_count": 5,
   "id": "443afea4",
   "metadata": {},
   "outputs": [
    {
     "data": {
      "text/plain": [
       "__main__.Student"
      ]
     },
     "execution_count": 5,
     "metadata": {},
     "output_type": "execute_result"
    }
   ],
   "source": [
    "type(new_student)"
   ]
  },
  {
   "cell_type": "code",
   "execution_count": 6,
   "id": "bad40c92",
   "metadata": {},
   "outputs": [],
   "source": [
    "# class with attribute\n",
    "\n",
    "class Student():\n",
    "    def __init__(self, name, level):\n",
    "        # Attribute\n",
    "        self.name = name\n",
    "        self.level = level"
   ]
  },
  {
   "cell_type": "code",
   "execution_count": 14,
   "id": "54db1458",
   "metadata": {},
   "outputs": [],
   "source": [
    "new_student = Student('Abisoye', '400L')"
   ]
  },
  {
   "cell_type": "code",
   "execution_count": 15,
   "id": "9520524c",
   "metadata": {},
   "outputs": [
    {
     "data": {
      "text/plain": [
       "__main__.Student"
      ]
     },
     "execution_count": 15,
     "metadata": {},
     "output_type": "execute_result"
    }
   ],
   "source": [
    "type(new_student)"
   ]
  },
  {
   "cell_type": "code",
   "execution_count": 16,
   "id": "b07c7bfe",
   "metadata": {},
   "outputs": [
    {
     "data": {
      "text/plain": [
       "'Abisoye'"
      ]
     },
     "execution_count": 16,
     "metadata": {},
     "output_type": "execute_result"
    }
   ],
   "source": [
    "new_student.name"
   ]
  },
  {
   "cell_type": "code",
   "execution_count": 17,
   "id": "fe3f1949",
   "metadata": {},
   "outputs": [
    {
     "data": {
      "text/plain": [
       "'400L'"
      ]
     },
     "execution_count": 17,
     "metadata": {},
     "output_type": "execute_result"
    }
   ],
   "source": [
    "new_student.level"
   ]
  },
  {
   "cell_type": "code",
   "execution_count": null,
   "id": "e5c66895",
   "metadata": {},
   "outputs": [],
   "source": []
  }
 ],
 "metadata": {
  "kernelspec": {
   "display_name": "Python 3",
   "language": "python",
   "name": "python3"
  },
  "language_info": {
   "codemirror_mode": {
    "name": "ipython",
    "version": 3
   },
   "file_extension": ".py",
   "mimetype": "text/x-python",
   "name": "python",
   "nbconvert_exporter": "python",
   "pygments_lexer": "ipython3",
   "version": "3.8.8"
  }
 },
 "nbformat": 4,
 "nbformat_minor": 5
}
