{
 "cells": [
  {
   "cell_type": "markdown",
   "id": "d5b30805",
   "metadata": {},
   "source": [
    "## Object and Data Structures Assessment"
   ]
  },
  {
   "cell_type": "markdown",
   "id": "561d7f58",
   "metadata": {},
   "source": [
    "### Number\n",
    "\n",
    "Write an equation that uses multiplication, division, an exponent, addition, and subtraction that is equal to 100.25."
   ]
  },
  {
   "cell_type": "code",
   "execution_count": 2,
   "id": "b957749c",
   "metadata": {},
   "outputs": [
    {
     "data": {
      "text/plain": [
       "100.25"
      ]
     },
     "execution_count": 2,
     "metadata": {},
     "output_type": "execute_result"
    }
   ],
   "source": [
    "(5 ** 2) * (8 / 2) + (0.50 - 0.25)"
   ]
  },
  {
   "cell_type": "markdown",
   "id": "a3078746",
   "metadata": {},
   "source": [
    "What would you use to find a number's square root, as as its square?\n",
    "\n",
    "**Ans: ****"
   ]
  },
  {
   "cell_type": "code",
   "execution_count": 3,
   "id": "e04d34e7",
   "metadata": {},
   "outputs": [
    {
     "data": {
      "text/plain": [
       "256"
      ]
     },
     "execution_count": 3,
     "metadata": {},
     "output_type": "execute_result"
    }
   ],
   "source": [
    "# square\n",
    "\n",
    "2 ** 8"
   ]
  },
  {
   "cell_type": "code",
   "execution_count": 4,
   "id": "de45a8d3",
   "metadata": {},
   "outputs": [
    {
     "data": {
      "text/plain": [
       "6.0"
      ]
     },
     "execution_count": 4,
     "metadata": {},
     "output_type": "execute_result"
    }
   ],
   "source": [
    "36 ** (1/2)"
   ]
  },
  {
   "cell_type": "markdown",
   "id": "685487ac",
   "metadata": {},
   "source": [
    "## String\n",
    "\n",
    "Reverse the String \"Abisoye Akinloye Samson\""
   ]
  },
  {
   "cell_type": "code",
   "execution_count": 5,
   "id": "23368c36",
   "metadata": {},
   "outputs": [
    {
     "data": {
      "text/plain": [
       "'nosmaS eyolnikA eyosibA'"
      ]
     },
     "execution_count": 5,
     "metadata": {},
     "output_type": "execute_result"
    }
   ],
   "source": [
    "name = \"Abisoye Akinloye Samson\"\n",
    "\n",
    "name[::-1]"
   ]
  },
  {
   "cell_type": "code",
   "execution_count": 13,
   "id": "29f71bee",
   "metadata": {},
   "outputs": [
    {
     "data": {
      "text/plain": [
       "'o'"
      ]
     },
     "execution_count": 13,
     "metadata": {},
     "output_type": "execute_result"
    }
   ],
   "source": [
    "# Method on \"Hello\" to give \"o\"\n",
    "\n",
    "s = \"Hello\"\n",
    "\n",
    "s[4]"
   ]
  },
  {
   "cell_type": "code",
   "execution_count": 14,
   "id": "9f0d1a8c",
   "metadata": {},
   "outputs": [
    {
     "data": {
      "text/plain": [
       "'o'"
      ]
     },
     "execution_count": 14,
     "metadata": {},
     "output_type": "execute_result"
    }
   ],
   "source": [
    "s[-1]"
   ]
  },
  {
   "cell_type": "markdown",
   "id": "ab770ba4",
   "metadata": {},
   "source": [
    "## Lists"
   ]
  },
  {
   "cell_type": "code",
   "execution_count": 16,
   "id": "353c7748",
   "metadata": {},
   "outputs": [
    {
     "data": {
      "text/plain": [
       "'hello'"
      ]
     },
     "execution_count": 16,
     "metadata": {},
     "output_type": "execute_result"
    }
   ],
   "source": [
    "# reassign \"hello\" to say \"goodbye\" instead\n",
    "\n",
    "li = [1,2,[3,4,'hello']]\n",
    "\n",
    "li[2][2]"
   ]
  },
  {
   "cell_type": "code",
   "execution_count": 17,
   "id": "c3c8f04c",
   "metadata": {},
   "outputs": [],
   "source": [
    "li[2][2] = \"goodbye\""
   ]
  },
  {
   "cell_type": "code",
   "execution_count": 18,
   "id": "3e040926",
   "metadata": {},
   "outputs": [
    {
     "data": {
      "text/plain": [
       "[1, 2, [3, 4, 'goodbye']]"
      ]
     },
     "execution_count": 18,
     "metadata": {},
     "output_type": "execute_result"
    }
   ],
   "source": [
    "li"
   ]
  },
  {
   "cell_type": "code",
   "execution_count": 20,
   "id": "8835c5a5",
   "metadata": {},
   "outputs": [],
   "source": [
    "# sort \n",
    "\n",
    "li2 = [5,4,6,3,1,2]\n",
    "\n",
    "li2.sort()"
   ]
  },
  {
   "cell_type": "code",
   "execution_count": 21,
   "id": "c7da3be1",
   "metadata": {},
   "outputs": [
    {
     "data": {
      "text/plain": [
       "[1, 2, 3, 4, 5, 6]"
      ]
     },
     "execution_count": 21,
     "metadata": {},
     "output_type": "execute_result"
    }
   ],
   "source": [
    "li2"
   ]
  },
  {
   "cell_type": "code",
   "execution_count": null,
   "id": "b6808b5d",
   "metadata": {},
   "outputs": [],
   "source": []
  }
 ],
 "metadata": {
  "kernelspec": {
   "display_name": "Python 3",
   "language": "python",
   "name": "python3"
  },
  "language_info": {
   "codemirror_mode": {
    "name": "ipython",
    "version": 3
   },
   "file_extension": ".py",
   "mimetype": "text/x-python",
   "name": "python",
   "nbconvert_exporter": "python",
   "pygments_lexer": "ipython3",
   "version": "3.8.8"
  }
 },
 "nbformat": 4,
 "nbformat_minor": 5
}
