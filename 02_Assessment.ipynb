{
 "cells": [
  {
   "cell_type": "markdown",
   "id": "73585e1f",
   "metadata": {},
   "source": [
    "**Use for, .split(), and if statement to print words that start with 's'**"
   ]
  },
  {
   "cell_type": "code",
   "execution_count": 1,
   "id": "ed97ecba",
   "metadata": {},
   "outputs": [],
   "source": [
    "st = 'Print only the words that start with s in this sentence'"
   ]
  },
  {
   "cell_type": "code",
   "execution_count": 2,
   "id": "0dbd73cc",
   "metadata": {},
   "outputs": [
    {
     "data": {
      "text/plain": [
       "['Print',\n",
       " 'only',\n",
       " 'the',\n",
       " 'words',\n",
       " 'that',\n",
       " 'start',\n",
       " 'with',\n",
       " 's',\n",
       " 'in',\n",
       " 'this',\n",
       " 'sentence']"
      ]
     },
     "execution_count": 2,
     "metadata": {},
     "output_type": "execute_result"
    }
   ],
   "source": [
    "st.split()"
   ]
  },
  {
   "cell_type": "code",
   "execution_count": 3,
   "id": "ada5ea75",
   "metadata": {},
   "outputs": [
    {
     "name": "stdout",
     "output_type": "stream",
     "text": [
      "start\n",
      "s\n",
      "sentence\n"
     ]
    }
   ],
   "source": [
    "splited_st = st.split()\n",
    "\n",
    "for word in splited_st:\n",
    "    if word[0] == 's':\n",
    "        print(word)"
   ]
  },
  {
   "cell_type": "markdown",
   "id": "04d11dbd",
   "metadata": {},
   "source": [
    "**Use range() to print all the even numbers from 0 to 10**"
   ]
  },
  {
   "cell_type": "code",
   "execution_count": 4,
   "id": "cec99a65",
   "metadata": {},
   "outputs": [],
   "source": [
    "even_num = range(0,11,2)"
   ]
  },
  {
   "cell_type": "code",
   "execution_count": 6,
   "id": "cb8db105",
   "metadata": {},
   "outputs": [
    {
     "data": {
      "text/plain": [
       "[0, 2, 4, 6, 8, 10]"
      ]
     },
     "execution_count": 6,
     "metadata": {},
     "output_type": "execute_result"
    }
   ],
   "source": [
    "list(even_num)"
   ]
  },
  {
   "cell_type": "code",
   "execution_count": 8,
   "id": "f6aade99",
   "metadata": {},
   "outputs": [
    {
     "name": "stdout",
     "output_type": "stream",
     "text": [
      "0\n",
      "2\n",
      "4\n",
      "6\n",
      "8\n",
      "10\n"
     ]
    }
   ],
   "source": [
    "for num in range(0,11,2):\n",
    "    print(num)"
   ]
  },
  {
   "cell_type": "markdown",
   "id": "53d2ba76",
   "metadata": {},
   "source": [
    "**Use a List comprehension to create a list of all numbers between 1 and 50 that are divisible by 3**"
   ]
  },
  {
   "cell_type": "code",
   "execution_count": 11,
   "id": "60a3b453",
   "metadata": {},
   "outputs": [],
   "source": [
    "no_divisible_by_3 = [num for num in range(1,51) if num%3 == 0]"
   ]
  },
  {
   "cell_type": "code",
   "execution_count": 12,
   "id": "f9ca1756",
   "metadata": {},
   "outputs": [
    {
     "data": {
      "text/plain": [
       "[3, 6, 9, 12, 15, 18, 21, 24, 27, 30, 33, 36, 39, 42, 45, 48]"
      ]
     },
     "execution_count": 12,
     "metadata": {},
     "output_type": "execute_result"
    }
   ],
   "source": [
    "no_divisible_by_3"
   ]
  },
  {
   "cell_type": "markdown",
   "id": "846c661a",
   "metadata": {},
   "source": [
    "**Go through the string below and if the length of a word is even print \"even!\"**"
   ]
  },
  {
   "cell_type": "code",
   "execution_count": 13,
   "id": "b7149454",
   "metadata": {},
   "outputs": [],
   "source": [
    "st = \"Print every word in this sentence that has an even number of letters\""
   ]
  },
  {
   "cell_type": "code",
   "execution_count": 14,
   "id": "4990d889",
   "metadata": {},
   "outputs": [
    {
     "name": "stdout",
     "output_type": "stream",
     "text": [
      "word\n",
      "in\n",
      "this\n",
      "sentence\n",
      "that\n",
      "an\n",
      "even\n",
      "number\n",
      "of\n"
     ]
    }
   ],
   "source": [
    "splitted_words = st.split()\n",
    "\n",
    "for word in splitted_words:\n",
    "    if len(word)%2 == 0:\n",
    "        print(word)"
   ]
  },
  {
   "cell_type": "markdown",
   "id": "14703e6e",
   "metadata": {},
   "source": [
    "**Write a program that prints the integer from from 1 to 100. But for multiple of three print \"multiple of 3\" instead of the number, and for the multiples of five print \"multiple of 5\", for numbers which are multiples of both three and five print \"multiple of 3x5\"** "
   ]
  },
  {
   "cell_type": "code",
   "execution_count": 20,
   "id": "ea90c6f8",
   "metadata": {},
   "outputs": [
    {
     "name": "stdout",
     "output_type": "stream",
     "text": [
      "1\n",
      "2\n",
      "Multiple of 3\n",
      "4\n",
      "Multiple Of 5\n",
      "Multiple of 3\n",
      "7\n",
      "8\n",
      "Multiple of 3\n",
      "Multiple Of 5\n",
      "11\n",
      "Multiple of 3\n",
      "13\n",
      "14\n",
      "Multiple Of 3 x 5\n",
      "16\n",
      "17\n",
      "Multiple of 3\n",
      "19\n",
      "Multiple Of 5\n",
      "Multiple of 3\n",
      "22\n",
      "23\n",
      "Multiple of 3\n",
      "Multiple Of 5\n",
      "26\n",
      "Multiple of 3\n",
      "28\n",
      "29\n",
      "Multiple Of 3 x 5\n",
      "31\n",
      "32\n",
      "Multiple of 3\n",
      "34\n",
      "Multiple Of 5\n",
      "Multiple of 3\n",
      "37\n",
      "38\n",
      "Multiple of 3\n",
      "Multiple Of 5\n",
      "41\n",
      "Multiple of 3\n",
      "43\n",
      "44\n",
      "Multiple Of 3 x 5\n",
      "46\n",
      "47\n",
      "Multiple of 3\n",
      "49\n",
      "Multiple Of 5\n",
      "Multiple of 3\n",
      "52\n",
      "53\n",
      "Multiple of 3\n",
      "Multiple Of 5\n",
      "56\n",
      "Multiple of 3\n",
      "58\n",
      "59\n",
      "Multiple Of 3 x 5\n",
      "61\n",
      "62\n",
      "Multiple of 3\n",
      "64\n",
      "Multiple Of 5\n",
      "Multiple of 3\n",
      "67\n",
      "68\n",
      "Multiple of 3\n",
      "Multiple Of 5\n",
      "71\n",
      "Multiple of 3\n",
      "73\n",
      "74\n",
      "Multiple Of 3 x 5\n",
      "76\n",
      "77\n",
      "Multiple of 3\n",
      "79\n",
      "Multiple Of 5\n",
      "Multiple of 3\n",
      "82\n",
      "83\n",
      "Multiple of 3\n",
      "Multiple Of 5\n",
      "86\n",
      "Multiple of 3\n",
      "88\n",
      "89\n",
      "Multiple Of 3 x 5\n",
      "91\n",
      "92\n",
      "Multiple of 3\n",
      "94\n",
      "Multiple Of 5\n",
      "Multiple of 3\n",
      "97\n",
      "98\n",
      "Multiple of 3\n",
      "Multiple Of 5\n"
     ]
    }
   ],
   "source": [
    "# integer from 1 to 100\n",
    "\n",
    "for num in range(1,101):\n",
    "    # print multiple of 3\n",
    "    if (num%3 == 0) and (num%5 == 0):\n",
    "        print(\"Multiple Of 3 x 5\")\n",
    "    elif num%5 == 0:\n",
    "        print(\"Multiple Of 5\")\n",
    "    elif num%3 == 0:\n",
    "        print(\"Multiple of 3\")\n",
    "    else:\n",
    "        print(num)"
   ]
  },
  {
   "cell_type": "markdown",
   "id": "7e205976",
   "metadata": {},
   "source": [
    "**Use list comprehension to create a list letters of every word in the string below**"
   ]
  },
  {
   "cell_type": "code",
   "execution_count": 21,
   "id": "e40605ee",
   "metadata": {},
   "outputs": [],
   "source": [
    "st = \"Create a list of the first letters of every word in this string\""
   ]
  },
  {
   "cell_type": "code",
   "execution_count": 22,
   "id": "a503457e",
   "metadata": {},
   "outputs": [],
   "source": [
    "first_letter = [x[0] for x in st.split()]"
   ]
  },
  {
   "cell_type": "code",
   "execution_count": 23,
   "id": "8d3f813a",
   "metadata": {},
   "outputs": [
    {
     "data": {
      "text/plain": [
       "['C', 'a', 'l', 'o', 't', 'f', 'l', 'o', 'e', 'w', 'i', 't', 's']"
      ]
     },
     "execution_count": 23,
     "metadata": {},
     "output_type": "execute_result"
    }
   ],
   "source": [
    "first_letter"
   ]
  },
  {
   "cell_type": "code",
   "execution_count": null,
   "id": "e8c64209",
   "metadata": {},
   "outputs": [],
   "source": []
  }
 ],
 "metadata": {
  "kernelspec": {
   "display_name": "Python 3",
   "language": "python",
   "name": "python3"
  },
  "language_info": {
   "codemirror_mode": {
    "name": "ipython",
    "version": 3
   },
   "file_extension": ".py",
   "mimetype": "text/x-python",
   "name": "python",
   "nbconvert_exporter": "python",
   "pygments_lexer": "ipython3",
   "version": "3.8.8"
  }
 },
 "nbformat": 4,
 "nbformat_minor": 5
}
