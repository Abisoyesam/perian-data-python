{
 "cells": [
  {
   "cell_type": "markdown",
   "id": "2bebc51b",
   "metadata": {},
   "source": [
    "## Control flow\n",
    "\n",
    "Syntax makes use of colons and indentation\n",
    "\n",
    "* IF (True condition)\n",
    "* ELIF (True)\n",
    "* ELSE (False condition)"
   ]
  },
  {
   "cell_type": "code",
   "execution_count": null,
   "id": "3f496bb1",
   "metadata": {},
   "outputs": [],
   "source": []
  }
 ],
 "metadata": {
  "kernelspec": {
   "display_name": "Python 3.10.0 64-bit",
   "language": "python",
   "name": "python3"
  },
  "language_info": {
   "codemirror_mode": {
    "name": "ipython",
    "version": 3
   },
   "file_extension": ".py",
   "mimetype": "text/x-python",
   "name": "python",
   "nbconvert_exporter": "python",
   "pygments_lexer": "ipython3",
   "version": "3.10.0"
  },
  "vscode": {
   "interpreter": {
    "hash": "3a43ad257639eb9fd7dbfebe0de48eb72b022197653334369dcf61871a72cb56"
   }
  }
 },
 "nbformat": 4,
 "nbformat_minor": 5
}
