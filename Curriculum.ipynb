{
 "cells": [
  {
   "cell_type": "markdown",
   "id": "dd04ac9f",
   "metadata": {},
   "source": [
    "# Curriculum"
   ]
  },
  {
   "cell_type": "markdown",
   "id": "0278600b",
   "metadata": {},
   "source": [
    "### Object and Data Structure Basics\n",
    "\n",
    "1. Number\n",
    "2. Strings \n",
    "3. Lists\n",
    "4. Dictionaries\n",
    "5. Tuples\n",
    "6. Files\n",
    "7. Sets\n",
    "8. Booleans"
   ]
  },
  {
   "cell_type": "markdown",
   "id": "8efdfc2c",
   "metadata": {},
   "source": [
    "### Comparison Operators\n",
    "\n",
    "1. Basic Operators\n",
    "2. Chained Comparison Operators"
   ]
  },
  {
   "cell_type": "markdown",
   "id": "3b6584b4",
   "metadata": {},
   "source": [
    "### Python Statement\n",
    "\n",
    "1. If, elif, and else\n",
    "2. for loops and while loops\n",
    "3. range()\n",
    "4. list comprehension"
   ]
  },
  {
   "cell_type": "markdown",
   "id": "84c06a04",
   "metadata": {},
   "source": [
    "### Methods and Functions\n",
    "\n",
    "1. Method\n",
    "2. Functions\n",
    "3. Lambda expression\n",
    "4. Nested statement\n",
    "5. scope"
   ]
  },
  {
   "cell_type": "markdown",
   "id": "f60d0c8c",
   "metadata": {},
   "source": [
    "### Object Oriented Programming (OOP)\n",
    "\n",
    "1. Objects \n",
    "2. Classes\n",
    "3. Methods\n",
    "4. inheritance\n",
    "5. Special methods"
   ]
  },
  {
   "cell_type": "markdown",
   "id": "9470cc18",
   "metadata": {},
   "source": [
    "### Errors and Exception handlings\n",
    "\n",
    "1. Errors\n",
    "2. Exceptions\n",
    "3. try, except, and finally"
   ]
  },
  {
   "cell_type": "markdown",
   "id": "382810f4",
   "metadata": {},
   "source": [
    "### Modules and packages\n",
    "\n",
    "1. Creating modules\n",
    "2. installing modules\n",
    "3. Exploring the python Ecosystem"
   ]
  },
  {
   "cell_type": "markdown",
   "id": "dbceaca7",
   "metadata": {},
   "source": [
    "### Built-in Functions\n",
    "\n",
    "1. Map, reduce, filter, zip, enumerate\n",
    "2. all and any, complex"
   ]
  },
  {
   "cell_type": "markdown",
   "id": "66aa5628",
   "metadata": {},
   "source": [
    "### Decorators and Generators\n",
    "\n",
    "1. Decorators\n",
    "2. Iterators vs Generator\n",
    "3. Creating Generators"
   ]
  }
 ],
 "metadata": {
  "kernelspec": {
   "display_name": "Python 3",
   "language": "python",
   "name": "python3"
  },
  "language_info": {
   "codemirror_mode": {
    "name": "ipython",
    "version": 3
   },
   "file_extension": ".py",
   "mimetype": "text/x-python",
   "name": "python",
   "nbconvert_exporter": "python",
   "pygments_lexer": "ipython3",
   "version": "3.8.8"
  }
 },
 "nbformat": 4,
 "nbformat_minor": 5
}
