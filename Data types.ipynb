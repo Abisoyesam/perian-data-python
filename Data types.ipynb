{
 "cells": [
  {
   "cell_type": "markdown",
   "id": "5e071db6",
   "metadata": {},
   "source": [
    "## DATA TYPES"
   ]
  },
  {
   "cell_type": "markdown",
   "id": "1c37d3dc",
   "metadata": {},
   "source": [
    "* interger - whole numbers\n",
    "* float - numbers with decimal point\n",
    "* string - enclosed in double or single quotation mark\n",
    "* list - mutable ordered sequence []\n",
    "* tuple - immutable ordered sequence ()\n",
    "* set - unordered {}\n",
    "* dictionary - unordered with key:value pairs {}"
   ]
  },
  {
   "cell_type": "markdown",
   "id": "92119869",
   "metadata": {},
   "source": [
    "# Number"
   ]
  },
  {
   "cell_type": "code",
   "execution_count": 1,
   "id": "96b99c15",
   "metadata": {},
   "outputs": [
    {
     "data": {
      "text/plain": [
       "12"
      ]
     },
     "execution_count": 1,
     "metadata": {},
     "output_type": "execute_result"
    }
   ],
   "source": [
    "# addition\n",
    "5 + 7"
   ]
  },
  {
   "cell_type": "code",
   "execution_count": 3,
   "id": "0a1043c0",
   "metadata": {},
   "outputs": [
    {
     "data": {
      "text/plain": [
       "9"
      ]
     },
     "execution_count": 3,
     "metadata": {},
     "output_type": "execute_result"
    }
   ],
   "source": [
    "# subtraction\n",
    "\n",
    "18 - 9"
   ]
  },
  {
   "cell_type": "code",
   "execution_count": 4,
   "id": "4140113c",
   "metadata": {},
   "outputs": [
    {
     "data": {
      "text/plain": [
       "112"
      ]
     },
     "execution_count": 4,
     "metadata": {},
     "output_type": "execute_result"
    }
   ],
   "source": [
    "# multiplication\n",
    "\n",
    "2 * 56"
   ]
  },
  {
   "cell_type": "code",
   "execution_count": 5,
   "id": "75a9a4cb",
   "metadata": {},
   "outputs": [
    {
     "data": {
      "text/plain": [
       "9.5"
      ]
     },
     "execution_count": 5,
     "metadata": {},
     "output_type": "execute_result"
    }
   ],
   "source": [
    "# division\n",
    "\n",
    "19 / 2"
   ]
  },
  {
   "cell_type": "code",
   "execution_count": 8,
   "id": "18299c2b",
   "metadata": {},
   "outputs": [
    {
     "data": {
      "text/plain": [
       "4"
      ]
     },
     "execution_count": 8,
     "metadata": {},
     "output_type": "execute_result"
    }
   ],
   "source": [
    "# MODULUS - output remainder\n",
    "# to verify even or odd numbers\n",
    "\n",
    "19 % 5"
   ]
  },
  {
   "cell_type": "code",
   "execution_count": 7,
   "id": "b43e8cd7",
   "metadata": {},
   "outputs": [
    {
     "data": {
      "text/plain": [
       "16"
      ]
     },
     "execution_count": 7,
     "metadata": {},
     "output_type": "execute_result"
    }
   ],
   "source": [
    "# power \n",
    "\n",
    "2 ** 4"
   ]
  },
  {
   "cell_type": "code",
   "execution_count": 9,
   "id": "ea22b9f0",
   "metadata": {},
   "outputs": [
    {
     "data": {
      "text/plain": [
       "4.5"
      ]
     },
     "execution_count": 9,
     "metadata": {},
     "output_type": "execute_result"
    }
   ],
   "source": [
    "# precedence\n",
    "\n",
    "2 + 4 * 5 / 8"
   ]
  },
  {
   "cell_type": "code",
   "execution_count": 10,
   "id": "db4a11bd",
   "metadata": {},
   "outputs": [
    {
     "data": {
      "text/plain": [
       "3.75"
      ]
     },
     "execution_count": 10,
     "metadata": {},
     "output_type": "execute_result"
    }
   ],
   "source": [
    "# bracket to overide precedence\n",
    "\n",
    "(2 + 4) * (5 / 8)"
   ]
  },
  {
   "cell_type": "code",
   "execution_count": 12,
   "id": "fdcf65cc",
   "metadata": {},
   "outputs": [
    {
     "data": {
      "text/plain": [
       "5.551115123125783e-17"
      ]
     },
     "execution_count": 12,
     "metadata": {},
     "output_type": "execute_result"
    }
   ],
   "source": [
    "# floating point accuracy\n",
    "\n",
    "0.1 + 0.2 - 0.3"
   ]
  },
  {
   "cell_type": "markdown",
   "id": "b40c7be8",
   "metadata": {},
   "source": [
    "# Variables\n",
    "\n",
    "* no space use ```_``` instead\n",
    "* cannot start with numbers\n",
    "* avoid special characters \n",
    "* no reserved words\n",
    "* short and descriptive name"
   ]
  },
  {
   "cell_type": "code",
   "execution_count": 2,
   "id": "fd71b6e0",
   "metadata": {},
   "outputs": [],
   "source": [
    "# for easy referencing\n",
    "\n",
    "name = 'Abisoye Akinloye Samson'"
   ]
  },
  {
   "cell_type": "code",
   "execution_count": 14,
   "id": "25580ad1",
   "metadata": {},
   "outputs": [
    {
     "data": {
      "text/plain": [
       "'Abisoye Akinloye Samson'"
      ]
     },
     "execution_count": 14,
     "metadata": {},
     "output_type": "execute_result"
    }
   ],
   "source": [
    "name"
   ]
  },
  {
   "cell_type": "markdown",
   "id": "f32d9ace",
   "metadata": {},
   "source": [
    "**N.B: Python is a dynamic programming language** \n",
    "\n",
    "You can re-assign varable to different data type"
   ]
  },
  {
   "cell_type": "code",
   "execution_count": 15,
   "id": "e58ff0b9",
   "metadata": {},
   "outputs": [],
   "source": [
    "# dynamic pro\n",
    "\n",
    "my_houses = 3\n",
    "\n",
    "my_houses = ['duplex', 'bongalow', 'mansion']"
   ]
  },
  {
   "cell_type": "code",
   "execution_count": 16,
   "id": "000c6654",
   "metadata": {},
   "outputs": [
    {
     "data": {
      "text/plain": [
       "list"
      ]
     },
     "execution_count": 16,
     "metadata": {},
     "output_type": "execute_result"
    }
   ],
   "source": [
    "type(my_houses)"
   ]
  },
  {
   "cell_type": "markdown",
   "id": "fd808668",
   "metadata": {},
   "source": [
    "# Strings\n",
    "\n",
    "* single or double quote\n",
    "* ordered sequences (indexing and slicing)\n",
    "* zero-based indexing with [ ]"
   ]
  },
  {
   "cell_type": "code",
   "execution_count": 17,
   "id": "296064e9",
   "metadata": {},
   "outputs": [
    {
     "data": {
      "text/plain": [
       "'A'"
      ]
     },
     "execution_count": 17,
     "metadata": {},
     "output_type": "execute_result"
    }
   ],
   "source": [
    "name[0]"
   ]
  },
  {
   "cell_type": "code",
   "execution_count": 18,
   "id": "ee015968",
   "metadata": {},
   "outputs": [
    {
     "data": {
      "text/plain": [
       "'n'"
      ]
     },
     "execution_count": 18,
     "metadata": {},
     "output_type": "execute_result"
    }
   ],
   "source": [
    "name[-1]"
   ]
  },
  {
   "cell_type": "markdown",
   "id": "740d1a98",
   "metadata": {},
   "source": [
    "* **Slicing**: to grab subsection\n",
    "\n",
    "\n",
    "* [**start : stop : step**]"
   ]
  },
  {
   "cell_type": "code",
   "execution_count": 29,
   "id": "058904ea",
   "metadata": {},
   "outputs": [
    {
     "name": "stdout",
     "output_type": "stream",
     "text": [
      "Abisoye\n"
     ]
    }
   ],
   "source": [
    "last_name = name[0:7]\n",
    "print(last_name)"
   ]
  },
  {
   "cell_type": "code",
   "execution_count": 5,
   "id": "f12295b9",
   "metadata": {},
   "outputs": [
    {
     "data": {
      "text/plain": [
       "'Akinloye Samson'"
      ]
     },
     "execution_count": 5,
     "metadata": {},
     "output_type": "execute_result"
    }
   ],
   "source": [
    "# use (:) to grab all letter\n",
    "\n",
    "name[8:]"
   ]
  },
  {
   "cell_type": "code",
   "execution_count": 10,
   "id": "1decf0da",
   "metadata": {
    "scrolled": true
   },
   "outputs": [
    {
     "data": {
      "text/plain": [
       "'Abisoye Akinloye'"
      ]
     },
     "execution_count": 10,
     "metadata": {},
     "output_type": "execute_result"
    }
   ],
   "source": [
    "# end at 16 indexing but not printed\n",
    "popular_names = name[:16]\n",
    "\n",
    "popular_names"
   ]
  },
  {
   "cell_type": "code",
   "execution_count": 12,
   "id": "0276266c",
   "metadata": {},
   "outputs": [
    {
     "data": {
      "text/plain": [
       "'AioeAily asn'"
      ]
     },
     "execution_count": 12,
     "metadata": {},
     "output_type": "execute_result"
    }
   ],
   "source": [
    "name[::2]"
   ]
  },
  {
   "cell_type": "code",
   "execution_count": 13,
   "id": "c33e97ef",
   "metadata": {},
   "outputs": [
    {
     "data": {
      "text/plain": [
       "'nosmaS eyolnikA eyosibA'"
      ]
     },
     "execution_count": 13,
     "metadata": {},
     "output_type": "execute_result"
    }
   ],
   "source": [
    "# to reverse a string\n",
    "\n",
    "name[::-1]"
   ]
  },
  {
   "cell_type": "markdown",
   "id": "fce33a20",
   "metadata": {},
   "source": [
    "* **Escape sequence for string**\n",
    "* it is used inside ```print``` function\n",
    "* \\n - new line \n",
    "* \\t - tab"
   ]
  },
  {
   "cell_type": "code",
   "execution_count": 22,
   "id": "e8c1164d",
   "metadata": {},
   "outputs": [
    {
     "name": "stdout",
     "output_type": "stream",
     "text": [
      "Abisoye \n",
      "Akinloye\n"
     ]
    }
   ],
   "source": [
    "# print function\n",
    "\n",
    "print(\"Abisoye \\nAkinloye\")"
   ]
  },
  {
   "cell_type": "code",
   "execution_count": 34,
   "id": "f50861ed",
   "metadata": {},
   "outputs": [
    {
     "name": "stdout",
     "output_type": "stream",
     "text": [
      "Abisoye \tAkinloye\n"
     ]
    }
   ],
   "source": [
    "# nine spaces\n",
    "\n",
    "print(\"Abisoye \\tAkinloye\")"
   ]
  },
  {
   "cell_type": "code",
   "execution_count": 39,
   "id": "04e6f701",
   "metadata": {},
   "outputs": [
    {
     "data": {
      "text/plain": [
       "23"
      ]
     },
     "execution_count": 39,
     "metadata": {},
     "output_type": "execute_result"
    }
   ],
   "source": [
    "# len function \n",
    "\n",
    "len(name)"
   ]
  },
  {
   "cell_type": "code",
   "execution_count": 40,
   "id": "71244860",
   "metadata": {},
   "outputs": [
    {
     "data": {
      "text/plain": [
       "7"
      ]
     },
     "execution_count": 40,
     "metadata": {},
     "output_type": "execute_result"
    }
   ],
   "source": [
    "len(last_name)"
   ]
  },
  {
   "cell_type": "markdown",
   "id": "18ad67e5",
   "metadata": {},
   "source": [
    "**N.B: Space inside string is also counted**"
   ]
  },
  {
   "cell_type": "markdown",
   "id": "2edcc9fb",
   "metadata": {},
   "source": [
    "### Sting Properties and Methods"
   ]
  },
  {
   "cell_type": "markdown",
   "id": "c7834a81",
   "metadata": {},
   "source": [
    "* **Immutability**: Strings are immutable by indexing"
   ]
  },
  {
   "cell_type": "code",
   "execution_count": 15,
   "id": "2f4b2e03",
   "metadata": {},
   "outputs": [],
   "source": [
    "middle_name = \"Samson\""
   ]
  },
  {
   "cell_type": "code",
   "execution_count": 16,
   "id": "746f341c",
   "metadata": {},
   "outputs": [
    {
     "ename": "TypeError",
     "evalue": "'str' object does not support item assignment",
     "output_type": "error",
     "traceback": [
      "\u001b[1;31m---------------------------------------------------------------------------\u001b[0m",
      "\u001b[1;31mTypeError\u001b[0m                                 Traceback (most recent call last)",
      "\u001b[1;32m<ipython-input-16-2aeafbc4d143>\u001b[0m in \u001b[0;36m<module>\u001b[1;34m\u001b[0m\n\u001b[1;32m----> 1\u001b[1;33m \u001b[0mmiddle_name\u001b[0m\u001b[1;33m[\u001b[0m\u001b[1;36m0\u001b[0m\u001b[1;33m]\u001b[0m \u001b[1;33m=\u001b[0m \u001b[1;34m\"s\"\u001b[0m\u001b[1;33m\u001b[0m\u001b[1;33m\u001b[0m\u001b[0m\n\u001b[0m",
      "\u001b[1;31mTypeError\u001b[0m: 'str' object does not support item assignment"
     ]
    }
   ],
   "source": [
    "middle_name[0] = \"s\""
   ]
  },
  {
   "cell_type": "code",
   "execution_count": 19,
   "id": "3bcac3e0",
   "metadata": {},
   "outputs": [],
   "source": [
    "# string method\n",
    "\n",
    "split_names = name.split()"
   ]
  },
  {
   "cell_type": "code",
   "execution_count": 20,
   "id": "65d8c0d1",
   "metadata": {},
   "outputs": [],
   "source": [
    "first_name = split_names[1]\n",
    "middle_name = split_names[2]\n",
    "last_name = split_names[0]"
   ]
  },
  {
   "cell_type": "code",
   "execution_count": 21,
   "id": "53d3b3b8",
   "metadata": {},
   "outputs": [
    {
     "name": "stdout",
     "output_type": "stream",
     "text": [
      "Hi, your surname is Abisoye.\n"
     ]
    }
   ],
   "source": [
    "print(f'Hi, your surname is {last_name}.')"
   ]
  },
  {
   "cell_type": "markdown",
   "id": "9db79d27",
   "metadata": {},
   "source": [
    "**N.B: split() splits words based on white space. You can pass \n",
    "in condition for spliting in the ()**"
   ]
  },
  {
   "cell_type": "markdown",
   "id": "17b85aad",
   "metadata": {},
   "source": [
    "## String Interpolation"
   ]
  },
  {
   "cell_type": "code",
   "execution_count": 5,
   "id": "e6f9a833",
   "metadata": {},
   "outputs": [],
   "source": [
    "name = \"Abisoye Akinloye Samson\""
   ]
  },
  {
   "cell_type": "code",
   "execution_count": 6,
   "id": "ce6d95a2",
   "metadata": {},
   "outputs": [],
   "source": [
    "first_name = name.split()[1]"
   ]
  },
  {
   "cell_type": "code",
   "execution_count": 7,
   "id": "7b1bf0f1",
   "metadata": {
    "scrolled": true
   },
   "outputs": [
    {
     "name": "stdout",
     "output_type": "stream",
     "text": [
      "Dear, Akinloye.\n"
     ]
    }
   ],
   "source": [
    "print(\"Dear, \" + first_name + \".\")"
   ]
  },
  {
   "cell_type": "markdown",
   "id": "a4136b67",
   "metadata": {},
   "source": [
    "### Formating using placeholder\n",
    "\n",
    "* **Obsolete format**"
   ]
  },
  {
   "cell_type": "code",
   "execution_count": 23,
   "id": "9585efbc",
   "metadata": {},
   "outputs": [
    {
     "name": "stdout",
     "output_type": "stream",
     "text": [
      "I am going to class.\n"
     ]
    }
   ],
   "source": [
    "print(\"I am going to %s.\" %'class')"
   ]
  },
  {
   "cell_type": "code",
   "execution_count": 24,
   "id": "f7c5b90d",
   "metadata": {},
   "outputs": [
    {
     "name": "stdout",
     "output_type": "stream",
     "text": [
      "We have Thermodynamics lecture by 3 pm.\n"
     ]
    }
   ],
   "source": [
    "print(\"We have %s lecture by %s.\" %('Thermodynamics','3 pm'))"
   ]
  },
  {
   "cell_type": "markdown",
   "id": "03335e27",
   "metadata": {},
   "source": [
    "## **```%s``` VS ```%r```**\n"
   ]
  },
  {
   "cell_type": "code",
   "execution_count": 26,
   "id": "5c1d4fef",
   "metadata": {},
   "outputs": [
    {
     "name": "stdout",
     "output_type": "stream",
     "text": [
      "The man said: He won't be around for the meeting.\n",
      "The man said: \"He won't be around for the meeting.\"\n"
     ]
    }
   ],
   "source": [
    "# %s - output without quotation mark\n",
    "\n",
    "print(\"The man said: %s\" %\"He won't be around for the meeting.\")\n",
    "\n",
    "# %r - string representation including quotation marks and escape characters\n",
    "\n",
    "print(\"The man said: %r\" %\"He won't be around for the meeting.\")"
   ]
  },
  {
   "cell_type": "markdown",
   "id": "7f6d66c8",
   "metadata": {},
   "source": [
    "## **```%s``` VS ```%d```**\n"
   ]
  },
  {
   "cell_type": "code",
   "execution_count": 30,
   "id": "fc515623",
   "metadata": {},
   "outputs": [
    {
     "name": "stdout",
     "output_type": "stream",
     "text": [
      "The lecture would start by 3.30pm\n",
      "The lecture would start by 3 pm\n"
     ]
    }
   ],
   "source": [
    "# %s\n",
    "\n",
    "print(\"The lecture would start by %s\" %\"3.30pm\")\n",
    "\n",
    "# %d\n",
    "\n",
    "print(\"The lecture would start by %d pm\" %3.30)"
   ]
  },
  {
   "cell_type": "markdown",
   "id": "f52a6b2c",
   "metadata": {},
   "source": [
    "**%d converts numbers to integer without rounding**"
   ]
  },
  {
   "cell_type": "code",
   "execution_count": 9,
   "id": "2caa39e2",
   "metadata": {},
   "outputs": [
    {
     "name": "stdout",
     "output_type": "stream",
     "text": [
      "Dear, Akinloye.\n"
     ]
    }
   ],
   "source": [
    "# format method\n",
    "\n",
    "print(\"Dear, {}.\".format(first_name))"
   ]
  },
  {
   "cell_type": "code",
   "execution_count": 11,
   "id": "e671e152",
   "metadata": {},
   "outputs": [
    {
     "name": "stdout",
     "output_type": "stream",
     "text": [
      "Hello Abisoye Akinloye Samson\n"
     ]
    }
   ],
   "source": [
    "print(\"Hello {} {} {}\".format(\"Abisoye\", \"Akinloye\", \"Samson\"))"
   ]
  },
  {
   "cell_type": "code",
   "execution_count": 13,
   "id": "3b4ee02b",
   "metadata": {},
   "outputs": [
    {
     "name": "stdout",
     "output_type": "stream",
     "text": [
      "Hello Akinloye Samson Abisoye\n"
     ]
    }
   ],
   "source": [
    "# indexing string format\n",
    "\n",
    "print(\"Hello {1} {2} {0}\".format('Abisoye','Akinloye','Samson'))"
   ]
  },
  {
   "cell_type": "code",
   "execution_count": 15,
   "id": "ec20977b",
   "metadata": {},
   "outputs": [
    {
     "name": "stdout",
     "output_type": "stream",
     "text": [
      "Akinloye is a Mechanical Engineering student.\n"
     ]
    }
   ],
   "source": [
    "# format sting with variable\n",
    "\n",
    "print('{Name} is a {M} {E} student.'.format(Name=\"Akinloye\", M=\"Mechanical\", E=\"Engineering\"))"
   ]
  },
  {
   "cell_type": "markdown",
   "id": "4bce0db0",
   "metadata": {},
   "source": [
    "### Float formatting\n",
    "\n",
    "* **{value:width.precision f}**\n",
    "* **Width is the amount of padding left (Whitespace)**"
   ]
  },
  {
   "cell_type": "code",
   "execution_count": 16,
   "id": "2326c629",
   "metadata": {},
   "outputs": [],
   "source": [
    "# floats formating\n",
    "\n",
    "mass = 0.25\n",
    "volume = 178\n",
    "\n",
    "density = mass / volume"
   ]
  },
  {
   "cell_type": "code",
   "execution_count": 17,
   "id": "efcdb230",
   "metadata": {},
   "outputs": [
    {
     "name": "stdout",
     "output_type": "stream",
     "text": [
      "Density is 0.0014044943820224719\n"
     ]
    }
   ],
   "source": [
    "print('Density is {d}'.format(d=density))"
   ]
  },
  {
   "cell_type": "code",
   "execution_count": 18,
   "id": "3253742b",
   "metadata": {},
   "outputs": [
    {
     "name": "stdout",
     "output_type": "stream",
     "text": [
      "Density is 0.0014\n"
     ]
    }
   ],
   "source": [
    "# to round off density to 4 decimal places\n",
    "\n",
    "print('Density is {d:1.4f}'.format(d=density))"
   ]
  },
  {
   "cell_type": "code",
   "execution_count": 19,
   "id": "54df0acd",
   "metadata": {},
   "outputs": [
    {
     "name": "stdout",
     "output_type": "stream",
     "text": [
      "3.14\n"
     ]
    }
   ],
   "source": [
    "# formating pi\n",
    "\n",
    "pi = 3.14159265359\n",
    "my_formatter = \"{0:.2f}\"\n",
    "output = my_formatter.format(pi)\n",
    "\n",
    "print(output)"
   ]
  },
  {
   "cell_type": "markdown",
   "id": "d62af9ac",
   "metadata": {},
   "source": [
    "### Alignment with `.format()`\n",
    "By default, `.format()` aligns **text to the left, numbers to the right**. You can pass an optional `<`,`^`, or `>` to set a left, center or right alignment:"
   ]
  },
  {
   "cell_type": "code",
   "execution_count": 34,
   "id": "272cd1ba",
   "metadata": {},
   "outputs": [
    {
     "name": "stdout",
     "output_type": "stream",
     "text": [
      "Name | Age | Sex\n",
      "Akinloye | 21 | male\n"
     ]
    }
   ],
   "source": [
    "# without alignment formating\n",
    "\n",
    "print('{} | {} | {}'.format('Name', 'Age', 'Sex'))\n",
    "print('{} | {} | {}'.format('Akinloye', '21', 'male'))"
   ]
  },
  {
   "cell_type": "code",
   "execution_count": 43,
   "id": "df46aa4d",
   "metadata": {
    "scrolled": true
   },
   "outputs": [
    {
     "name": "stdout",
     "output_type": "stream",
     "text": [
      "Name       |    Age     |       Sex\n",
      "Akinloye   |     21     |       Male\n",
      "Rachael    |     17     |     Female\n"
     ]
    }
   ],
   "source": [
    "# numbers after the alignment operators are the padding width\n",
    "\n",
    "print('{:<10} | {:^10} | {:>9}'.format('Name', 'Age', 'Sex'))\n",
    "print('{:<10} | {:^10} | {:>10}'.format('Akinloye', '21', 'Male'))\n",
    "print('{:<10} | {:^10} | {:>10}'.format('Rachael', '17', 'Female'))"
   ]
  },
  {
   "cell_type": "code",
   "execution_count": 44,
   "id": "1b266778",
   "metadata": {},
   "outputs": [
    {
     "name": "stdout",
     "output_type": "stream",
     "text": [
      "Name       |    Age     |       Sex\n",
      "Akinloye   |     21     |       Male\n",
      "Rachael    |     17     |     Female\n"
     ]
    }
   ],
   "source": [
    "# numbers after the alignment operators are the padding width\n",
    "\n",
    "print('{0:<10} | {1:^10} | {2:>9}'.format('Name', 'Age', 'Sex'))\n",
    "print('{0:<10} | {1:^10} | {2:>10}'.format('Akinloye', '21', 'Male'))\n",
    "print('{0:<10} | {1:^10} | {2:>10}'.format('Rachael', '17', 'Female'))"
   ]
  },
  {
   "cell_type": "code",
   "execution_count": 48,
   "id": "8d034cd1",
   "metadata": {},
   "outputs": [
    {
     "name": "stdout",
     "output_type": "stream",
     "text": [
      "Name       | ---Age---- |       Sex\n",
      "Akinloye   | ----21---- |       Male\n",
      "Rachael    | ----17---- |     Female\n"
     ]
    }
   ],
   "source": [
    "# You can add padding character\n",
    "\n",
    "print('{:<10} | {:-^10} | {:>9}'.format('Name', 'Age', 'Sex'))\n",
    "print('{:<10} | {:-^10} | {:>10}'.format('Akinloye', '21', 'Male'))\n",
    "print('{:<10} | {:-^10} | {:>10}'.format('Rachael', '17', 'Female'))"
   ]
  },
  {
   "cell_type": "markdown",
   "id": "ca97ff39",
   "metadata": {},
   "source": [
    "### f strings"
   ]
  },
  {
   "cell_type": "code",
   "execution_count": 10,
   "id": "2852908e",
   "metadata": {},
   "outputs": [
    {
     "name": "stdout",
     "output_type": "stream",
     "text": [
      "Dear, Mr. Akinloye.\n"
     ]
    }
   ],
   "source": [
    "# formatted sting literals (f strings)\n",
    "\n",
    "print(f'Dear, Mr. {first_name}.')"
   ]
  },
  {
   "cell_type": "markdown",
   "id": "8468e5a8",
   "metadata": {},
   "source": [
    "**Pass `!r` to get the string representation:**"
   ]
  },
  {
   "cell_type": "code",
   "execution_count": 49,
   "id": "c3e6e836",
   "metadata": {},
   "outputs": [
    {
     "name": "stdout",
     "output_type": "stream",
     "text": [
      "Dear, Mr. 'Akinloye'.\n"
     ]
    }
   ],
   "source": [
    "print(f'Dear, Mr. {first_name!r}.')"
   ]
  },
  {
   "cell_type": "markdown",
   "id": "26c50d12",
   "metadata": {},
   "source": [
    "# Lists \n",
    "\n",
    "* Ordered mutable Sequence\n",
    "* elements are called items\n",
    "* contain different data types and it can be nested."
   ]
  },
  {
   "cell_type": "code",
   "execution_count": 51,
   "id": "93e4031a",
   "metadata": {},
   "outputs": [],
   "source": [
    "number_list1 = ['one', 'two', 'three', 'four']\n",
    "number_list2 = ['five', 'six', 'seven', 'eight']"
   ]
  },
  {
   "cell_type": "code",
   "execution_count": 53,
   "id": "b443cdc2",
   "metadata": {},
   "outputs": [
    {
     "data": {
      "text/plain": [
       "['one', 'two', 'three', 'four', 'five', 'six', 'seven', 'eight']"
      ]
     },
     "execution_count": 53,
     "metadata": {},
     "output_type": "execute_result"
    }
   ],
   "source": [
    "joined_list = number_list1 + number_list2\n",
    "joined_list"
   ]
  },
  {
   "cell_type": "code",
   "execution_count": 54,
   "id": "61a47e6c",
   "metadata": {},
   "outputs": [
    {
     "data": {
      "text/plain": [
       "8"
      ]
     },
     "execution_count": 54,
     "metadata": {},
     "output_type": "execute_result"
    }
   ],
   "source": [
    "len(joined_list)"
   ]
  },
  {
   "cell_type": "code",
   "execution_count": 57,
   "id": "6022281d",
   "metadata": {},
   "outputs": [],
   "source": [
    "# Append: to add new item to the end of a list\n",
    "\n",
    "joined_list.append('nine')"
   ]
  },
  {
   "cell_type": "code",
   "execution_count": 56,
   "id": "55be000d",
   "metadata": {},
   "outputs": [
    {
     "data": {
      "text/plain": [
       "['one', 'two', 'three', 'four', 'five', 'six', 'seven', 'eight', 'nine']"
      ]
     },
     "execution_count": 56,
     "metadata": {},
     "output_type": "execute_result"
    }
   ],
   "source": [
    "joined_listned_list"
   ]
  },
  {
   "cell_type": "code",
   "execution_count": 58,
   "id": "783485de",
   "metadata": {},
   "outputs": [],
   "source": [
    "# Append: to add list inside a list\n",
    "\n",
    "joined_list.append(['ten',10])"
   ]
  },
  {
   "cell_type": "code",
   "execution_count": 59,
   "id": "d167c90f",
   "metadata": {},
   "outputs": [
    {
     "data": {
      "text/plain": [
       "['one',\n",
       " 'two',\n",
       " 'three',\n",
       " 'four',\n",
       " 'five',\n",
       " 'six',\n",
       " 'seven',\n",
       " 'eight',\n",
       " 'nine',\n",
       " 'nine',\n",
       " ['ten', 10]]"
      ]
     },
     "execution_count": 59,
     "metadata": {},
     "output_type": "execute_result"
    }
   ],
   "source": [
    "joined_list"
   ]
  },
  {
   "cell_type": "code",
   "execution_count": 85,
   "id": "19f6b94c",
   "metadata": {},
   "outputs": [
    {
     "data": {
      "text/plain": [
       "'twelve'"
      ]
     },
     "execution_count": 85,
     "metadata": {},
     "output_type": "execute_result"
    }
   ],
   "source": [
    "# POP: to remove element at a particular position\n",
    "# if not specified, it removes the last element\n",
    "\n",
    "joined_list.pop()"
   ]
  },
  {
   "cell_type": "code",
   "execution_count": 61,
   "id": "c7db16f5",
   "metadata": {},
   "outputs": [
    {
     "data": {
      "text/plain": [
       "['one',\n",
       " 'two',\n",
       " 'three',\n",
       " 'four',\n",
       " 'five',\n",
       " 'six',\n",
       " 'seven',\n",
       " 'eight',\n",
       " 'nine',\n",
       " 'nine']"
      ]
     },
     "execution_count": 61,
     "metadata": {},
     "output_type": "execute_result"
    }
   ],
   "source": [
    "joined_list"
   ]
  },
  {
   "cell_type": "code",
   "execution_count": 65,
   "id": "f09698f8",
   "metadata": {},
   "outputs": [
    {
     "data": {
      "text/plain": [
       "['two', 'three', 'four', 'five', 'six', 'seven', 'eight']"
      ]
     },
     "execution_count": 65,
     "metadata": {},
     "output_type": "execute_result"
    }
   ],
   "source": [
    "joined_list.pop(7)\n",
    "\n",
    "joined_list"
   ]
  },
  {
   "cell_type": "code",
   "execution_count": 86,
   "id": "51fc7a37",
   "metadata": {},
   "outputs": [
    {
     "data": {
      "text/plain": [
       "['one',\n",
       " 'two',\n",
       " 'three',\n",
       " 'four',\n",
       " 'five',\n",
       " 'six',\n",
       " 'seven',\n",
       " 'eight',\n",
       " 'nine',\n",
       " 'ten',\n",
       " 'eleven',\n",
       " 'twelve',\n",
       " 'ten',\n",
       " 'eleven']"
      ]
     },
     "execution_count": 86,
     "metadata": {},
     "output_type": "execute_result"
    }
   ],
   "source": [
    "# EXTEND: to append more than one element in the list\n",
    "\n",
    "joined_list.extend(['ten','eleven'])\n",
    "\n",
    "joined_list"
   ]
  },
  {
   "cell_type": "code",
   "execution_count": 83,
   "id": "86949c80",
   "metadata": {},
   "outputs": [
    {
     "data": {
      "text/plain": [
       "['two',\n",
       " 'three',\n",
       " 'four',\n",
       " 'five',\n",
       " 'six',\n",
       " 'seven',\n",
       " 'eight',\n",
       " 'nine',\n",
       " 'ten',\n",
       " 'eleven',\n",
       " 'twelve',\n",
       " 'twelve']"
      ]
     },
     "execution_count": 83,
     "metadata": {},
     "output_type": "execute_result"
    }
   ],
   "source": [
    "# Append alternative\n",
    "\n",
    "joined_list[len(joined_list):] = ['twelve']\n",
    "\n",
    "joined_list"
   ]
  },
  {
   "cell_type": "code",
   "execution_count": 84,
   "id": "96227722",
   "metadata": {
    "scrolled": true
   },
   "outputs": [
    {
     "data": {
      "text/plain": [
       "['one',\n",
       " 'two',\n",
       " 'three',\n",
       " 'four',\n",
       " 'five',\n",
       " 'six',\n",
       " 'seven',\n",
       " 'eight',\n",
       " 'nine',\n",
       " 'ten',\n",
       " 'eleven',\n",
       " 'twelve',\n",
       " 'twelve']"
      ]
     },
     "execution_count": 84,
     "metadata": {},
     "output_type": "execute_result"
    }
   ],
   "source": [
    "# INSERT \n",
    "\n",
    "joined_list.insert(0, 'one')\n",
    "\n",
    "joined_listned_list"
   ]
  },
  {
   "cell_type": "code",
   "execution_count": 87,
   "id": "bc807358",
   "metadata": {},
   "outputs": [],
   "source": [
    "# REMOVE : remove match string and all duplicates\n",
    "\n",
    "joined_list.remove('twelve')"
   ]
  },
  {
   "cell_type": "code",
   "execution_count": 88,
   "id": "24226b14",
   "metadata": {},
   "outputs": [
    {
     "data": {
      "text/plain": [
       "['one',\n",
       " 'two',\n",
       " 'three',\n",
       " 'four',\n",
       " 'five',\n",
       " 'six',\n",
       " 'seven',\n",
       " 'eight',\n",
       " 'nine',\n",
       " 'ten',\n",
       " 'eleven',\n",
       " 'ten',\n",
       " 'eleven']"
      ]
     },
     "execution_count": 88,
     "metadata": {},
     "output_type": "execute_result"
    }
   ],
   "source": [
    "joined_list"
   ]
  },
  {
   "cell_type": "markdown",
   "id": "9f3783eb",
   "metadata": {},
   "source": [
    "**Other List methods are:**\n",
    "\n",
    "1. Clear : to clear list elements\n",
    "2. count(x) : to count the number x appear in the list\n",
    "3. sort() : to sort list with the same data types. It doesn't output a result.\n",
    "4. reverse() : to reverse list elements. It doesn't output a result."
   ]
  },
  {
   "cell_type": "markdown",
   "id": "164d90e6",
   "metadata": {},
   "source": [
    "# Tuples\n",
    "\n",
    "* ordered immutable\n",
    "* once element is assigned, it cannot be reassigned."
   ]
  },
  {
   "cell_type": "code",
   "execution_count": 90,
   "id": "0d8b7e7d",
   "metadata": {},
   "outputs": [
    {
     "data": {
      "text/plain": [
       "(1, 2, 3, 4)"
      ]
     },
     "execution_count": 90,
     "metadata": {},
     "output_type": "execute_result"
    }
   ],
   "source": [
    "tup = (1,2,3,4)\n",
    "tup"
   ]
  },
  {
   "cell_type": "code",
   "execution_count": 93,
   "id": "93b4c7af",
   "metadata": {},
   "outputs": [],
   "source": [
    "tup2 = (1,3,4,3,2)"
   ]
  },
  {
   "cell_type": "code",
   "execution_count": 101,
   "id": "968b6767",
   "metadata": {},
   "outputs": [
    {
     "data": {
      "text/plain": [
       "1"
      ]
     },
     "execution_count": 101,
     "metadata": {},
     "output_type": "execute_result"
    }
   ],
   "source": [
    "tup[0]"
   ]
  },
  {
   "cell_type": "code",
   "execution_count": 96,
   "id": "b67431c5",
   "metadata": {},
   "outputs": [
    {
     "data": {
      "text/plain": [
       "(1, 2, 3, 4, 1, 3, 4, 3, 2)"
      ]
     },
     "execution_count": 96,
     "metadata": {},
     "output_type": "execute_result"
    }
   ],
   "source": [
    "# tuple can be added\n",
    "\n",
    "added_tuple = tup + tup2\n",
    "added_tuple"
   ]
  },
  {
   "cell_type": "code",
   "execution_count": 97,
   "id": "0c6abbdf",
   "metadata": {},
   "outputs": [
    {
     "data": {
      "text/plain": [
       "2"
      ]
     },
     "execution_count": 97,
     "metadata": {},
     "output_type": "execute_result"
    }
   ],
   "source": [
    "# Count: to count occurence\n",
    "\n",
    "added_tuple.count(4)"
   ]
  },
  {
   "cell_type": "code",
   "execution_count": 99,
   "id": "d4cd8e71",
   "metadata": {},
   "outputs": [
    {
     "data": {
      "text/plain": [
       "3"
      ]
     },
     "execution_count": 99,
     "metadata": {},
     "output_type": "execute_result"
    }
   ],
   "source": [
    "# Index: to find position of first occurence\n",
    "\n",
    "added_tuple.index(4)"
   ]
  },
  {
   "cell_type": "code",
   "execution_count": 100,
   "id": "75f103f3",
   "metadata": {},
   "outputs": [],
   "source": [
    "# Del: to delete tuple\n",
    "\n",
    "del tup2"
   ]
  },
  {
   "cell_type": "markdown",
   "id": "5909c0bd",
   "metadata": {},
   "source": [
    "# Sets\n",
    "\n",
    "* Unordered collection of **Unique** elements\n",
    "* Unique: duplicate items are not allowed.\n",
    "* Mutable: can grow or shrink on demand"
   ]
  },
  {
   "cell_type": "code",
   "execution_count": 1,
   "id": "dcc40541",
   "metadata": {},
   "outputs": [],
   "source": [
    "my_set = set()"
   ]
  },
  {
   "cell_type": "code",
   "execution_count": 2,
   "id": "0aa7e529",
   "metadata": {},
   "outputs": [
    {
     "data": {
      "text/plain": [
       "set()"
      ]
     },
     "execution_count": 2,
     "metadata": {},
     "output_type": "execute_result"
    }
   ],
   "source": [
    "my_set"
   ]
  },
  {
   "cell_type": "code",
   "execution_count": 3,
   "id": "60870f42",
   "metadata": {},
   "outputs": [],
   "source": [
    "my_set.add(1)"
   ]
  },
  {
   "cell_type": "code",
   "execution_count": 4,
   "id": "7346a45d",
   "metadata": {},
   "outputs": [
    {
     "data": {
      "text/plain": [
       "{1}"
      ]
     },
     "execution_count": 4,
     "metadata": {},
     "output_type": "execute_result"
    }
   ],
   "source": [
    "my_set"
   ]
  },
  {
   "cell_type": "code",
   "execution_count": 5,
   "id": "8f628121",
   "metadata": {},
   "outputs": [],
   "source": [
    "my_set.add(2)"
   ]
  },
  {
   "cell_type": "code",
   "execution_count": 7,
   "id": "2419c7b4",
   "metadata": {},
   "outputs": [
    {
     "data": {
      "text/plain": [
       "{1, 2}"
      ]
     },
     "execution_count": 7,
     "metadata": {},
     "output_type": "execute_result"
    }
   ],
   "source": [
    "my_set"
   ]
  },
  {
   "cell_type": "code",
   "execution_count": 8,
   "id": "9a1d3211",
   "metadata": {},
   "outputs": [
    {
     "data": {
      "text/plain": [
       "{1, 2}"
      ]
     },
     "execution_count": 8,
     "metadata": {},
     "output_type": "execute_result"
    }
   ],
   "source": [
    "# the elements are unique i.e no repition\n",
    "\n",
    "my_set.add(2)\n",
    "my_set"
   ]
  },
  {
   "cell_type": "code",
   "execution_count": 12,
   "id": "812a25b4",
   "metadata": {},
   "outputs": [],
   "source": [
    "my_list = [1,1,1,1,1,2,2,2,2,3,3,3,3,3]"
   ]
  },
  {
   "cell_type": "code",
   "execution_count": 13,
   "id": "e5729e4b",
   "metadata": {},
   "outputs": [
    {
     "data": {
      "text/plain": [
       "{1, 2, 3}"
      ]
     },
     "execution_count": 13,
     "metadata": {},
     "output_type": "execute_result"
    }
   ],
   "source": [
    "set(my_list)"
   ]
  },
  {
   "cell_type": "markdown",
   "id": "bc365427",
   "metadata": {},
   "source": [
    "### Set Operation\n",
    "\n",
    "* Used for computing mathematical expression e.g intersection, union, difference and symmetric difference"
   ]
  },
  {
   "cell_type": "code",
   "execution_count": 9,
   "id": "6f489625",
   "metadata": {},
   "outputs": [],
   "source": [
    "A = {1,2,3,4}\n",
    "B = {2,4,6,8}"
   ]
  },
  {
   "cell_type": "code",
   "execution_count": 10,
   "id": "29481543",
   "metadata": {},
   "outputs": [
    {
     "data": {
      "text/plain": [
       "{1, 2, 3, 4, 6, 8}"
      ]
     },
     "execution_count": 10,
     "metadata": {},
     "output_type": "execute_result"
    }
   ],
   "source": [
    "# Union\n",
    "\n",
    "A | B"
   ]
  },
  {
   "cell_type": "code",
   "execution_count": 11,
   "id": "9aa8fe53",
   "metadata": {},
   "outputs": [
    {
     "data": {
      "text/plain": [
       "{2, 4}"
      ]
     },
     "execution_count": 11,
     "metadata": {},
     "output_type": "execute_result"
    }
   ],
   "source": [
    "# Intersection\n",
    "\n",
    "A & B"
   ]
  },
  {
   "cell_type": "code",
   "execution_count": 16,
   "id": "315f821e",
   "metadata": {},
   "outputs": [
    {
     "data": {
      "text/plain": [
       "{1, 3}"
      ]
     },
     "execution_count": 16,
     "metadata": {},
     "output_type": "execute_result"
    }
   ],
   "source": [
    "# Difference: subtract intersecting elements in B from A\n",
    "\n",
    "A - B"
   ]
  },
  {
   "cell_type": "code",
   "execution_count": 17,
   "id": "670c7c41",
   "metadata": {},
   "outputs": [
    {
     "data": {
      "text/plain": [
       "{1, 3, 6, 8}"
      ]
     },
     "execution_count": 17,
     "metadata": {},
     "output_type": "execute_result"
    }
   ],
   "source": [
    "# Symetrical difference: eliminate intercept from A and B then output remaining\n",
    "\n",
    "A ^ B"
   ]
  },
  {
   "cell_type": "code",
   "execution_count": 20,
   "id": "21383c88",
   "metadata": {},
   "outputs": [
    {
     "data": {
      "text/plain": [
       "False"
      ]
     },
     "execution_count": 20,
     "metadata": {},
     "output_type": "execute_result"
    }
   ],
   "source": [
    "# Subset\n",
    "\n",
    "A.issubset(B)"
   ]
  },
  {
   "cell_type": "code",
   "execution_count": 21,
   "id": "a530f692",
   "metadata": {},
   "outputs": [
    {
     "data": {
      "text/plain": [
       "True"
      ]
     },
     "execution_count": 21,
     "metadata": {},
     "output_type": "execute_result"
    }
   ],
   "source": [
    "# Superset\n",
    "\n",
    "B.issuperset(B)"
   ]
  },
  {
   "cell_type": "markdown",
   "id": "f9c0c309",
   "metadata": {},
   "source": [
    "# Dictionaries\n",
    "\n",
    "* **generally known as associative array, hashes or hashmap**\n",
    "\n",
    "* **Unordered mapping for storing objects**\n",
    "\n",
    "* **It uses a key-value pair**\n",
    "\n",
    "* **{\"key\" : \"value\"}**"
   ]
  },
  {
   "cell_type": "code",
   "execution_count": 22,
   "id": "a9940555",
   "metadata": {},
   "outputs": [],
   "source": [
    "biodata = {\n",
    "    \"name\": \"Abisoye Akinloye\",\n",
    "    \"Department\": \"Mechanical Engineering\",\n",
    "    \"level\": 400\n",
    "}"
   ]
  },
  {
   "cell_type": "code",
   "execution_count": 23,
   "id": "d68c43fd",
   "metadata": {},
   "outputs": [
    {
     "data": {
      "text/plain": [
       "{'name': 'Abisoye Akinloye',\n",
       " 'Department': 'Mechanical Engineering',\n",
       " 'level': 400}"
      ]
     },
     "execution_count": 23,
     "metadata": {},
     "output_type": "execute_result"
    }
   ],
   "source": [
    "biodata"
   ]
  },
  {
   "cell_type": "code",
   "execution_count": 25,
   "id": "ae12a0e4",
   "metadata": {},
   "outputs": [
    {
     "data": {
      "text/plain": [
       "'Abisoye Akinloye'"
      ]
     },
     "execution_count": 25,
     "metadata": {},
     "output_type": "execute_result"
    }
   ],
   "source": [
    "# accessing dictionary\n",
    "\n",
    "biodata['name']"
   ]
  },
  {
   "cell_type": "markdown",
   "id": "e46f641b",
   "metadata": {},
   "source": [
    "**Just in case key isn't present in the dict use get() to avoid exception** "
   ]
  },
  {
   "cell_type": "code",
   "execution_count": 26,
   "id": "759b9db1",
   "metadata": {},
   "outputs": [
    {
     "ename": "KeyError",
     "evalue": "'sex'",
     "output_type": "error",
     "traceback": [
      "\u001b[1;31m---------------------------------------------------------------------------\u001b[0m",
      "\u001b[1;31mKeyError\u001b[0m                                  Traceback (most recent call last)",
      "\u001b[1;32m<ipython-input-26-1c5186f518e0>\u001b[0m in \u001b[0;36m<module>\u001b[1;34m\u001b[0m\n\u001b[1;32m----> 1\u001b[1;33m \u001b[0mbiodata\u001b[0m\u001b[1;33m[\u001b[0m\u001b[1;34m'sex'\u001b[0m\u001b[1;33m]\u001b[0m\u001b[1;33m\u001b[0m\u001b[1;33m\u001b[0m\u001b[0m\n\u001b[0m",
      "\u001b[1;31mKeyError\u001b[0m: 'sex'"
     ]
    }
   ],
   "source": [
    "biodata['sex']"
   ]
  },
  {
   "cell_type": "code",
   "execution_count": 28,
   "id": "94cab5aa",
   "metadata": {},
   "outputs": [],
   "source": [
    "biodata.get('sex')\n",
    "\n",
    "# it will return None if not present"
   ]
  },
  {
   "cell_type": "code",
   "execution_count": 31,
   "id": "faacd681",
   "metadata": {},
   "outputs": [],
   "source": [
    "# adding to the dictionary\n",
    "\n",
    "biodata['sex'] = 'Male'"
   ]
  },
  {
   "cell_type": "code",
   "execution_count": 32,
   "id": "f9d00fac",
   "metadata": {},
   "outputs": [
    {
     "data": {
      "text/plain": [
       "{'name': 'Abisoye Akinloye',\n",
       " 'Department': 'Mechanical Engineering',\n",
       " 'level': 400,\n",
       " 'sex': 'Male'}"
      ]
     },
     "execution_count": 32,
     "metadata": {},
     "output_type": "execute_result"
    }
   ],
   "source": [
    "biodata"
   ]
  },
  {
   "cell_type": "code",
   "execution_count": 34,
   "id": "9211c22c",
   "metadata": {},
   "outputs": [],
   "source": [
    "biodata['name'] = \"Abisoye Akinloye Samson\""
   ]
  },
  {
   "cell_type": "code",
   "execution_count": 35,
   "id": "b9e758fa",
   "metadata": {},
   "outputs": [
    {
     "data": {
      "text/plain": [
       "dict_keys(['name', 'Department', 'level', 'sex'])"
      ]
     },
     "execution_count": 35,
     "metadata": {},
     "output_type": "execute_result"
    }
   ],
   "source": [
    "# accessing all keys\n",
    "\n",
    "biodata.keys()"
   ]
  },
  {
   "cell_type": "code",
   "execution_count": 37,
   "id": "d3e8baf8",
   "metadata": {},
   "outputs": [
    {
     "data": {
      "text/plain": [
       "dict_values(['Abisoye Akinloye Samson', 'Mechanical Engineering', 400, 'Male'])"
      ]
     },
     "execution_count": 37,
     "metadata": {},
     "output_type": "execute_result"
    }
   ],
   "source": [
    "# accessing all values\n",
    "\n",
    "biodata.values()"
   ]
  },
  {
   "cell_type": "code",
   "execution_count": 38,
   "id": "a563de1e",
   "metadata": {},
   "outputs": [
    {
     "data": {
      "text/plain": [
       "dict_items([('name', 'Abisoye Akinloye Samson'), ('Department', 'Mechanical Engineering'), ('level', 400), ('sex', 'Male')])"
      ]
     },
     "execution_count": 38,
     "metadata": {},
     "output_type": "execute_result"
    }
   ],
   "source": [
    "# accessing all items\n",
    "\n",
    "biodata.items()"
   ]
  },
  {
   "cell_type": "markdown",
   "id": "cde61a13",
   "metadata": {},
   "source": [
    "**use `dict()` function along with the `zip()` function to combine separate list of key-value**"
   ]
  },
  {
   "cell_type": "code",
   "execution_count": 39,
   "id": "b29b8034",
   "metadata": {},
   "outputs": [],
   "source": [
    "keys = ['name', 'department', 'level']\n",
    "values = ['Abisoye', 'Mechanical', 400]"
   ]
  },
  {
   "cell_type": "code",
   "execution_count": 40,
   "id": "78d43888",
   "metadata": {},
   "outputs": [],
   "source": [
    "student_data = dict(zip(keys,values))"
   ]
  },
  {
   "cell_type": "code",
   "execution_count": 41,
   "id": "88876dbf",
   "metadata": {},
   "outputs": [
    {
     "data": {
      "text/plain": [
       "{'name': 'Abisoye', 'department': 'Mechanical', 'level': 400}"
      ]
     },
     "execution_count": 41,
     "metadata": {},
     "output_type": "execute_result"
    }
   ],
   "source": [
    "student_data"
   ]
  },
  {
   "cell_type": "markdown",
   "id": "6b0b23a9",
   "metadata": {},
   "source": [
    "# Booleans\n",
    "\n",
    "* True or False\n",
    "* use for control Flow and Logic"
   ]
  },
  {
   "cell_type": "code",
   "execution_count": 42,
   "id": "dea9faa8",
   "metadata": {},
   "outputs": [
    {
     "data": {
      "text/plain": [
       "False"
      ]
     },
     "execution_count": 42,
     "metadata": {},
     "output_type": "execute_result"
    }
   ],
   "source": [
    "1 > 2"
   ]
  },
  {
   "cell_type": "code",
   "execution_count": 43,
   "id": "786cb4d9",
   "metadata": {},
   "outputs": [
    {
     "data": {
      "text/plain": [
       "True"
      ]
     },
     "execution_count": 43,
     "metadata": {},
     "output_type": "execute_result"
    }
   ],
   "source": [
    "1 == 1"
   ]
  },
  {
   "cell_type": "markdown",
   "id": "4911a6d8",
   "metadata": {},
   "source": [
    "# Files"
   ]
  },
  {
   "cell_type": "markdown",
   "id": "0323ec52",
   "metadata": {},
   "source": [
    "To create and write into file use `%%writefile`. N.B: Don't add comment on top"
   ]
  },
  {
   "cell_type": "code",
   "execution_count": 60,
   "id": "187d274e",
   "metadata": {},
   "outputs": [
    {
     "name": "stdout",
     "output_type": "stream",
     "text": [
      "Writing text.txt\n"
     ]
    }
   ],
   "source": [
    "%%writefile text.txt\n",
    "hello, i just started learning\n",
    "how to create a txt file and write\n",
    "into it with jupyter notebook"
   ]
  },
  {
   "cell_type": "code",
   "execution_count": 2,
   "id": "69d43b5a",
   "metadata": {},
   "outputs": [],
   "source": [
    "text = open('text.txt')"
   ]
  },
  {
   "cell_type": "code",
   "execution_count": 65,
   "id": "23420558",
   "metadata": {},
   "outputs": [
    {
     "data": {
      "text/plain": [
       "'hello, i just started learning\\nhow to create a txt file and write\\ninto it with jupyter notebook\\n'"
      ]
     },
     "execution_count": 65,
     "metadata": {},
     "output_type": "execute_result"
    }
   ],
   "source": [
    "text.read()"
   ]
  },
  {
   "cell_type": "code",
   "execution_count": 66,
   "id": "3db7354d",
   "metadata": {},
   "outputs": [
    {
     "data": {
      "text/plain": [
       "''"
      ]
     },
     "execution_count": 66,
     "metadata": {},
     "output_type": "execute_result"
    }
   ],
   "source": [
    "text.read()"
   ]
  },
  {
   "cell_type": "markdown",
   "id": "67179b45",
   "metadata": {},
   "source": [
    "**`text.read()` give empty output because it is as if the cursor is at the last word**\n",
    "\n",
    "**use `.seek()` to reset the position to the bigining of the first word**"
   ]
  },
  {
   "cell_type": "code",
   "execution_count": 70,
   "id": "c5f8318f",
   "metadata": {},
   "outputs": [
    {
     "data": {
      "text/plain": [
       "0"
      ]
     },
     "execution_count": 70,
     "metadata": {},
     "output_type": "execute_result"
    }
   ],
   "source": [
    "text.seek(0)"
   ]
  },
  {
   "cell_type": "code",
   "execution_count": 69,
   "id": "15653406",
   "metadata": {},
   "outputs": [
    {
     "data": {
      "text/plain": [
       "'hello, i just started learning\\nhow to create a txt file and write\\ninto it with jupyter notebook\\n'"
      ]
     },
     "execution_count": 69,
     "metadata": {},
     "output_type": "execute_result"
    }
   ],
   "source": [
    "text.read()"
   ]
  },
  {
   "cell_type": "code",
   "execution_count": 64,
   "id": "005d2cc2",
   "metadata": {},
   "outputs": [
    {
     "data": {
      "text/plain": [
       "'C:\\\\Users\\\\Hp\\\\Documents\\\\Python Scripts'"
      ]
     },
     "execution_count": 64,
     "metadata": {},
     "output_type": "execute_result"
    }
   ],
   "source": [
    "pwd"
   ]
  },
  {
   "cell_type": "markdown",
   "id": "6145e794",
   "metadata": {},
   "source": [
    "**Readlines then turned to a list**"
   ]
  },
  {
   "cell_type": "code",
   "execution_count": 71,
   "id": "d5bb6969",
   "metadata": {},
   "outputs": [
    {
     "data": {
      "text/plain": [
       "['hello, i just started learning\\n',\n",
       " 'how to create a txt file and write\\n',\n",
       " 'into it with jupyter notebook\\n']"
      ]
     },
     "execution_count": 71,
     "metadata": {},
     "output_type": "execute_result"
    }
   ],
   "source": [
    "text.readlines()"
   ]
  },
  {
   "cell_type": "markdown",
   "id": "ef9ad3d5",
   "metadata": {},
   "source": [
    "### File location\n",
    "\n",
    "**N.B: For windows use double \\ so that python doesn't treat it as escape character**"
   ]
  },
  {
   "cell_type": "code",
   "execution_count": 3,
   "id": "cef7a645",
   "metadata": {},
   "outputs": [],
   "source": [
    "text.close()"
   ]
  },
  {
   "cell_type": "code",
   "execution_count": 4,
   "id": "218294fb",
   "metadata": {},
   "outputs": [],
   "source": [
    "with open('text.txt') as text:\n",
    "    contents = text.read()"
   ]
  },
  {
   "cell_type": "code",
   "execution_count": 6,
   "id": "4502515a",
   "metadata": {},
   "outputs": [
    {
     "data": {
      "text/plain": [
       "'hello, i just started learning\\nhow to create a txt file and write\\ninto it with jupyter notebook\\n'"
      ]
     },
     "execution_count": 6,
     "metadata": {},
     "output_type": "execute_result"
    }
   ],
   "source": [
    "contents"
   ]
  },
  {
   "cell_type": "code",
   "execution_count": 7,
   "id": "87226c60",
   "metadata": {},
   "outputs": [],
   "source": [
    "with open('text.txt', mode='r') as text:\n",
    "    contents = text.read()\n",
    "    \n",
    "# r - read, w - write, a - append "
   ]
  },
  {
   "cell_type": "code",
   "execution_count": 8,
   "id": "d4d42b43",
   "metadata": {},
   "outputs": [
    {
     "data": {
      "text/plain": [
       "'hello, i just started learning\\nhow to create a txt file and write\\ninto it with jupyter notebook\\n'"
      ]
     },
     "execution_count": 8,
     "metadata": {},
     "output_type": "execute_result"
    }
   ],
   "source": [
    "contents"
   ]
  },
  {
   "cell_type": "markdown",
   "id": "a77d8601",
   "metadata": {},
   "source": [
    "### Reading, Writing, Appending Modes\n",
    "\n",
    "* **mode='r'** is read only\n",
    "* **mode ='w'** is write only (will overwrite files or create new)\n",
    "* **mode='a'** is to append only ( will add on to files)\n",
    "* **mode='r+'** is reading and writing\n",
    "* **mode='w+'** is writing and reading (Overwrite existing files or creates a new file!)"
   ]
  },
  {
   "cell_type": "code",
   "execution_count": 9,
   "id": "02691344",
   "metadata": {},
   "outputs": [
    {
     "name": "stdout",
     "output_type": "stream",
     "text": [
      "Writing dummy_text.txt\n"
     ]
    }
   ],
   "source": [
    "%%writefile dummy_text.txt\n",
    "the line one stays here\n",
    "then line two\n",
    "followed by line three"
   ]
  },
  {
   "cell_type": "code",
   "execution_count": 10,
   "id": "3f3daf71",
   "metadata": {},
   "outputs": [],
   "source": [
    "with open('dummy_text.txt') as dummy_text:\n",
    "    contents = dummy_text.read()"
   ]
  },
  {
   "cell_type": "code",
   "execution_count": 11,
   "id": "dddac422",
   "metadata": {},
   "outputs": [
    {
     "name": "stdout",
     "output_type": "stream",
     "text": [
      "the line one stays here\n",
      "then line two\n",
      "followed by line three\n",
      "\n"
     ]
    }
   ],
   "source": [
    "print(contents)"
   ]
  },
  {
   "cell_type": "code",
   "execution_count": 12,
   "id": "a9482a84",
   "metadata": {},
   "outputs": [],
   "source": [
    "with open('dummy_text.txt', mode='a') as dummy_text:\n",
    "    dummy_text.write('I appended line four')"
   ]
  },
  {
   "cell_type": "code",
   "execution_count": 15,
   "id": "0698db3f",
   "metadata": {},
   "outputs": [
    {
     "name": "stdout",
     "output_type": "stream",
     "text": [
      "the line one stays here\n",
      "then line two\n",
      "followed by line three\n",
      "I appended line four\n"
     ]
    }
   ],
   "source": [
    "with open('dummy_text.txt') as dummy_text:\n",
    "    print(dummy_text.read())"
   ]
  },
  {
   "cell_type": "code",
   "execution_count": 16,
   "id": "a9056210",
   "metadata": {},
   "outputs": [],
   "source": [
    "with open('demo.txt', mode='w') as demo:\n",
    "    demo.write('I created this file.')"
   ]
  },
  {
   "cell_type": "code",
   "execution_count": 17,
   "id": "7ed09928",
   "metadata": {},
   "outputs": [
    {
     "name": "stdout",
     "output_type": "stream",
     "text": [
      "I created this file.\n"
     ]
    }
   ],
   "source": [
    "with open('demo.txt', mode='r') as demo:\n",
    "    print(demo.read())"
   ]
  },
  {
   "cell_type": "code",
   "execution_count": null,
   "id": "2d71c285",
   "metadata": {},
   "outputs": [],
   "source": []
  }
 ],
 "metadata": {
  "kernelspec": {
   "display_name": "Python 3",
   "language": "python",
   "name": "python3"
  },
  "language_info": {
   "codemirror_mode": {
    "name": "ipython",
    "version": 3
   },
   "file_extension": ".py",
   "mimetype": "text/x-python",
   "name": "python",
   "nbconvert_exporter": "python",
   "pygments_lexer": "ipython3",
   "version": "3.8.8"
  }
 },
 "nbformat": 4,
 "nbformat_minor": 5
}
