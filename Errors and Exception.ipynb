{
 "cells": [
  {
   "cell_type": "markdown",
   "id": "765d89f2",
   "metadata": {},
   "source": [
    "# Errors and Exception handling\n",
    "\n",
    "* **Errors are bound to happen in program.**\n",
    "* **Error handling attempt to plan for possible errors.**\n",
    "* **When error is encountered in a code, the code stops but handling error helps the code to run even with the error**\n",
    "\n",
    "## Keywords\n",
    "\n",
    "1. **TRY : This is the block of code to be attempted (may lead to an error).**\n",
    "\n",
    "\n",
    "2. **EXCEPT : Block of code will execute in case there is an error in try block.**\n",
    "\n",
    "\n",
    "3. **FINALLY : A final block of code to be executed, regardless of an error.**"
   ]
  },
  {
   "cell_type": "code",
   "execution_count": 4,
   "id": "70251ff4",
   "metadata": {},
   "outputs": [
    {
     "name": "stdout",
     "output_type": "stream",
     "text": [
      "Enter the second number: 6\n"
     ]
    },
    {
     "ename": "TypeError",
     "evalue": "unsupported operand type(s) for +: 'int' and 'str'",
     "output_type": "error",
     "traceback": [
      "\u001b[1;31m---------------------------------------------------------------------------\u001b[0m",
      "\u001b[1;31mTypeError\u001b[0m                                 Traceback (most recent call last)",
      "\u001b[1;32m<ipython-input-4-a8cd0028b674>\u001b[0m in \u001b[0;36m<module>\u001b[1;34m\u001b[0m\n\u001b[0;32m      4\u001b[0m     \u001b[1;32mreturn\u001b[0m \u001b[0mnum1\u001b[0m \u001b[1;33m+\u001b[0m \u001b[0mnum2\u001b[0m\u001b[1;33m\u001b[0m\u001b[1;33m\u001b[0m\u001b[0m\n\u001b[0;32m      5\u001b[0m \u001b[1;33m\u001b[0m\u001b[0m\n\u001b[1;32m----> 6\u001b[1;33m \u001b[0madd\u001b[0m\u001b[1;33m(\u001b[0m\u001b[0mnum1\u001b[0m\u001b[1;33m,\u001b[0m\u001b[0mnum2\u001b[0m\u001b[1;33m)\u001b[0m\u001b[1;33m\u001b[0m\u001b[1;33m\u001b[0m\u001b[0m\n\u001b[0m\u001b[0;32m      7\u001b[0m \u001b[1;33m\u001b[0m\u001b[0m\n\u001b[0;32m      8\u001b[0m \u001b[0mprint\u001b[0m\u001b[1;33m(\u001b[0m\u001b[1;34m\"Error occured!!!\"\u001b[0m\u001b[1;33m)\u001b[0m\u001b[1;33m\u001b[0m\u001b[1;33m\u001b[0m\u001b[0m\n",
      "\u001b[1;32m<ipython-input-4-a8cd0028b674>\u001b[0m in \u001b[0;36madd\u001b[1;34m(num1, num2)\u001b[0m\n\u001b[0;32m      2\u001b[0m \u001b[0mnum2\u001b[0m \u001b[1;33m=\u001b[0m \u001b[0minput\u001b[0m\u001b[1;33m(\u001b[0m\u001b[1;34m\"Enter the second number: \"\u001b[0m\u001b[1;33m)\u001b[0m\u001b[1;33m\u001b[0m\u001b[1;33m\u001b[0m\u001b[0m\n\u001b[0;32m      3\u001b[0m \u001b[1;32mdef\u001b[0m \u001b[0madd\u001b[0m\u001b[1;33m(\u001b[0m\u001b[0mnum1\u001b[0m\u001b[1;33m,\u001b[0m\u001b[0mnum2\u001b[0m\u001b[1;33m)\u001b[0m\u001b[1;33m:\u001b[0m\u001b[1;33m\u001b[0m\u001b[1;33m\u001b[0m\u001b[0m\n\u001b[1;32m----> 4\u001b[1;33m     \u001b[1;32mreturn\u001b[0m \u001b[0mnum1\u001b[0m \u001b[1;33m+\u001b[0m \u001b[0mnum2\u001b[0m\u001b[1;33m\u001b[0m\u001b[1;33m\u001b[0m\u001b[0m\n\u001b[0m\u001b[0;32m      5\u001b[0m \u001b[1;33m\u001b[0m\u001b[0m\n\u001b[0;32m      6\u001b[0m \u001b[0madd\u001b[0m\u001b[1;33m(\u001b[0m\u001b[0mnum1\u001b[0m\u001b[1;33m,\u001b[0m\u001b[0mnum2\u001b[0m\u001b[1;33m)\u001b[0m\u001b[1;33m\u001b[0m\u001b[1;33m\u001b[0m\u001b[0m\n",
      "\u001b[1;31mTypeError\u001b[0m: unsupported operand type(s) for +: 'int' and 'str'"
     ]
    }
   ],
   "source": [
    "num1 = 2\n",
    "num2 = input(\"Enter the second number: \")\n",
    "def add(num1,num2):\n",
    "    return num1 + num2\n",
    "    \n",
    "add(num1,num2)\n",
    "\n",
    "print(\"Error occured!!!\")"
   ]
  },
  {
   "cell_type": "code",
   "execution_count": 5,
   "id": "1c92501d",
   "metadata": {},
   "outputs": [
    {
     "name": "stdout",
     "output_type": "stream",
     "text": [
      "Enter the second number: 6\n",
      "Error occured!!!\n"
     ]
    }
   ],
   "source": [
    "num1 = 2\n",
    "num2 = input(\"Enter the second number: \")\n",
    "try:\n",
    "    def add(num1,num2):\n",
    "        return num1 + num2\n",
    "    \n",
    "    add(num1,num2)\n",
    "except:\n",
    "    print(\"Error occured!!!\")"
   ]
  },
  {
   "cell_type": "markdown",
   "id": "b110e435",
   "metadata": {},
   "source": [
    "* **TODO: Look up python ErrorTypes**"
   ]
  },
  {
   "cell_type": "code",
   "execution_count": 11,
   "id": "8cd5ec10",
   "metadata": {},
   "outputs": [],
   "source": [
    "def input_integer():\n",
    "    try:\n",
    "        result = int(input('Enter a number: '))\n",
    "    except ValueError:\n",
    "        print(\"Not a number\")\n",
    "    finally:\n",
    "        print('End of try/except/finally')"
   ]
  },
  {
   "cell_type": "code",
   "execution_count": 9,
   "id": "3c75d97e",
   "metadata": {},
   "outputs": [
    {
     "name": "stdout",
     "output_type": "stream",
     "text": [
      "Enter a number: 4\n",
      "End of try/except/finally\n"
     ]
    }
   ],
   "source": [
    "input_integer()"
   ]
  },
  {
   "cell_type": "code",
   "execution_count": 12,
   "id": "cf8e8105",
   "metadata": {},
   "outputs": [
    {
     "name": "stdout",
     "output_type": "stream",
     "text": [
      "Enter a number: word\n",
      "Not a number\n",
      "End of try/except/finally\n"
     ]
    }
   ],
   "source": [
    "input_integer()"
   ]
  },
  {
   "cell_type": "code",
   "execution_count": 13,
   "id": "863d284d",
   "metadata": {},
   "outputs": [],
   "source": [
    "def input_integer():\n",
    "    \n",
    "    while True:\n",
    "        try:\n",
    "            result = int(input('Enter a number: '))\n",
    "        except ValueError:\n",
    "            print(\"Not a number\")\n",
    "            continue\n",
    "        else:\n",
    "            print(\"Correct number inputted\")\n",
    "            break\n",
    "        finally:\n",
    "            print('End of try/except/finally')"
   ]
  },
  {
   "cell_type": "code",
   "execution_count": 14,
   "id": "8149f652",
   "metadata": {},
   "outputs": [
    {
     "name": "stdout",
     "output_type": "stream",
     "text": [
      "Enter a number: 2\n",
      "Correct number inputted\n",
      "End of try/except/finally\n"
     ]
    }
   ],
   "source": [
    "input_integer()"
   ]
  },
  {
   "cell_type": "code",
   "execution_count": 15,
   "id": "80e4288b",
   "metadata": {},
   "outputs": [
    {
     "name": "stdout",
     "output_type": "stream",
     "text": [
      "Enter a number: word\n",
      "Not a number\n",
      "End of try/except/finally\n",
      "Enter a number: 3\n",
      "Correct number inputted\n",
      "End of try/except/finally\n"
     ]
    }
   ],
   "source": [
    "input_integer()"
   ]
  },
  {
   "cell_type": "markdown",
   "id": "1944575d",
   "metadata": {},
   "source": [
    "### Exercise"
   ]
  },
  {
   "cell_type": "markdown",
   "id": "8157739c",
   "metadata": {},
   "source": [
    "**1. Handle the exception thrown by the code by using try and except blocks**"
   ]
  },
  {
   "cell_type": "code",
   "execution_count": 4,
   "id": "cdee168c",
   "metadata": {},
   "outputs": [
    {
     "name": "stdout",
     "output_type": "stream",
     "text": [
      "Square of alphabets is not possible...\n"
     ]
    }
   ],
   "source": [
    "try: \n",
    "    for i in ['a','b','c']:\n",
    "        print(i**2)\n",
    "\n",
    "except TypeError:\n",
    "    print('Square of alphabets is not possible...')"
   ]
  },
  {
   "cell_type": "markdown",
   "id": "45197221",
   "metadata": {},
   "source": [
    "**2. Handle the exception thrown by the code below by using try and except blocks. Then use a finally block to print 'All Done'**"
   ]
  },
  {
   "cell_type": "code",
   "execution_count": 6,
   "id": "f0b99077",
   "metadata": {},
   "outputs": [
    {
     "name": "stdout",
     "output_type": "stream",
     "text": [
      "Cannot divide\n",
      "All done...\n"
     ]
    }
   ],
   "source": [
    "x = 5\n",
    "y = 0\n",
    "\n",
    "try:\n",
    "    z = x/y\n",
    "    print(z)\n",
    "except ZeroDivisionError:\n",
    "    print('Cannot divide')\n",
    "finally:\n",
    "    print('All done...')"
   ]
  },
  {
   "cell_type": "markdown",
   "id": "52ffd62a",
   "metadata": {},
   "source": [
    "**3. Write a function that ask for an integer and prints the square of it. Use while loop with try, except, else block to account for incorrect input.**"
   ]
  },
  {
   "cell_type": "code",
   "execution_count": 6,
   "id": "c6716ee4",
   "metadata": {},
   "outputs": [],
   "source": [
    "def ask():\n",
    "    while True:\n",
    "        num = input('Enter an integer: ')\n",
    "        try:\n",
    "            print(int(num)**2)\n",
    "        except:\n",
    "            print(\"Incorrect input. Enter an integer \\n\")\n",
    "            continue\n",
    "        else:\n",
    "            print(\"All done!!!\")\n",
    "            break"
   ]
  },
  {
   "cell_type": "code",
   "execution_count": 7,
   "id": "52114f87",
   "metadata": {},
   "outputs": [
    {
     "name": "stdout",
     "output_type": "stream",
     "text": [
      "Enter an integer: s\n",
      "Incorrect input. Enter an integer \n",
      "\n",
      "Enter an integer: 2\n",
      "4\n",
      "All done!!!\n"
     ]
    }
   ],
   "source": [
    "ask()"
   ]
  },
  {
   "cell_type": "markdown",
   "id": "d19b3cdc",
   "metadata": {},
   "source": [
    "## Unit Testing\n",
    "\n",
    "* There are several testing tools, we will focus on two:\n",
    "\n",
    "    * **Pylint:** This is a library that looks at your code and report back possible issues.\n",
    "    * **unittest:** This built-in library will allow to test your own programs and check you are getting desired outputs."
   ]
  },
  {
   "cell_type": "code",
   "execution_count": null,
   "id": "148ed149",
   "metadata": {},
   "outputs": [],
   "source": []
  }
 ],
 "metadata": {
  "kernelspec": {
   "display_name": "Python 3",
   "language": "python",
   "name": "python3"
  },
  "language_info": {
   "codemirror_mode": {
    "name": "ipython",
    "version": 3
   },
   "file_extension": ".py",
   "mimetype": "text/x-python",
   "name": "python",
   "nbconvert_exporter": "python",
   "pygments_lexer": "ipython3",
   "version": "3.8.8"
  }
 },
 "nbformat": 4,
 "nbformat_minor": 5
}
