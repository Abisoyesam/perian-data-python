{
 "cells": [
  {
   "cell_type": "markdown",
   "id": "6ecb841c",
   "metadata": {},
   "source": [
    "## Decorators\n",
    "\n",
    "* **Decorators allow to 'decorate' a function.**\n",
    "* **It  allows to tack on extra functionality to an already existing function.**\n",
    "* **Use the @ operator and then placed on top of original function.**"
   ]
  },
  {
   "cell_type": "code",
   "execution_count": 1,
   "id": "75a7bf0d",
   "metadata": {},
   "outputs": [],
   "source": [
    "def func():\n",
    "    return 1"
   ]
  },
  {
   "cell_type": "code",
   "execution_count": 2,
   "id": "dc2be346",
   "metadata": {},
   "outputs": [
    {
     "data": {
      "text/plain": [
       "1"
      ]
     },
     "execution_count": 2,
     "metadata": {},
     "output_type": "execute_result"
    }
   ],
   "source": [
    "func()"
   ]
  },
  {
   "cell_type": "code",
   "execution_count": 3,
   "id": "5ea0393c",
   "metadata": {},
   "outputs": [
    {
     "data": {
      "text/plain": [
       "<function __main__.func()>"
      ]
     },
     "execution_count": 3,
     "metadata": {},
     "output_type": "execute_result"
    }
   ],
   "source": [
    "func"
   ]
  },
  {
   "cell_type": "code",
   "execution_count": 4,
   "id": "6d2f86d5",
   "metadata": {},
   "outputs": [],
   "source": [
    "one = func"
   ]
  },
  {
   "cell_type": "code",
   "execution_count": 5,
   "id": "3751688e",
   "metadata": {},
   "outputs": [
    {
     "data": {
      "text/plain": [
       "1"
      ]
     },
     "execution_count": 5,
     "metadata": {},
     "output_type": "execute_result"
    }
   ],
   "source": [
    "one()"
   ]
  },
  {
   "cell_type": "code",
   "execution_count": 6,
   "id": "4caa836b",
   "metadata": {},
   "outputs": [],
   "source": [
    "del func"
   ]
  },
  {
   "cell_type": "code",
   "execution_count": 7,
   "id": "239bf176",
   "metadata": {},
   "outputs": [
    {
     "ename": "NameError",
     "evalue": "name 'func' is not defined",
     "output_type": "error",
     "traceback": [
      "\u001b[1;31m---------------------------------------------------------------------------\u001b[0m",
      "\u001b[1;31mNameError\u001b[0m                                 Traceback (most recent call last)",
      "\u001b[1;32m<ipython-input-7-bd1982955a12>\u001b[0m in \u001b[0;36m<module>\u001b[1;34m\u001b[0m\n\u001b[1;32m----> 1\u001b[1;33m \u001b[0mfunc\u001b[0m\u001b[1;33m(\u001b[0m\u001b[1;33m)\u001b[0m\u001b[1;33m\u001b[0m\u001b[1;33m\u001b[0m\u001b[0m\n\u001b[0m",
      "\u001b[1;31mNameError\u001b[0m: name 'func' is not defined"
     ]
    }
   ],
   "source": [
    "func()"
   ]
  },
  {
   "cell_type": "code",
   "execution_count": 8,
   "id": "22099910",
   "metadata": {},
   "outputs": [
    {
     "data": {
      "text/plain": [
       "1"
      ]
     },
     "execution_count": 8,
     "metadata": {},
     "output_type": "execute_result"
    }
   ],
   "source": [
    "one()"
   ]
  },
  {
   "cell_type": "code",
   "execution_count": 10,
   "id": "73f02848",
   "metadata": {},
   "outputs": [],
   "source": [
    "def hello(name='Abisoye'):\n",
    "    print(\"The hello() function has been executed!\")\n",
    "    \n",
    "    def greet():\n",
    "        return f'Welcome, {name}.'\n",
    "    \n",
    "    def welcome():\n",
    "        return '\\t Welcome!!!'\n",
    "    \n",
    "    print(\"I am going to return a function!\")\n",
    "    \n",
    "    if name == 'Abisoye':\n",
    "        return greet\n",
    "    else:\n",
    "        return welcome"
   ]
  },
  {
   "cell_type": "code",
   "execution_count": 11,
   "id": "094dff84",
   "metadata": {},
   "outputs": [
    {
     "name": "stdout",
     "output_type": "stream",
     "text": [
      "The hello() function has been executed!\n",
      "I am going to return a function!\n"
     ]
    }
   ],
   "source": [
    "greeting = hello()"
   ]
  },
  {
   "cell_type": "code",
   "execution_count": 14,
   "id": "55ed1270",
   "metadata": {},
   "outputs": [
    {
     "data": {
      "text/plain": [
       "<function __main__.hello.<locals>.greet()>"
      ]
     },
     "execution_count": 14,
     "metadata": {},
     "output_type": "execute_result"
    }
   ],
   "source": [
    "greeting"
   ]
  },
  {
   "cell_type": "code",
   "execution_count": 15,
   "id": "328cdc42",
   "metadata": {},
   "outputs": [
    {
     "data": {
      "text/plain": [
       "'Welcome, Abisoye.'"
      ]
     },
     "execution_count": 15,
     "metadata": {},
     "output_type": "execute_result"
    }
   ],
   "source": [
    "greeting()"
   ]
  },
  {
   "cell_type": "code",
   "execution_count": 16,
   "id": "3bee3d29",
   "metadata": {},
   "outputs": [],
   "source": [
    "def hello():\n",
    "    return \"Hey, Abisoye.\""
   ]
  },
  {
   "cell_type": "code",
   "execution_count": 19,
   "id": "7659646b",
   "metadata": {},
   "outputs": [],
   "source": [
    "def other(func):\n",
    "    print(\"Other function runs here!\")\n",
    "    print(func())"
   ]
  },
  {
   "cell_type": "code",
   "execution_count": 20,
   "id": "b950a01d",
   "metadata": {},
   "outputs": [
    {
     "name": "stdout",
     "output_type": "stream",
     "text": [
      "Other function runs here!\n",
      "Hey, Abisoye.\n"
     ]
    }
   ],
   "source": [
    "other(hello)"
   ]
  },
  {
   "cell_type": "code",
   "execution_count": null,
   "id": "960e937a",
   "metadata": {},
   "outputs": [],
   "source": []
  },
  {
   "cell_type": "code",
   "execution_count": null,
   "id": "cc3d699e",
   "metadata": {},
   "outputs": [],
   "source": []
  },
  {
   "cell_type": "code",
   "execution_count": 21,
   "id": "4dbd54aa",
   "metadata": {},
   "outputs": [],
   "source": [
    "def new_decorator(func):\n",
    "    def wrap_func():\n",
    "        print('Some extra code, before the original function')\n",
    "        \n",
    "        func()\n",
    "        \n",
    "        print('Some extra code, after the original function')\n",
    "        \n",
    "    return wrap_func"
   ]
  },
  {
   "cell_type": "code",
   "execution_count": 22,
   "id": "86152a51",
   "metadata": {},
   "outputs": [],
   "source": [
    "def need_decorator():\n",
    "    print(\"I want to be decorated!!!\")"
   ]
  },
  {
   "cell_type": "code",
   "execution_count": 23,
   "id": "06768088",
   "metadata": {},
   "outputs": [],
   "source": [
    "decorated_func = new_decorator(need_decorator)"
   ]
  },
  {
   "cell_type": "code",
   "execution_count": 24,
   "id": "580f2775",
   "metadata": {},
   "outputs": [
    {
     "data": {
      "text/plain": [
       "<function __main__.new_decorator.<locals>.wrap_func()>"
      ]
     },
     "execution_count": 24,
     "metadata": {},
     "output_type": "execute_result"
    }
   ],
   "source": [
    "decorated_func"
   ]
  },
  {
   "cell_type": "code",
   "execution_count": 25,
   "id": "fb456bbd",
   "metadata": {},
   "outputs": [
    {
     "name": "stdout",
     "output_type": "stream",
     "text": [
      "Some extra code, before the original function\n",
      "I want to be decorated!!!\n",
      "Some extra code, after the original function\n"
     ]
    }
   ],
   "source": [
    "decorated_func()"
   ]
  },
  {
   "cell_type": "code",
   "execution_count": 26,
   "id": "f27c05c5",
   "metadata": {},
   "outputs": [],
   "source": [
    "@new_decorator\n",
    "def need_decorator():\n",
    "    print(\"I want to be decorated!!!\")"
   ]
  },
  {
   "cell_type": "code",
   "execution_count": 27,
   "id": "e988521f",
   "metadata": {},
   "outputs": [
    {
     "name": "stdout",
     "output_type": "stream",
     "text": [
      "Some extra code, before the original function\n",
      "I want to be decorated!!!\n",
      "Some extra code, after the original function\n"
     ]
    }
   ],
   "source": [
    "need_decorator()"
   ]
  },
  {
   "cell_type": "markdown",
   "id": "8db2f793",
   "metadata": {},
   "source": [
    "## Generators\n",
    "\n",
    "* **It helps to write a function that can send back a value and then later resume to pick up where it left off.**\n",
    "\n",
    "* **It allows to generate a sequence of values over time using `yield` statement.**\n",
    "\n",
    "* **When a generator function is compiled, they become an object that supports an iteration protocol.**\n",
    "\n",
    "* **Range() is an example of generator.**"
   ]
  },
  {
   "cell_type": "code",
   "execution_count": 28,
   "id": "193a274f",
   "metadata": {},
   "outputs": [],
   "source": [
    "def create_cubes(n):\n",
    "    result = [] # list in the memory\n",
    "    for x in range(n):\n",
    "        result.append(x**3)\n",
    "        \n",
    "    return result"
   ]
  },
  {
   "cell_type": "code",
   "execution_count": 29,
   "id": "5e84e6ef",
   "metadata": {},
   "outputs": [
    {
     "data": {
      "text/plain": [
       "[0, 1, 8, 27, 64, 125, 216, 343, 512, 729]"
      ]
     },
     "execution_count": 29,
     "metadata": {},
     "output_type": "execute_result"
    }
   ],
   "source": [
    "create_cubes(10)"
   ]
  },
  {
   "cell_type": "code",
   "execution_count": 35,
   "id": "72187c63",
   "metadata": {},
   "outputs": [],
   "source": [
    "def create_cubes(n):\n",
    "    for x in range(n):\n",
    "        yield x**3 # list not in memory"
   ]
  },
  {
   "cell_type": "code",
   "execution_count": 36,
   "id": "97b3ce9e",
   "metadata": {},
   "outputs": [
    {
     "data": {
      "text/plain": [
       "<generator object create_cubes at 0x000001C9D8B26900>"
      ]
     },
     "execution_count": 36,
     "metadata": {},
     "output_type": "execute_result"
    }
   ],
   "source": [
    "create_cubes(10)"
   ]
  },
  {
   "cell_type": "code",
   "execution_count": 37,
   "id": "65d66e9d",
   "metadata": {},
   "outputs": [
    {
     "name": "stdout",
     "output_type": "stream",
     "text": [
      "0\n",
      "1\n",
      "8\n",
      "27\n",
      "64\n",
      "125\n",
      "216\n",
      "343\n",
      "512\n",
      "729\n"
     ]
    }
   ],
   "source": [
    "for x in create_cubes(10):\n",
    "    print(x)"
   ]
  },
  {
   "cell_type": "code",
   "execution_count": 38,
   "id": "83459bb6",
   "metadata": {},
   "outputs": [
    {
     "data": {
      "text/plain": [
       "[0, 1, 8, 27, 64, 125, 216, 343, 512, 729]"
      ]
     },
     "execution_count": 38,
     "metadata": {},
     "output_type": "execute_result"
    }
   ],
   "source": [
    "list(create_cubes(10))"
   ]
  },
  {
   "cell_type": "code",
   "execution_count": 63,
   "id": "0b6d2f6e",
   "metadata": {},
   "outputs": [],
   "source": [
    "def generator():\n",
    "    for x in range(3):\n",
    "        yield x"
   ]
  },
  {
   "cell_type": "code",
   "execution_count": 64,
   "id": "97ef2f27",
   "metadata": {},
   "outputs": [
    {
     "name": "stdout",
     "output_type": "stream",
     "text": [
      "0\n",
      "1\n",
      "2\n"
     ]
    }
   ],
   "source": [
    "for num in generator():\n",
    "    print(num)"
   ]
  },
  {
   "cell_type": "code",
   "execution_count": 65,
   "id": "5b2527de",
   "metadata": {},
   "outputs": [],
   "source": [
    "g = generator()"
   ]
  },
  {
   "cell_type": "code",
   "execution_count": 66,
   "id": "4939c50a",
   "metadata": {},
   "outputs": [
    {
     "name": "stdout",
     "output_type": "stream",
     "text": [
      "0\n"
     ]
    }
   ],
   "source": [
    "print(next(g))"
   ]
  },
  {
   "cell_type": "code",
   "execution_count": 67,
   "id": "2c8cecda",
   "metadata": {},
   "outputs": [
    {
     "name": "stdout",
     "output_type": "stream",
     "text": [
      "1\n"
     ]
    }
   ],
   "source": [
    "print(next(g))"
   ]
  },
  {
   "cell_type": "code",
   "execution_count": 68,
   "id": "eed052e5",
   "metadata": {},
   "outputs": [
    {
     "name": "stdout",
     "output_type": "stream",
     "text": [
      "2\n"
     ]
    }
   ],
   "source": [
    "print(next(g))"
   ]
  },
  {
   "cell_type": "code",
   "execution_count": 57,
   "id": "a0f4b8e3",
   "metadata": {},
   "outputs": [
    {
     "name": "stdout",
     "output_type": "stream",
     "text": [
      "24\n"
     ]
    }
   ],
   "source": [
    "# Factorial\n",
    "\n",
    "result = 1\n",
    "\n",
    "for x in range(4): # 4!\n",
    "    result *= x+1\n",
    "    \n",
    "print(result)"
   ]
  },
  {
   "cell_type": "code",
   "execution_count": 61,
   "id": "f8840850",
   "metadata": {},
   "outputs": [],
   "source": [
    "# Fibinocci sequence\n",
    "\n",
    "def gen_fib(n):\n",
    "    a,b = 1,1\n",
    "    for i in range(n):\n",
    "        yield a\n",
    "        a,b = b, a+b"
   ]
  },
  {
   "cell_type": "code",
   "execution_count": 62,
   "id": "49d0e48b",
   "metadata": {},
   "outputs": [
    {
     "name": "stdout",
     "output_type": "stream",
     "text": [
      "1\n",
      "1\n",
      "2\n",
      "3\n",
      "5\n"
     ]
    }
   ],
   "source": [
    "for num in gen_fib(5):\n",
    "    print(num)"
   ]
  },
  {
   "cell_type": "code",
   "execution_count": 70,
   "id": "e9e1be97",
   "metadata": {},
   "outputs": [],
   "source": [
    "s = 'Hello'"
   ]
  },
  {
   "cell_type": "code",
   "execution_count": 71,
   "id": "e6d85649",
   "metadata": {},
   "outputs": [
    {
     "name": "stdout",
     "output_type": "stream",
     "text": [
      "H\n",
      "e\n",
      "l\n",
      "l\n",
      "o\n"
     ]
    }
   ],
   "source": [
    "for letter in s:\n",
    "    print(letter)"
   ]
  },
  {
   "cell_type": "code",
   "execution_count": 72,
   "id": "f11913be",
   "metadata": {},
   "outputs": [
    {
     "ename": "TypeError",
     "evalue": "'str' object is not an iterator",
     "output_type": "error",
     "traceback": [
      "\u001b[1;31m---------------------------------------------------------------------------\u001b[0m",
      "\u001b[1;31mTypeError\u001b[0m                                 Traceback (most recent call last)",
      "\u001b[1;32m<ipython-input-72-61c30b5fe1d5>\u001b[0m in \u001b[0;36m<module>\u001b[1;34m\u001b[0m\n\u001b[1;32m----> 1\u001b[1;33m \u001b[0mnext\u001b[0m\u001b[1;33m(\u001b[0m\u001b[0ms\u001b[0m\u001b[1;33m)\u001b[0m\u001b[1;33m\u001b[0m\u001b[1;33m\u001b[0m\u001b[0m\n\u001b[0m",
      "\u001b[1;31mTypeError\u001b[0m: 'str' object is not an iterator"
     ]
    }
   ],
   "source": [
    "next(s)"
   ]
  },
  {
   "cell_type": "code",
   "execution_count": 73,
   "id": "99fb1cf4",
   "metadata": {},
   "outputs": [],
   "source": [
    "s_iter = iter(s)"
   ]
  },
  {
   "cell_type": "code",
   "execution_count": 74,
   "id": "f57c6129",
   "metadata": {},
   "outputs": [
    {
     "data": {
      "text/plain": [
       "'H'"
      ]
     },
     "execution_count": 74,
     "metadata": {},
     "output_type": "execute_result"
    }
   ],
   "source": [
    "next(s_iter)"
   ]
  },
  {
   "cell_type": "code",
   "execution_count": 75,
   "id": "d489613a",
   "metadata": {},
   "outputs": [
    {
     "data": {
      "text/plain": [
       "'e'"
      ]
     },
     "execution_count": 75,
     "metadata": {},
     "output_type": "execute_result"
    }
   ],
   "source": [
    "next(s_iter)"
   ]
  },
  {
   "cell_type": "code",
   "execution_count": 76,
   "id": "8ef7b878",
   "metadata": {},
   "outputs": [
    {
     "data": {
      "text/plain": [
       "'l'"
      ]
     },
     "execution_count": 76,
     "metadata": {},
     "output_type": "execute_result"
    }
   ],
   "source": [
    "next(s_iter)"
   ]
  },
  {
   "cell_type": "code",
   "execution_count": 77,
   "id": "368e7984",
   "metadata": {},
   "outputs": [
    {
     "data": {
      "text/plain": [
       "'l'"
      ]
     },
     "execution_count": 77,
     "metadata": {},
     "output_type": "execute_result"
    }
   ],
   "source": [
    "next(s_iter)"
   ]
  },
  {
   "cell_type": "markdown",
   "id": "ffa8f943",
   "metadata": {},
   "source": [
    "### Exercise"
   ]
  },
  {
   "cell_type": "code",
   "execution_count": 80,
   "id": "bf31c31e",
   "metadata": {},
   "outputs": [],
   "source": [
    "def gen_square(n):\n",
    "    for i in range(n):\n",
    "        yield i**2"
   ]
  },
  {
   "cell_type": "code",
   "execution_count": 81,
   "id": "21faaeca",
   "metadata": {},
   "outputs": [
    {
     "name": "stdout",
     "output_type": "stream",
     "text": [
      "0\n",
      "1\n",
      "4\n",
      "9\n",
      "16\n",
      "25\n",
      "36\n",
      "49\n",
      "64\n",
      "81\n"
     ]
    }
   ],
   "source": [
    "for x in gen_square(10):\n",
    "    print(x)"
   ]
  },
  {
   "cell_type": "markdown",
   "id": "cae1ade0",
   "metadata": {},
   "source": [
    "**Create a generator thaat yields \"n\" random number between a low and high number.**"
   ]
  },
  {
   "cell_type": "code",
   "execution_count": 84,
   "id": "5aadcb91",
   "metadata": {},
   "outputs": [],
   "source": [
    "import random\n",
    "\n",
    "def gen_random(low,high, n):\n",
    "    for i in range(n):\n",
    "        yield random.randint(low,high)"
   ]
  },
  {
   "cell_type": "code",
   "execution_count": 85,
   "id": "4cc37760",
   "metadata": {},
   "outputs": [
    {
     "name": "stdout",
     "output_type": "stream",
     "text": [
      "9\n",
      "10\n",
      "8\n",
      "2\n",
      "4\n",
      "6\n",
      "3\n",
      "6\n",
      "8\n",
      "5\n",
      "7\n",
      "1\n"
     ]
    }
   ],
   "source": [
    "for num in gen_random(1,10,12):\n",
    "    print(num)"
   ]
  },
  {
   "cell_type": "code",
   "execution_count": 86,
   "id": "e8c87855",
   "metadata": {},
   "outputs": [
    {
     "name": "stdout",
     "output_type": "stream",
     "text": [
      "4\n",
      "5\n"
     ]
    }
   ],
   "source": [
    "# generator comprehension\n",
    "\n",
    "my_list = [1,2,3,4,5]\n",
    "\n",
    "gencomp = (item for item in my_list if item > 3)\n",
    "\n",
    "for item in gencomp:\n",
    "    print(item)"
   ]
  },
  {
   "cell_type": "code",
   "execution_count": null,
   "id": "4023efd8",
   "metadata": {},
   "outputs": [],
   "source": []
  }
 ],
 "metadata": {
  "kernelspec": {
   "display_name": "Python 3",
   "language": "python",
   "name": "python3"
  },
  "language_info": {
   "codemirror_mode": {
    "name": "ipython",
    "version": 3
   },
   "file_extension": ".py",
   "mimetype": "text/x-python",
   "name": "python",
   "nbconvert_exporter": "python",
   "pygments_lexer": "ipython3",
   "version": "3.8.8"
  }
 },
 "nbformat": 4,
 "nbformat_minor": 5
}
