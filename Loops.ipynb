{
 "cells": [
  {
   "cell_type": "markdown",
   "id": "e282fe3b",
   "metadata": {},
   "source": [
    "## Loops\n",
    "\n",
    "* FOR\n",
    "* WHILE"
   ]
  },
  {
   "cell_type": "markdown",
   "id": "ea4dcf14",
   "metadata": {},
   "source": [
    "**N.B: Strings, lists and Dictionaries are iterable**"
   ]
  },
  {
   "cell_type": "code",
   "execution_count": 1,
   "id": "3b4573c6",
   "metadata": {},
   "outputs": [
    {
     "name": "stdout",
     "output_type": "stream",
     "text": [
      "1\n",
      "2\n",
      "3\n",
      "4\n",
      "5\n",
      "6\n",
      "7\n",
      "8\n",
      "9\n"
     ]
    }
   ],
   "source": [
    "numbers = [1,2,3,4,5,6,7,8,9]\n",
    "\n",
    "for num in numbers:\n",
    "    print(num)"
   ]
  },
  {
   "cell_type": "code",
   "execution_count": 4,
   "id": "db66aa09",
   "metadata": {},
   "outputs": [
    {
     "name": "stdout",
     "output_type": "stream",
     "text": [
      "Odd number: 1\n",
      "2\n",
      "Odd number: 3\n",
      "4\n",
      "Odd number: 5\n",
      "6\n",
      "Odd number: 7\n",
      "8\n",
      "Odd number: 9\n"
     ]
    }
   ],
   "source": [
    "for num in numbers:\n",
    "    if num % 2 == 0:\n",
    "        print(num)\n",
    "    else:\n",
    "        print(f'Odd number: {num}')"
   ]
  },
  {
   "cell_type": "code",
   "execution_count": 5,
   "id": "d986a481",
   "metadata": {},
   "outputs": [
    {
     "name": "stdout",
     "output_type": "stream",
     "text": [
      "45\n"
     ]
    }
   ],
   "source": [
    "sum_num = 0\n",
    "\n",
    "for num in numbers:\n",
    "    sum_num += num\n",
    "print(sum_num)"
   ]
  },
  {
   "cell_type": "code",
   "execution_count": 6,
   "id": "ca591d0d",
   "metadata": {},
   "outputs": [
    {
     "name": "stdout",
     "output_type": "stream",
     "text": [
      "A\n",
      "b\n",
      "i\n",
      "s\n",
      "o\n",
      "y\n",
      "e\n",
      " \n",
      "A\n",
      "k\n",
      "i\n",
      "n\n",
      "l\n",
      "o\n",
      "y\n",
      "e\n"
     ]
    }
   ],
   "source": [
    "# iterable strings\n",
    "\n",
    "my_name = \"Abisoye Akinloye\"\n",
    "\n",
    "for letter in my_name:\n",
    "    print(letter)"
   ]
  },
  {
   "cell_type": "code",
   "execution_count": 7,
   "id": "542be252",
   "metadata": {},
   "outputs": [
    {
     "name": "stdout",
     "output_type": "stream",
     "text": [
      "(1, 2)\n",
      "(3, 4)\n",
      "(5, 6)\n",
      "(7, 8)\n"
     ]
    }
   ],
   "source": [
    "# iterable list and tuple\n",
    "\n",
    "arr = [(1,2),(3,4),(5,6),(7,8)]\n",
    "\n",
    "for tup in arr:\n",
    "    print(tup)"
   ]
  },
  {
   "cell_type": "code",
   "execution_count": 11,
   "id": "2fff9b42",
   "metadata": {},
   "outputs": [
    {
     "name": "stdout",
     "output_type": "stream",
     "text": [
      "a: 1 & b: 2\n",
      "a: 3 & b: 4\n",
      "a: 5 & b: 6\n",
      "a: 7 & b: 8\n"
     ]
    }
   ],
   "source": [
    "for (a,b) in arr:\n",
    "    print(f'a: {a} & b: {b}')"
   ]
  },
  {
   "cell_type": "code",
   "execution_count": 12,
   "id": "be7d815e",
   "metadata": {},
   "outputs": [
    {
     "name": "stdout",
     "output_type": "stream",
     "text": [
      "a\n",
      "b\n",
      "c\n"
     ]
    }
   ],
   "source": [
    "# iterable dictionary\n",
    "\n",
    "dic = {'a': 1, 'b': 2, 'c': 3}\n",
    "\n",
    "for item in dic:\n",
    "    print(item)"
   ]
  },
  {
   "cell_type": "code",
   "execution_count": 16,
   "id": "4798bc66",
   "metadata": {},
   "outputs": [
    {
     "name": "stdout",
     "output_type": "stream",
     "text": [
      "1\n",
      "2\n",
      "3\n"
     ]
    }
   ],
   "source": [
    "for value in dic.values():\n",
    "    print(value)"
   ]
  },
  {
   "cell_type": "markdown",
   "id": "6744af48",
   "metadata": {},
   "source": [
    "**N.B: by default iteration through dictionary will output the keys only.**"
   ]
  },
  {
   "cell_type": "code",
   "execution_count": 13,
   "id": "fa178b7f",
   "metadata": {},
   "outputs": [
    {
     "name": "stdout",
     "output_type": "stream",
     "text": [
      "('a', 1)\n",
      "('b', 2)\n",
      "('c', 3)\n"
     ]
    }
   ],
   "source": [
    "# add .items() to output key:value pair\n",
    "\n",
    "for item in dic.items():\n",
    "    print(item)"
   ]
  },
  {
   "cell_type": "code",
   "execution_count": 14,
   "id": "ead2d4e3",
   "metadata": {},
   "outputs": [
    {
     "name": "stdout",
     "output_type": "stream",
     "text": [
      "a\n",
      "b\n",
      "c\n"
     ]
    }
   ],
   "source": [
    "for key,value in dic.items():\n",
    "    print(key)"
   ]
  },
  {
   "cell_type": "code",
   "execution_count": 15,
   "id": "0864129d",
   "metadata": {},
   "outputs": [
    {
     "name": "stdout",
     "output_type": "stream",
     "text": [
      "1\n",
      "2\n",
      "3\n"
     ]
    }
   ],
   "source": [
    "for key,value in dic.items():\n",
    "    print(value)"
   ]
  },
  {
   "cell_type": "markdown",
   "id": "def9d372",
   "metadata": {},
   "source": [
    "## While"
   ]
  },
  {
   "cell_type": "code",
   "execution_count": 18,
   "id": "783357b6",
   "metadata": {},
   "outputs": [
    {
     "name": "stdout",
     "output_type": "stream",
     "text": [
      "The current value of x is 0\n",
      "The current value of x is 1\n",
      "The current value of x is 2\n",
      "The current value of x is 3\n",
      "The current value of x is 4\n"
     ]
    }
   ],
   "source": [
    "x = 0\n",
    "\n",
    "while x < 5:\n",
    "    print(f'The current value of x is {x}')\n",
    "    x += 1"
   ]
  },
  {
   "cell_type": "markdown",
   "id": "a048c1a9",
   "metadata": {},
   "source": [
    "**break, continue, pass**\n",
    "\n",
    "break: it breaks out of the current closest enclosing loop\n",
    "\n",
    "continue: goes to the top of the closest enclosing loop\n",
    "\n",
    "pass: does nothing at all"
   ]
  },
  {
   "cell_type": "code",
   "execution_count": 20,
   "id": "b01144b3",
   "metadata": {},
   "outputs": [
    {
     "name": "stdout",
     "output_type": "stream",
     "text": [
      "End of the script\n"
     ]
    }
   ],
   "source": [
    "# pass: to avoid EOF error\n",
    "# for empty functions or loops\n",
    "\n",
    "y = [1,2,3,4,5,6]\n",
    "\n",
    "for _ in y:\n",
    "    #comment\n",
    "    pass\n",
    "\n",
    "print('End of the script')"
   ]
  },
  {
   "cell_type": "code",
   "execution_count": 21,
   "id": "8cd0189c",
   "metadata": {},
   "outputs": [
    {
     "name": "stdout",
     "output_type": "stream",
     "text": [
      "1\n",
      "3\n",
      "5\n"
     ]
    }
   ],
   "source": [
    "# continue \n",
    "\n",
    "for num in y:\n",
    "    if num % 2 == 0:\n",
    "        continue\n",
    "    print(num)"
   ]
  },
  {
   "cell_type": "code",
   "execution_count": 22,
   "id": "30d3989f",
   "metadata": {},
   "outputs": [
    {
     "name": "stdout",
     "output_type": "stream",
     "text": [
      "1\n"
     ]
    }
   ],
   "source": [
    "# break\n",
    "\n",
    "for num in y:\n",
    "    if num%2 == 0:\n",
    "        break\n",
    "    print(num)"
   ]
  },
  {
   "cell_type": "markdown",
   "id": "6f69bf60",
   "metadata": {},
   "source": [
    "## Range\n",
    "\n",
    "range(start,stop,step)"
   ]
  },
  {
   "cell_type": "code",
   "execution_count": 25,
   "id": "63e36cc3",
   "metadata": {},
   "outputs": [
    {
     "name": "stdout",
     "output_type": "stream",
     "text": [
      "0\n",
      "1\n",
      "2\n",
      "3\n",
      "4\n",
      "5\n",
      "6\n",
      "7\n",
      "8\n",
      "9\n"
     ]
    }
   ],
   "source": [
    "for num in range(10):\n",
    "    print(num)\n",
    "    \n",
    "# range starts from zero"
   ]
  },
  {
   "cell_type": "code",
   "execution_count": 26,
   "id": "725f8278",
   "metadata": {},
   "outputs": [
    {
     "name": "stdout",
     "output_type": "stream",
     "text": [
      "1\n",
      "2\n",
      "3\n",
      "4\n",
      "5\n"
     ]
    }
   ],
   "source": [
    "for num in range(1,6):\n",
    "    print(num)"
   ]
  },
  {
   "cell_type": "code",
   "execution_count": 29,
   "id": "555d340b",
   "metadata": {},
   "outputs": [
    {
     "name": "stdout",
     "output_type": "stream",
     "text": [
      "0\n",
      "2\n",
      "4\n",
      "6\n",
      "8\n",
      "10\n"
     ]
    }
   ],
   "source": [
    "for num in range(0,11,2):\n",
    "    print(num)\n",
    "    \n",
    "# range stops at `value - 1`"
   ]
  },
  {
   "cell_type": "code",
   "execution_count": 30,
   "id": "32a7db96",
   "metadata": {},
   "outputs": [
    {
     "data": {
      "text/plain": [
       "[0, 2, 4, 6, 8, 10]"
      ]
     },
     "execution_count": 30,
     "metadata": {},
     "output_type": "execute_result"
    }
   ],
   "source": [
    "list(range(0,11,2))"
   ]
  },
  {
   "cell_type": "markdown",
   "id": "516de3c7",
   "metadata": {},
   "source": [
    "### Enumerate"
   ]
  },
  {
   "cell_type": "code",
   "execution_count": 2,
   "id": "49c1233d",
   "metadata": {},
   "outputs": [
    {
     "name": "stdout",
     "output_type": "stream",
     "text": [
      "(0, 'A')\n",
      "(1, 'b')\n",
      "(2, 'i')\n",
      "(3, 's')\n",
      "(4, 'o')\n",
      "(5, 'y')\n",
      "(6, 'e')\n",
      "(7, ' ')\n",
      "(8, 'A')\n",
      "(9, 'k')\n",
      "(10, 'i')\n",
      "(11, 'n')\n",
      "(12, 'l')\n",
      "(13, 'o')\n",
      "(14, 'y')\n",
      "(15, 'e')\n"
     ]
    }
   ],
   "source": [
    "# Enumerate: use on any iterable object \n",
    "# to display object item and its index\n",
    "\n",
    "my_name = \"Abisoye Akinloye\"\n",
    "\n",
    "for item in enumerate(my_name):\n",
    "    print(item)"
   ]
  },
  {
   "cell_type": "markdown",
   "id": "97019ddf",
   "metadata": {},
   "source": [
    "### ZIP"
   ]
  },
  {
   "cell_type": "code",
   "execution_count": 5,
   "id": "cdf38f9a",
   "metadata": {},
   "outputs": [
    {
     "name": "stdout",
     "output_type": "stream",
     "text": [
      "('first', 'Akinloye')\n",
      "('middle', 'Samson')\n",
      "('last', 'Abisoye')\n"
     ]
    }
   ],
   "source": [
    "# Zip to join two or more iterable object(List) to form tuple\n",
    "\n",
    "name_position = ['first', 'middle', 'last']\n",
    "name_arr = [\"Akinloye\", \"Samson\", \"Abisoye\"]\n",
    "\n",
    "for item in zip(name_position,name_arr):\n",
    "    print(item)"
   ]
  },
  {
   "cell_type": "code",
   "execution_count": 7,
   "id": "47f3d43d",
   "metadata": {},
   "outputs": [
    {
     "data": {
      "text/plain": [
       "True"
      ]
     },
     "execution_count": 7,
     "metadata": {},
     "output_type": "execute_result"
    }
   ],
   "source": [
    "\"Akinloye\" in my_name"
   ]
  },
  {
   "cell_type": "markdown",
   "id": "9caef3ea",
   "metadata": {},
   "source": [
    "#### Shuffle"
   ]
  },
  {
   "cell_type": "code",
   "execution_count": 9,
   "id": "24fabdf4",
   "metadata": {},
   "outputs": [],
   "source": [
    "# shuffle()-> no return\n",
    "\n",
    "num = [1,2,3,4,5,6,7,8,9,10]\n",
    "\n",
    "from random import shuffle\n",
    "\n",
    "shuffle(num)"
   ]
  },
  {
   "cell_type": "code",
   "execution_count": 10,
   "id": "c312c5ec",
   "metadata": {},
   "outputs": [
    {
     "data": {
      "text/plain": [
       "[6, 5, 2, 9, 4, 10, 1, 7, 3, 8]"
      ]
     },
     "execution_count": 10,
     "metadata": {},
     "output_type": "execute_result"
    }
   ],
   "source": [
    "num"
   ]
  },
  {
   "cell_type": "markdown",
   "id": "1a1ad043",
   "metadata": {},
   "source": [
    "#### Randint"
   ]
  },
  {
   "cell_type": "code",
   "execution_count": 11,
   "id": "91ef0b7d",
   "metadata": {},
   "outputs": [],
   "source": [
    "from random import randint\n",
    "\n"
   ]
  },
  {
   "cell_type": "code",
   "execution_count": 12,
   "id": "9c9a1e98",
   "metadata": {},
   "outputs": [
    {
     "data": {
      "text/plain": [
       "5"
      ]
     },
     "execution_count": 12,
     "metadata": {},
     "output_type": "execute_result"
    }
   ],
   "source": [
    "# randint (lower limit, upper limit)\n",
    "\n",
    "randint(0,10)"
   ]
  },
  {
   "cell_type": "markdown",
   "id": "ba153fd2",
   "metadata": {},
   "source": [
    "## List Comprehension"
   ]
  },
  {
   "cell_type": "code",
   "execution_count": 13,
   "id": "b5fb9d9f",
   "metadata": {},
   "outputs": [],
   "source": [
    "string = \"list comprehension\""
   ]
  },
  {
   "cell_type": "code",
   "execution_count": 14,
   "id": "38aad9bd",
   "metadata": {},
   "outputs": [
    {
     "data": {
      "text/plain": [
       "['l',\n",
       " 'i',\n",
       " 's',\n",
       " 't',\n",
       " ' ',\n",
       " 'c',\n",
       " 'o',\n",
       " 'm',\n",
       " 'p',\n",
       " 'r',\n",
       " 'e',\n",
       " 'h',\n",
       " 'e',\n",
       " 'n',\n",
       " 's',\n",
       " 'i',\n",
       " 'o',\n",
       " 'n']"
      ]
     },
     "execution_count": 14,
     "metadata": {},
     "output_type": "execute_result"
    }
   ],
   "source": [
    "lists = []\n",
    "\n",
    "# deprecated instead use list comprehension\n",
    "for letter in string:\n",
    "    lists.append(letter)\n",
    "    \n",
    "lists"
   ]
  },
  {
   "cell_type": "code",
   "execution_count": 15,
   "id": "279c1f01",
   "metadata": {},
   "outputs": [],
   "source": [
    "# list comprehension\n",
    "\n",
    "lists = [letter for letter in string]"
   ]
  },
  {
   "cell_type": "code",
   "execution_count": 16,
   "id": "42f20cda",
   "metadata": {},
   "outputs": [
    {
     "data": {
      "text/plain": [
       "['l',\n",
       " 'i',\n",
       " 's',\n",
       " 't',\n",
       " ' ',\n",
       " 'c',\n",
       " 'o',\n",
       " 'm',\n",
       " 'p',\n",
       " 'r',\n",
       " 'e',\n",
       " 'h',\n",
       " 'e',\n",
       " 'n',\n",
       " 's',\n",
       " 'i',\n",
       " 'o',\n",
       " 'n']"
      ]
     },
     "execution_count": 16,
     "metadata": {},
     "output_type": "execute_result"
    }
   ],
   "source": [
    "lists"
   ]
  },
  {
   "cell_type": "code",
   "execution_count": 17,
   "id": "2bc031b2",
   "metadata": {},
   "outputs": [],
   "source": [
    "lists = [x for x in \"Akinloye\"]"
   ]
  },
  {
   "cell_type": "code",
   "execution_count": 18,
   "id": "70f77c62",
   "metadata": {},
   "outputs": [
    {
     "data": {
      "text/plain": [
       "['A', 'k', 'i', 'n', 'l', 'o', 'y', 'e']"
      ]
     },
     "execution_count": 18,
     "metadata": {},
     "output_type": "execute_result"
    }
   ],
   "source": [
    "lists"
   ]
  },
  {
   "cell_type": "code",
   "execution_count": 21,
   "id": "a0bb6749",
   "metadata": {},
   "outputs": [],
   "source": [
    "even_no = [num for num in range(0,11) if num%2 == 0]"
   ]
  },
  {
   "cell_type": "code",
   "execution_count": 22,
   "id": "9f5a8799",
   "metadata": {},
   "outputs": [
    {
     "data": {
      "text/plain": [
       "[0, 2, 4, 6, 8, 10]"
      ]
     },
     "execution_count": 22,
     "metadata": {},
     "output_type": "execute_result"
    }
   ],
   "source": [
    "even_no"
   ]
  },
  {
   "cell_type": "code",
   "execution_count": 23,
   "id": "f8eae5d2",
   "metadata": {},
   "outputs": [],
   "source": [
    "celsius = [0,10,20,34.5]\n",
    "\n",
    "fahrenheit = [((9/5) * temp + 32) for temp in celsius]"
   ]
  },
  {
   "cell_type": "code",
   "execution_count": 24,
   "id": "9dfa8c38",
   "metadata": {},
   "outputs": [
    {
     "data": {
      "text/plain": [
       "[32.0, 50.0, 68.0, 94.1]"
      ]
     },
     "execution_count": 24,
     "metadata": {},
     "output_type": "execute_result"
    }
   ],
   "source": [
    "fahrenheit"
   ]
  },
  {
   "cell_type": "code",
   "execution_count": 25,
   "id": "792b68c8",
   "metadata": {},
   "outputs": [],
   "source": [
    "number = [x if x%2 == 0 else \"ODD\" for x in range(0,11)]"
   ]
  },
  {
   "cell_type": "code",
   "execution_count": 26,
   "id": "d904a891",
   "metadata": {},
   "outputs": [
    {
     "data": {
      "text/plain": [
       "[0, 'ODD', 2, 'ODD', 4, 'ODD', 6, 'ODD', 8, 'ODD', 10]"
      ]
     },
     "execution_count": 26,
     "metadata": {},
     "output_type": "execute_result"
    }
   ],
   "source": [
    "number"
   ]
  },
  {
   "cell_type": "code",
   "execution_count": 29,
   "id": "e5d03dbd",
   "metadata": {},
   "outputs": [
    {
     "data": {
      "text/plain": [
       "[2, 20, 200, 4, 40, 400, 6, 60, 600]"
      ]
     },
     "execution_count": 29,
     "metadata": {},
     "output_type": "execute_result"
    }
   ],
   "source": [
    "mylist = []\n",
    "\n",
    "for x in [2,4,6]:\n",
    "    for y in [1,10,100]:\n",
    "        mylist.append(x*y)\n",
    "        \n",
    "mylist"
   ]
  },
  {
   "cell_type": "code",
   "execution_count": 30,
   "id": "b3685ec4",
   "metadata": {},
   "outputs": [],
   "source": [
    "mylist = [x*y for x in [2,4,6] for y in [1,10,100]]"
   ]
  },
  {
   "cell_type": "code",
   "execution_count": 31,
   "id": "d135cc45",
   "metadata": {},
   "outputs": [
    {
     "data": {
      "text/plain": [
       "[2, 20, 200, 4, 40, 400, 6, 60, 600]"
      ]
     },
     "execution_count": 31,
     "metadata": {},
     "output_type": "execute_result"
    }
   ],
   "source": [
    "mylist"
   ]
  },
  {
   "cell_type": "code",
   "execution_count": null,
   "id": "7d5a9182",
   "metadata": {},
   "outputs": [],
   "source": []
  }
 ],
 "metadata": {
  "kernelspec": {
   "display_name": "Python 3",
   "language": "python",
   "name": "python3"
  },
  "language_info": {
   "codemirror_mode": {
    "name": "ipython",
    "version": 3
   },
   "file_extension": ".py",
   "mimetype": "text/x-python",
   "name": "python",
   "nbconvert_exporter": "python",
   "pygments_lexer": "ipython3",
   "version": "3.8.8"
  }
 },
 "nbformat": 4,
 "nbformat_minor": 5
}
