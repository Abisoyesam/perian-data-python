{
 "cells": [
  {
   "cell_type": "markdown",
   "id": "34483085",
   "metadata": {},
   "source": [
    "## Help method"
   ]
  },
  {
   "cell_type": "markdown",
   "id": "6c5c1a14",
   "metadata": {},
   "source": [
    "**Use help() method to look up python documentation**"
   ]
  },
  {
   "cell_type": "code",
   "execution_count": 1,
   "id": "b88d0a54",
   "metadata": {},
   "outputs": [],
   "source": [
    "lists = [\"Thermodynamic\", \"Mechanics\", \"Vibration\"]"
   ]
  },
  {
   "cell_type": "code",
   "execution_count": 2,
   "id": "53e20388",
   "metadata": {},
   "outputs": [
    {
     "name": "stdout",
     "output_type": "stream",
     "text": [
      "Help on built-in function append:\n",
      "\n",
      "append(object, /) method of builtins.list instance\n",
      "    Append object to the end of the list.\n",
      "\n"
     ]
    }
   ],
   "source": [
    "help(lists.append)"
   ]
  },
  {
   "cell_type": "markdown",
   "id": "97f18c7f",
   "metadata": {},
   "source": [
    "## Functions\n",
    "\n",
    "* It is a good practice to add DOCSTRING to python functions. For documentation when 'help' method is called on it.."
   ]
  },
  {
   "cell_type": "code",
   "execution_count": 4,
   "id": "dfc9efe8",
   "metadata": {},
   "outputs": [],
   "source": [
    "def print_name(yourname):\n",
    "    '''\n",
    "    DOCSTRING: Information about the function\n",
    "    INPUT: Your name\n",
    "    OUTPUT: Your name will be printed\n",
    "    '''\n",
    "    print(yourname)"
   ]
  },
  {
   "cell_type": "code",
   "execution_count": 5,
   "id": "88ca1622",
   "metadata": {},
   "outputs": [
    {
     "name": "stdout",
     "output_type": "stream",
     "text": [
      "Abisoye Akinloye\n"
     ]
    }
   ],
   "source": [
    "print_name(\"Abisoye Akinloye\")"
   ]
  },
  {
   "cell_type": "code",
   "execution_count": 6,
   "id": "67499e89",
   "metadata": {},
   "outputs": [
    {
     "name": "stdout",
     "output_type": "stream",
     "text": [
      "Help on function print_name in module __main__:\n",
      "\n",
      "print_name(yourname)\n",
      "    DOCSTRING: Information about the function\n",
      "    INPUT: Your name\n",
      "    OUTPUT: Your name will be printed\n",
      "\n"
     ]
    }
   ],
   "source": [
    "help(print_name)"
   ]
  },
  {
   "cell_type": "markdown",
   "id": "db30a8e7",
   "metadata": {},
   "source": [
    "#### Pig Latin\n",
    "\n",
    "* If word starts with a vowel, add 'ay' to end but if it's a consonant, put first letter at the end, then add 'ay'.\n",
    "* word --> ordway\n",
    "* apple --> appleay"
   ]
  },
  {
   "cell_type": "code",
   "execution_count": 1,
   "id": "bf946b3c",
   "metadata": {},
   "outputs": [],
   "source": [
    "def word_manipulate():\n",
    "    word = input(\"Enter a word: \")\n",
    "    vowel = 'aeiou'\n",
    "    if word[0] in vowel:\n",
    "        word += 'ay'\n",
    "    else:\n",
    "        word = word[1:] + word[0]+'ay'\n",
    "    return word"
   ]
  },
  {
   "cell_type": "code",
   "execution_count": 3,
   "id": "ea0affa0",
   "metadata": {},
   "outputs": [
    {
     "name": "stdout",
     "output_type": "stream",
     "text": [
      "Enter a word: word\n"
     ]
    },
    {
     "data": {
      "text/plain": [
       "'ordway'"
      ]
     },
     "execution_count": 3,
     "metadata": {},
     "output_type": "execute_result"
    }
   ],
   "source": [
    "word_manipulate()"
   ]
  },
  {
   "cell_type": "markdown",
   "id": "80fccdcc",
   "metadata": {},
   "source": [
    "####  Function Arguments\n",
    "\n",
    "* Positional \n",
    "* Default\n",
    "* keyword\n",
    "* variable length positional argument (*args)\n",
    "* variable length keyword argument (**kwargs)"
   ]
  },
  {
   "cell_type": "code",
   "execution_count": 4,
   "id": "d6345398",
   "metadata": {},
   "outputs": [],
   "source": [
    "def myfunc(*args):\n",
    "    # 5% of the args\n",
    "    return sum(args) * 0.05"
   ]
  },
  {
   "cell_type": "code",
   "execution_count": 5,
   "id": "e3c3eed0",
   "metadata": {},
   "outputs": [
    {
     "data": {
      "text/plain": [
       "2.5"
      ]
     },
     "execution_count": 5,
     "metadata": {},
     "output_type": "execute_result"
    }
   ],
   "source": [
    "myfunc(20,10,5,15)"
   ]
  },
  {
   "cell_type": "code",
   "execution_count": 6,
   "id": "746dba39",
   "metadata": {},
   "outputs": [],
   "source": [
    "def tithe(*incomes):\n",
    "    # 10% of daily income\n",
    "    return sum(incomes) * 0.10"
   ]
  },
  {
   "cell_type": "code",
   "execution_count": 7,
   "id": "625bc58c",
   "metadata": {},
   "outputs": [
    {
     "data": {
      "text/plain": [
       "10.0"
      ]
     },
     "execution_count": 7,
     "metadata": {},
     "output_type": "execute_result"
    }
   ],
   "source": [
    "tithe(10,20,50,15,5)"
   ]
  },
  {
   "cell_type": "markdown",
   "id": "76bb62b9",
   "metadata": {},
   "source": [
    "**N.B: (*args) return tuple while (** **kwargs) returns a dictionary**"
   ]
  },
  {
   "cell_type": "code",
   "execution_count": 9,
   "id": "18a55de7",
   "metadata": {},
   "outputs": [],
   "source": [
    "def fav_vitamins(**kwargs):\n",
    "    print(kwargs)\n",
    "    if 'fruit' in kwargs:\n",
    "        print(\"My fruit of choice is {kwargs['fruit']}\")\n",
    "    else:\n",
    "        print('No fruit found...')"
   ]
  },
  {
   "cell_type": "code",
   "execution_count": 10,
   "id": "e075bb06",
   "metadata": {},
   "outputs": [
    {
     "name": "stdout",
     "output_type": "stream",
     "text": [
      "{'fruit': 'apple', 'veggie': 'lettuce'}\n",
      "My fruit of choice is {kwargs['fruit']}\n"
     ]
    }
   ],
   "source": [
    "fav_vitamins(fruit='apple', veggie = 'lettuce')"
   ]
  },
  {
   "cell_type": "code",
   "execution_count": 19,
   "id": "7fa9e639",
   "metadata": {},
   "outputs": [],
   "source": [
    "# Use can use both *args and **kwargs in a function argument\n",
    "\n",
    "def func(*args, **kwargs):\n",
    "    print('I would like {} {}.'.format(args[0], kwargs['fruit']))"
   ]
  },
  {
   "cell_type": "code",
   "execution_count": 20,
   "id": "1d85a5a4",
   "metadata": {},
   "outputs": [
    {
     "name": "stdout",
     "output_type": "stream",
     "text": [
      "I would like 20 Oranges.\n"
     ]
    }
   ],
   "source": [
    "func(20,40,15, fruit=\"Oranges\", veggie=\"spinach\")"
   ]
  },
  {
   "cell_type": "markdown",
   "id": "005ecb08",
   "metadata": {},
   "source": [
    "### Function Practice Exercises"
   ]
  },
  {
   "cell_type": "markdown",
   "id": "2784e675",
   "metadata": {},
   "source": [
    "**Write a function that returns the lesser of two given numbers if both numbers are even, but return the greater if one or both are odd**"
   ]
  },
  {
   "cell_type": "code",
   "execution_count": 21,
   "id": "58350fcf",
   "metadata": {},
   "outputs": [],
   "source": [
    "def lesser_of_two_evens(a,b):\n",
    "    if a % 2 == 0 and b % 2 == 0:\n",
    "        return min(a,b)\n",
    "    else:\n",
    "        return max(a,b)"
   ]
  },
  {
   "cell_type": "code",
   "execution_count": 22,
   "id": "3df34fff",
   "metadata": {},
   "outputs": [
    {
     "data": {
      "text/plain": [
       "6"
      ]
     },
     "execution_count": 22,
     "metadata": {},
     "output_type": "execute_result"
    }
   ],
   "source": [
    "lesser_of_two_evens(5,6)"
   ]
  },
  {
   "cell_type": "code",
   "execution_count": 23,
   "id": "1b4a3092",
   "metadata": {},
   "outputs": [
    {
     "data": {
      "text/plain": [
       "2"
      ]
     },
     "execution_count": 23,
     "metadata": {},
     "output_type": "execute_result"
    }
   ],
   "source": [
    "lesser_of_two_evens(2,4)"
   ]
  },
  {
   "cell_type": "code",
   "execution_count": 24,
   "id": "ec698b95",
   "metadata": {},
   "outputs": [
    {
     "data": {
      "text/plain": [
       "5"
      ]
     },
     "execution_count": 24,
     "metadata": {},
     "output_type": "execute_result"
    }
   ],
   "source": [
    "lesser_of_two_evens(2,5)"
   ]
  },
  {
   "cell_type": "markdown",
   "id": "f5c9c8a7",
   "metadata": {},
   "source": [
    "* **Write a function that takes two words strings and returns True if both words begin with same letter**"
   ]
  },
  {
   "cell_type": "code",
   "execution_count": 3,
   "id": "d4c8219e",
   "metadata": {},
   "outputs": [],
   "source": [
    "def two_words_checker(word):\n",
    "    first, second = word.split()\n",
    "    return first[0] == second[0]"
   ]
  },
  {
   "cell_type": "code",
   "execution_count": 5,
   "id": "c2d064db",
   "metadata": {},
   "outputs": [
    {
     "data": {
      "text/plain": [
       "True"
      ]
     },
     "execution_count": 5,
     "metadata": {},
     "output_type": "execute_result"
    }
   ],
   "source": [
    "two_words_checker(\"Levelheaded Llana\")"
   ]
  },
  {
   "cell_type": "code",
   "execution_count": 6,
   "id": "88dedcfb",
   "metadata": {},
   "outputs": [
    {
     "data": {
      "text/plain": [
       "False"
      ]
     },
     "execution_count": 6,
     "metadata": {},
     "output_type": "execute_result"
    }
   ],
   "source": [
    "two_words_checker(\"Crazy Kangaroo\")"
   ]
  },
  {
   "cell_type": "markdown",
   "id": "9718720e",
   "metadata": {},
   "source": [
    "* **Given two integers, return True if the sum of the integers is 20 or if one of the integer is 20. If not, return False**"
   ]
  },
  {
   "cell_type": "code",
   "execution_count": 252,
   "id": "03c6adbe",
   "metadata": {},
   "outputs": [],
   "source": [
    "def make20(a,b):\n",
    "    condition = (a+b == 20) or (a ==20 or b == 20)\n",
    "    return condition"
   ]
  },
  {
   "cell_type": "code",
   "execution_count": 253,
   "id": "a0e4920c",
   "metadata": {},
   "outputs": [
    {
     "data": {
      "text/plain": [
       "True"
      ]
     },
     "execution_count": 253,
     "metadata": {},
     "output_type": "execute_result"
    }
   ],
   "source": [
    "make20(20,10)"
   ]
  },
  {
   "cell_type": "code",
   "execution_count": 255,
   "id": "9fbf7142",
   "metadata": {},
   "outputs": [
    {
     "data": {
      "text/plain": [
       "True"
      ]
     },
     "execution_count": 255,
     "metadata": {},
     "output_type": "execute_result"
    }
   ],
   "source": [
    "make20(10,10)"
   ]
  },
  {
   "cell_type": "code",
   "execution_count": 254,
   "id": "4e5bddc8",
   "metadata": {},
   "outputs": [
    {
     "data": {
      "text/plain": [
       "False"
      ]
     },
     "execution_count": 254,
     "metadata": {},
     "output_type": "execute_result"
    }
   ],
   "source": [
    "make20(2,3)"
   ]
  },
  {
   "cell_type": "markdown",
   "id": "24ce05a3",
   "metadata": {},
   "source": [
    "* **Write a program that capitalize the first and fourth letters of a name**"
   ]
  },
  {
   "cell_type": "code",
   "execution_count": 256,
   "id": "4d22890a",
   "metadata": {},
   "outputs": [],
   "source": [
    "def first_fourth_cap(name):\n",
    "    first = name[:3].capitalize() \n",
    "    fourth = name[3:].capitalize()\n",
    "    return first + fourth"
   ]
  },
  {
   "cell_type": "code",
   "execution_count": 257,
   "id": "e26cd763",
   "metadata": {},
   "outputs": [
    {
     "data": {
      "text/plain": [
       "'MacDonald'"
      ]
     },
     "execution_count": 257,
     "metadata": {},
     "output_type": "execute_result"
    }
   ],
   "source": [
    "first_fourth_cap('macdonald')"
   ]
  },
  {
   "cell_type": "code",
   "execution_count": 258,
   "id": "3aac668c",
   "metadata": {},
   "outputs": [
    {
     "data": {
      "text/plain": [
       "'AbiSoye'"
      ]
     },
     "execution_count": 258,
     "metadata": {},
     "output_type": "execute_result"
    }
   ],
   "source": [
    "first_fourth_cap(\"abisoye\")"
   ]
  },
  {
   "cell_type": "markdown",
   "id": "2e96a32f",
   "metadata": {},
   "source": [
    "* **Given a sentence, return a sentence with the words reversed**"
   ]
  },
  {
   "cell_type": "code",
   "execution_count": 101,
   "id": "4d3268b8",
   "metadata": {},
   "outputs": [],
   "source": [
    "def reversed_sentence(sentence):\n",
    "    reversed_word = \"\"\n",
    "    splitted_words = sentence.split()\n",
    "    for word in splitted_words[::-1]:\n",
    "        reversed_word += word\n",
    "        reversed_word += \" \"\n",
    "    return reversed_word.strip()\n",
    "\n",
    "# strip() is used to trim whitespaces including tab spaces"
   ]
  },
  {
   "cell_type": "code",
   "execution_count": 265,
   "id": "bc9024b2",
   "metadata": {},
   "outputs": [],
   "source": [
    "# Using join() method\n",
    "\n",
    "def reverse(sentence):\n",
    "    splitted_words = sentence.split()\n",
    "    reversed_sentence = splitted_words[::-1]\n",
    "    return \" \".join(reversed_sentence)"
   ]
  },
  {
   "cell_type": "code",
   "execution_count": 102,
   "id": "fdf4a897",
   "metadata": {},
   "outputs": [
    {
     "data": {
      "text/plain": [
       "'ready are We'"
      ]
     },
     "execution_count": 102,
     "metadata": {},
     "output_type": "execute_result"
    }
   ],
   "source": [
    "reversed_sentence(\"We are ready\")"
   ]
  },
  {
   "cell_type": "code",
   "execution_count": 266,
   "id": "f9594e2c",
   "metadata": {},
   "outputs": [
    {
     "data": {
      "text/plain": [
       "'home am I'"
      ]
     },
     "execution_count": 266,
     "metadata": {},
     "output_type": "execute_result"
    }
   ],
   "source": [
    "reverse(\"I am home\")"
   ]
  },
  {
   "cell_type": "markdown",
   "id": "ecda868e",
   "metadata": {},
   "source": [
    "* **GIven an integer n, return True if n is within 10 of either 100 or 200**"
   ]
  },
  {
   "cell_type": "code",
   "execution_count": 272,
   "id": "68ef4a93",
   "metadata": {},
   "outputs": [],
   "source": [
    "def within10(n):\n",
    "    return (abs(n - 100) or abs(n - 200)) in range(0,11)\n",
    "        "
   ]
  },
  {
   "cell_type": "code",
   "execution_count": 273,
   "id": "dc7bb5ab",
   "metadata": {},
   "outputs": [
    {
     "data": {
      "text/plain": [
       "True"
      ]
     },
     "execution_count": 273,
     "metadata": {},
     "output_type": "execute_result"
    }
   ],
   "source": [
    "within10(90)"
   ]
  },
  {
   "cell_type": "code",
   "execution_count": 274,
   "id": "f2eab8b6",
   "metadata": {},
   "outputs": [
    {
     "data": {
      "text/plain": [
       "False"
      ]
     },
     "execution_count": 274,
     "metadata": {},
     "output_type": "execute_result"
    }
   ],
   "source": [
    "within10(209)"
   ]
  },
  {
   "cell_type": "code",
   "execution_count": 271,
   "id": "f4720c79",
   "metadata": {},
   "outputs": [
    {
     "data": {
      "text/plain": [
       "False"
      ]
     },
     "execution_count": 271,
     "metadata": {},
     "output_type": "execute_result"
    }
   ],
   "source": [
    "within10(150)"
   ]
  },
  {
   "cell_type": "markdown",
   "id": "672d232e",
   "metadata": {},
   "source": [
    "* **Given a list of ints, return True if the array contains a 3 next to a 3 somewhere**"
   ]
  },
  {
   "cell_type": "code",
   "execution_count": 291,
   "id": "625942d7",
   "metadata": {},
   "outputs": [],
   "source": [
    "def has33(arr):\n",
    "    index = arr.index(3)\n",
    "    return index and arr[index + 1] == 3"
   ]
  },
  {
   "cell_type": "code",
   "execution_count": 292,
   "id": "29aaacc6",
   "metadata": {
    "scrolled": true
   },
   "outputs": [
    {
     "data": {
      "text/plain": [
       "True"
      ]
     },
     "execution_count": 292,
     "metadata": {},
     "output_type": "execute_result"
    }
   ],
   "source": [
    "has33([1,3,3])"
   ]
  },
  {
   "cell_type": "code",
   "execution_count": 297,
   "id": "94f400af",
   "metadata": {},
   "outputs": [
    {
     "data": {
      "text/plain": [
       "False"
      ]
     },
     "execution_count": 297,
     "metadata": {},
     "output_type": "execute_result"
    }
   ],
   "source": [
    "has33([1,3,1,3])"
   ]
  },
  {
   "cell_type": "code",
   "execution_count": 300,
   "id": "8555432e",
   "metadata": {},
   "outputs": [
    {
     "data": {
      "text/plain": [
       "0"
      ]
     },
     "execution_count": 300,
     "metadata": {},
     "output_type": "execute_result"
    }
   ],
   "source": [
    "has33([3,1,3]) "
   ]
  },
  {
   "cell_type": "code",
   "execution_count": 305,
   "id": "bf407cab",
   "metadata": {},
   "outputs": [],
   "source": [
    "def has_33(num):\n",
    "    for i in range(0, len(num) -1):\n",
    "        return num[i:i+2] == [3,3]"
   ]
  },
  {
   "cell_type": "code",
   "execution_count": 306,
   "id": "824aff58",
   "metadata": {
    "scrolled": true
   },
   "outputs": [
    {
     "data": {
      "text/plain": [
       "True"
      ]
     },
     "execution_count": 306,
     "metadata": {},
     "output_type": "execute_result"
    }
   ],
   "source": [
    "has33([1,3,3])"
   ]
  },
  {
   "cell_type": "code",
   "execution_count": 307,
   "id": "ad0a5c9f",
   "metadata": {
    "scrolled": true
   },
   "outputs": [
    {
     "data": {
      "text/plain": [
       "False"
      ]
     },
     "execution_count": 307,
     "metadata": {},
     "output_type": "execute_result"
    }
   ],
   "source": [
    "has33([1,3,1,3])"
   ]
  },
  {
   "cell_type": "code",
   "execution_count": 308,
   "id": "5caeffe2",
   "metadata": {},
   "outputs": [
    {
     "data": {
      "text/plain": [
       "0"
      ]
     },
     "execution_count": 308,
     "metadata": {},
     "output_type": "execute_result"
    }
   ],
   "source": [
    "has33([3,1,3])"
   ]
  },
  {
   "cell_type": "markdown",
   "id": "fe4324cf",
   "metadata": {},
   "source": [
    "* **Write a function that counts the number of times a given pattern appears in a string, including overlap**"
   ]
  },
  {
   "cell_type": "code",
   "execution_count": 213,
   "id": "16bb29de",
   "metadata": {},
   "outputs": [],
   "source": [
    "def pattern_search(pattern, word):\n",
    "    count, counter = -1,0\n",
    "    index = []\n",
    "    for letter in word:\n",
    "        count += 1\n",
    "        if letter == pattern[0]:\n",
    "            index.append(count)\n",
    "    for i in index:\n",
    "        pat = word[i:i+len(pattern)]\n",
    "        if pat == pattern:\n",
    "            counter += 1\n",
    "    return counter"
   ]
  },
  {
   "cell_type": "code",
   "execution_count": 214,
   "id": "0c02d7b9",
   "metadata": {},
   "outputs": [
    {
     "data": {
      "text/plain": [
       "3"
      ]
     },
     "execution_count": 214,
     "metadata": {},
     "output_type": "execute_result"
    }
   ],
   "source": [
    "pattern_search('hah','hahahah')"
   ]
  },
  {
   "cell_type": "markdown",
   "id": "e14a4925",
   "metadata": {},
   "source": [
    "* **Given a string, return a string where for every character in the original there are three character**"
   ]
  },
  {
   "cell_type": "code",
   "execution_count": 309,
   "id": "0603258d",
   "metadata": {},
   "outputs": [],
   "source": [
    "def repeat3X(word):\n",
    "    newWord = \"\"\n",
    "    for letter in word:\n",
    "        newWord += letter*3\n",
    "    return newWord"
   ]
  },
  {
   "cell_type": "code",
   "execution_count": 310,
   "id": "744b7aed",
   "metadata": {},
   "outputs": [
    {
     "data": {
      "text/plain": [
       "'HHHeeellllllooo'"
      ]
     },
     "execution_count": 310,
     "metadata": {},
     "output_type": "execute_result"
    }
   ],
   "source": [
    "repeat3X('Hello')"
   ]
  },
  {
   "cell_type": "code",
   "execution_count": 311,
   "id": "5d4aad52",
   "metadata": {},
   "outputs": [
    {
     "data": {
      "text/plain": [
       "'MMMiiissssssiiissssssiiippppppiii'"
      ]
     },
     "execution_count": 311,
     "metadata": {},
     "output_type": "execute_result"
    }
   ],
   "source": [
    "repeat3X('Mississippi')"
   ]
  },
  {
   "cell_type": "markdown",
   "id": "c2913328",
   "metadata": {},
   "source": [
    "* **Given three integers between 1 and 11, if their sum is less than or equal to 21, return their sum, if their sum exceeds 21 and there is an eleven, reduce the total sum by 10. Finally, if the sum (even after adjustment) exceeds 21, return \"BUST\"**"
   ]
  },
  {
   "cell_type": "code",
   "execution_count": 320,
   "id": "2fa9acdc",
   "metadata": {},
   "outputs": [],
   "source": [
    "def bust(a,b,c):\n",
    "    if sum([a,b,c]) <=21:\n",
    "        return sum([a,b,c])\n",
    "    elif sum([a,b,c]) > 21 and 11 in [a,b,c]:\n",
    "        return sum([a,b,c]) - 10\n",
    "    else:\n",
    "        return \"BUST\"\n",
    "    \n",
    "# N.B: sum() accept only two argument but to pass\n",
    "# multiple args use []"
   ]
  },
  {
   "cell_type": "code",
   "execution_count": 321,
   "id": "38dc9b10",
   "metadata": {},
   "outputs": [
    {
     "data": {
      "text/plain": [
       "18"
      ]
     },
     "execution_count": 321,
     "metadata": {},
     "output_type": "execute_result"
    }
   ],
   "source": [
    "bust(5,6,7)"
   ]
  },
  {
   "cell_type": "code",
   "execution_count": 322,
   "id": "e974ccf8",
   "metadata": {},
   "outputs": [
    {
     "data": {
      "text/plain": [
       "'BUST'"
      ]
     },
     "execution_count": 322,
     "metadata": {},
     "output_type": "execute_result"
    }
   ],
   "source": [
    "bust(9,9,9)"
   ]
  },
  {
   "cell_type": "code",
   "execution_count": 323,
   "id": "efac2ee8",
   "metadata": {},
   "outputs": [
    {
     "data": {
      "text/plain": [
       "19"
      ]
     },
     "execution_count": 323,
     "metadata": {},
     "output_type": "execute_result"
    }
   ],
   "source": [
    "bust(9,9,11)"
   ]
  },
  {
   "cell_type": "markdown",
   "id": "c4e596c6",
   "metadata": {},
   "source": [
    "* **Return the sum of the numbers in the array, except ignore sections of numbers starting with a 6 and extending to 9 (every 6 will be followed by at least one 9). Return 0 for no numbers**"
   ]
  },
  {
   "cell_type": "code",
   "execution_count": 128,
   "id": "ce373b54",
   "metadata": {},
   "outputs": [],
   "source": [
    "def summer(arr):\n",
    "    total = 0\n",
    "    if 6 and 9 in arr:\n",
    "        index = arr[arr.index(6):arr.index(9)+1]\n",
    "        for i in index:\n",
    "            arr.remove(i)\n",
    "        for item in arr:\n",
    "            total += item\n",
    "    else:\n",
    "         for item in arr:\n",
    "            total += item\n",
    "    return total "
   ]
  },
  {
   "cell_type": "code",
   "execution_count": 129,
   "id": "3e0f6348",
   "metadata": {},
   "outputs": [
    {
     "data": {
      "text/plain": [
       "9"
      ]
     },
     "execution_count": 129,
     "metadata": {},
     "output_type": "execute_result"
    }
   ],
   "source": [
    "summer([1,3,5])"
   ]
  },
  {
   "cell_type": "code",
   "execution_count": 130,
   "id": "39aa66d8",
   "metadata": {},
   "outputs": [
    {
     "data": {
      "text/plain": [
       "9"
      ]
     },
     "execution_count": 130,
     "metadata": {},
     "output_type": "execute_result"
    }
   ],
   "source": [
    "summer([4,5,6,7,8,9])"
   ]
  },
  {
   "cell_type": "code",
   "execution_count": 131,
   "id": "eb6afb84",
   "metadata": {},
   "outputs": [
    {
     "data": {
      "text/plain": [
       "14"
      ]
     },
     "execution_count": 131,
     "metadata": {},
     "output_type": "execute_result"
    }
   ],
   "source": [
    "summer([2,1,6,9,11])"
   ]
  },
  {
   "cell_type": "code",
   "execution_count": 331,
   "id": "41dcfd14",
   "metadata": {},
   "outputs": [],
   "source": [
    "def summer_69(arr):\n",
    "    total = 0\n",
    "    add = True\n",
    "    \n",
    "    for num in arr:\n",
    "        while add:\n",
    "            if num!= 6:\n",
    "                total += num\n",
    "                break\n",
    "            else:\n",
    "                add = False\n",
    "        while not add:\n",
    "            if num != 9:\n",
    "                break\n",
    "            else:\n",
    "                add = True\n",
    "                break\n",
    "    return total"
   ]
  },
  {
   "cell_type": "code",
   "execution_count": 332,
   "id": "fb0bf10a",
   "metadata": {},
   "outputs": [
    {
     "data": {
      "text/plain": [
       "9"
      ]
     },
     "execution_count": 332,
     "metadata": {},
     "output_type": "execute_result"
    }
   ],
   "source": [
    "summer_69([1,3,5])"
   ]
  },
  {
   "cell_type": "code",
   "execution_count": 327,
   "id": "20a79684",
   "metadata": {},
   "outputs": [
    {
     "data": {
      "text/plain": [
       "9"
      ]
     },
     "execution_count": 327,
     "metadata": {},
     "output_type": "execute_result"
    }
   ],
   "source": [
    "summer_69([4,5,6,7,8,9])"
   ]
  },
  {
   "cell_type": "code",
   "execution_count": 328,
   "id": "1a5adbbe",
   "metadata": {},
   "outputs": [
    {
     "data": {
      "text/plain": [
       "14"
      ]
     },
     "execution_count": 328,
     "metadata": {},
     "output_type": "execute_result"
    }
   ],
   "source": [
    "summer_69([2,1,6,9,11])"
   ]
  },
  {
   "cell_type": "markdown",
   "id": "a4a25fe3",
   "metadata": {},
   "source": [
    "* **Write a function that takes in a list of integers and returns True if it contains 007 in order**"
   ]
  },
  {
   "cell_type": "code",
   "execution_count": 150,
   "id": "52e898d4",
   "metadata": {},
   "outputs": [],
   "source": [
    "def num007(nums):\n",
    "    order = []\n",
    "    for num in nums:\n",
    "        if num == 0 or num == 7:\n",
    "            order.append(num)\n",
    "    return order == [0,0,7]"
   ]
  },
  {
   "cell_type": "code",
   "execution_count": 151,
   "id": "0be426ff",
   "metadata": {},
   "outputs": [
    {
     "data": {
      "text/plain": [
       "True"
      ]
     },
     "execution_count": 151,
     "metadata": {},
     "output_type": "execute_result"
    }
   ],
   "source": [
    "num007([1,2,4,0,0,7,5])"
   ]
  },
  {
   "cell_type": "code",
   "execution_count": 152,
   "id": "f88b0c6c",
   "metadata": {},
   "outputs": [
    {
     "data": {
      "text/plain": [
       "True"
      ]
     },
     "execution_count": 152,
     "metadata": {},
     "output_type": "execute_result"
    }
   ],
   "source": [
    "num007([1,0,2,4,0,5,7])"
   ]
  },
  {
   "cell_type": "code",
   "execution_count": 153,
   "id": "f8b348a5",
   "metadata": {},
   "outputs": [
    {
     "data": {
      "text/plain": [
       "False"
      ]
     },
     "execution_count": 153,
     "metadata": {},
     "output_type": "execute_result"
    }
   ],
   "source": [
    "num007([1,7,2,0,4,5,0])"
   ]
  },
  {
   "cell_type": "code",
   "execution_count": 349,
   "id": "0883ea1b",
   "metadata": {},
   "outputs": [],
   "source": [
    "def num_007(nums):\n",
    "    pattern = [0,0,7,'']\n",
    "    for num in nums:\n",
    "        if num == pattern[0]:\n",
    "            pattern.pop(0)\n",
    "    return len(pattern) == 1"
   ]
  },
  {
   "cell_type": "code",
   "execution_count": 350,
   "id": "35155d86",
   "metadata": {},
   "outputs": [
    {
     "data": {
      "text/plain": [
       "True"
      ]
     },
     "execution_count": 350,
     "metadata": {},
     "output_type": "execute_result"
    }
   ],
   "source": [
    "num_007([1,2,4,0,0,7,5])"
   ]
  },
  {
   "cell_type": "code",
   "execution_count": 351,
   "id": "4d0d2fc9",
   "metadata": {},
   "outputs": [
    {
     "data": {
      "text/plain": [
       "True"
      ]
     },
     "execution_count": 351,
     "metadata": {},
     "output_type": "execute_result"
    }
   ],
   "source": [
    "num_007([1,0,2,4,0,5,7])"
   ]
  },
  {
   "cell_type": "code",
   "execution_count": 352,
   "id": "404e098d",
   "metadata": {},
   "outputs": [
    {
     "data": {
      "text/plain": [
       "False"
      ]
     },
     "execution_count": 352,
     "metadata": {},
     "output_type": "execute_result"
    }
   ],
   "source": [
    "num_007([1,7,2,0,4,5,0])"
   ]
  },
  {
   "cell_type": "markdown",
   "id": "2cd66473",
   "metadata": {},
   "source": [
    "* **Write a function to determine prime number**"
   ]
  },
  {
   "cell_type": "code",
   "execution_count": 201,
   "id": "eb0d2081",
   "metadata": {},
   "outputs": [],
   "source": [
    "def prime():\n",
    "    num = int(input(\"Enter any number: \"))\n",
    "    no_of_terms = []\n",
    "    for n in range(1,num+1):\n",
    "        if num % n == 0:\n",
    "            no_of_terms.append(n)\n",
    "    if len(no_of_terms) == 2:\n",
    "        print(f'{num} is a prime number.')\n",
    "    else:\n",
    "        print(f'{num} is a composite number')"
   ]
  },
  {
   "cell_type": "code",
   "execution_count": 205,
   "id": "84b38e68",
   "metadata": {},
   "outputs": [
    {
     "name": "stdout",
     "output_type": "stream",
     "text": [
      "Enter any number: 13\n",
      "13 is a prime number.\n"
     ]
    }
   ],
   "source": [
    "prime()"
   ]
  },
  {
   "cell_type": "markdown",
   "id": "337df84a",
   "metadata": {},
   "source": [
    "* **Write a function that returns the number of prime numbers that exist up to and including given number**"
   ]
  },
  {
   "cell_type": "code",
   "execution_count": 244,
   "id": "a40f89c9",
   "metadata": {},
   "outputs": [],
   "source": [
    "def count_prime(number):\n",
    "    numbers = []\n",
    "    for n in range(number):\n",
    "        n+=1\n",
    "        numbers.append(n)\n",
    "    return numbers"
   ]
  },
  {
   "cell_type": "code",
   "execution_count": 245,
   "id": "84bb7ef7",
   "metadata": {},
   "outputs": [
    {
     "ename": "TypeError",
     "evalue": "unsupported operand type(s) for %: 'list' and 'int'",
     "output_type": "error",
     "traceback": [
      "\u001b[1;31m---------------------------------------------------------------------------\u001b[0m",
      "\u001b[1;31mTypeError\u001b[0m                                 Traceback (most recent call last)",
      "\u001b[1;32m<ipython-input-245-854cbc30cbb5>\u001b[0m in \u001b[0;36m<module>\u001b[1;34m\u001b[0m\n\u001b[1;32m----> 1\u001b[1;33m \u001b[0mcount_prime\u001b[0m\u001b[1;33m(\u001b[0m\u001b[1;36m10\u001b[0m\u001b[1;33m)\u001b[0m\u001b[1;33m\u001b[0m\u001b[1;33m\u001b[0m\u001b[0m\n\u001b[0m",
      "\u001b[1;32m<ipython-input-244-7d91eb8e41c9>\u001b[0m in \u001b[0;36mcount_prime\u001b[1;34m(number)\u001b[0m\n\u001b[0;32m      5\u001b[0m         \u001b[0mnumbers\u001b[0m\u001b[1;33m.\u001b[0m\u001b[0mappend\u001b[0m\u001b[1;33m(\u001b[0m\u001b[0mn\u001b[0m\u001b[1;33m)\u001b[0m\u001b[1;33m\u001b[0m\u001b[1;33m\u001b[0m\u001b[0m\n\u001b[0;32m      6\u001b[0m     \u001b[1;32mfor\u001b[0m \u001b[0mnum\u001b[0m \u001b[1;32min\u001b[0m \u001b[0mnumbers\u001b[0m\u001b[1;33m:\u001b[0m\u001b[1;33m\u001b[0m\u001b[1;33m\u001b[0m\u001b[0m\n\u001b[1;32m----> 7\u001b[1;33m         \u001b[1;32mif\u001b[0m \u001b[0mnumbers\u001b[0m \u001b[1;33m%\u001b[0m \u001b[0mnum\u001b[0m \u001b[1;33m==\u001b[0m \u001b[1;36m0\u001b[0m\u001b[1;33m:\u001b[0m\u001b[1;33m\u001b[0m\u001b[1;33m\u001b[0m\u001b[0m\n\u001b[0m\u001b[0;32m      8\u001b[0m             \u001b[0mprint\u001b[0m\u001b[1;33m(\u001b[0m\u001b[0mnum\u001b[0m\u001b[1;33m)\u001b[0m\u001b[1;33m\u001b[0m\u001b[1;33m\u001b[0m\u001b[0m\n\u001b[0;32m      9\u001b[0m     \u001b[1;32mreturn\u001b[0m \u001b[0mnumbers\u001b[0m\u001b[1;33m\u001b[0m\u001b[1;33m\u001b[0m\u001b[0m\n",
      "\u001b[1;31mTypeError\u001b[0m: unsupported operand type(s) for %: 'list' and 'int'"
     ]
    }
   ],
   "source": [
    "count_prime(10)"
   ]
  },
  {
   "cell_type": "code",
   "execution_count": 375,
   "id": "88dda23e",
   "metadata": {},
   "outputs": [],
   "source": [
    "def count_primes(num):\n",
    "    if num < 2:\n",
    "        return 0\n",
    "    primes = [2]\n",
    "    count = 3\n",
    "    while count <= num:\n",
    "        for y in primes:\n",
    "            if count%y == 0:\n",
    "                count += 2\n",
    "                break\n",
    "        else:\n",
    "            primes.append(count)\n",
    "            count += 2\n",
    "    print(primes)\n",
    "    total = len(primes)\n",
    "    message = f'The total prime numbers existed up to {num} is: {total}'\n",
    "    return message"
   ]
  },
  {
   "cell_type": "code",
   "execution_count": 376,
   "id": "a064bc75",
   "metadata": {},
   "outputs": [
    {
     "name": "stdout",
     "output_type": "stream",
     "text": [
      "[2, 3, 5, 7, 11, 13, 17, 19, 23, 29, 31, 37, 41, 43, 47, 53, 59, 61, 67, 71, 73, 79, 83, 89, 97]\n"
     ]
    },
    {
     "data": {
      "text/plain": [
       "'The total prime numbers existed up to 100 is: 25'"
      ]
     },
     "execution_count": 376,
     "metadata": {},
     "output_type": "execute_result"
    }
   ],
   "source": [
    "count_primes(100)"
   ]
  },
  {
   "cell_type": "markdown",
   "id": "a94946d9",
   "metadata": {},
   "source": [
    "## Map and Filter"
   ]
  },
  {
   "cell_type": "code",
   "execution_count": 16,
   "id": "eef9f590",
   "metadata": {},
   "outputs": [],
   "source": [
    "# Map\n",
    "\n",
    "def square(num):\n",
    "    return num ** 2"
   ]
  },
  {
   "cell_type": "code",
   "execution_count": 2,
   "id": "a6342286",
   "metadata": {},
   "outputs": [],
   "source": [
    "nums = [2,7,9,11]"
   ]
  },
  {
   "cell_type": "code",
   "execution_count": 7,
   "id": "5b8664db",
   "metadata": {},
   "outputs": [
    {
     "data": {
      "text/plain": [
       "<map at 0x24ed1203400>"
      ]
     },
     "execution_count": 7,
     "metadata": {},
     "output_type": "execute_result"
    }
   ],
   "source": [
    "map(square, nums)"
   ]
  },
  {
   "cell_type": "code",
   "execution_count": 6,
   "id": "19707ebc",
   "metadata": {},
   "outputs": [
    {
     "data": {
      "text/plain": [
       "[4, 49, 81, 121]"
      ]
     },
     "execution_count": 6,
     "metadata": {},
     "output_type": "execute_result"
    }
   ],
   "source": [
    "list(map(square, nums))"
   ]
  },
  {
   "cell_type": "code",
   "execution_count": 8,
   "id": "502c88cd",
   "metadata": {},
   "outputs": [
    {
     "name": "stdout",
     "output_type": "stream",
     "text": [
      "4\n",
      "49\n",
      "81\n",
      "121\n"
     ]
    }
   ],
   "source": [
    "for num in map(square,nums):\n",
    "    print(num)"
   ]
  },
  {
   "cell_type": "code",
   "execution_count": 17,
   "id": "4c924a1a",
   "metadata": {},
   "outputs": [],
   "source": [
    "# filter based on condition\n",
    "\n",
    "def check_even(num):\n",
    "    return num%2 == 0"
   ]
  },
  {
   "cell_type": "code",
   "execution_count": 10,
   "id": "fda9296a",
   "metadata": {},
   "outputs": [],
   "source": [
    "nums = [1,2,3,4,5,6]"
   ]
  },
  {
   "cell_type": "code",
   "execution_count": 11,
   "id": "2e2d5384",
   "metadata": {},
   "outputs": [
    {
     "data": {
      "text/plain": [
       "<filter at 0x24ed120a4f0>"
      ]
     },
     "execution_count": 11,
     "metadata": {},
     "output_type": "execute_result"
    }
   ],
   "source": [
    "filter(check_even, nums)"
   ]
  },
  {
   "cell_type": "code",
   "execution_count": 12,
   "id": "ffcca92e",
   "metadata": {},
   "outputs": [
    {
     "data": {
      "text/plain": [
       "[2, 4, 6]"
      ]
     },
     "execution_count": 12,
     "metadata": {},
     "output_type": "execute_result"
    }
   ],
   "source": [
    "list(filter(check_even, nums))"
   ]
  },
  {
   "cell_type": "code",
   "execution_count": 14,
   "id": "eb1d58a6",
   "metadata": {},
   "outputs": [
    {
     "name": "stdout",
     "output_type": "stream",
     "text": [
      "2\n",
      "4\n",
      "6\n"
     ]
    }
   ],
   "source": [
    "for num in filter(check_even, nums):\n",
    "    print(num)"
   ]
  },
  {
   "cell_type": "markdown",
   "id": "1239864c",
   "metadata": {},
   "source": [
    "## Lambda Expressions\n",
    "\n",
    "**They are used for anonymous function**"
   ]
  },
  {
   "cell_type": "code",
   "execution_count": 18,
   "id": "aed1fc82",
   "metadata": {},
   "outputs": [],
   "source": [
    "def square_root(num):\n",
    "    return num ** 0.5"
   ]
  },
  {
   "cell_type": "code",
   "execution_count": 19,
   "id": "e95d17ef",
   "metadata": {},
   "outputs": [
    {
     "data": {
      "text/plain": [
       "3.0"
      ]
     },
     "execution_count": 19,
     "metadata": {},
     "output_type": "execute_result"
    }
   ],
   "source": [
    "square_root(9)"
   ]
  },
  {
   "cell_type": "code",
   "execution_count": 22,
   "id": "30950b41",
   "metadata": {},
   "outputs": [],
   "source": [
    "square = lambda num : num ** 0.5"
   ]
  },
  {
   "cell_type": "code",
   "execution_count": 23,
   "id": "5185f28a",
   "metadata": {},
   "outputs": [
    {
     "data": {
      "text/plain": [
       "5.0"
      ]
     },
     "execution_count": 23,
     "metadata": {},
     "output_type": "execute_result"
    }
   ],
   "source": [
    "square(25)"
   ]
  },
  {
   "cell_type": "code",
   "execution_count": 26,
   "id": "41448c9c",
   "metadata": {},
   "outputs": [
    {
     "data": {
      "text/plain": [
       "[1, 4, 9, 16, 25, 36]"
      ]
     },
     "execution_count": 26,
     "metadata": {},
     "output_type": "execute_result"
    }
   ],
   "source": [
    "list(map(lambda num:num ** 2, nums))"
   ]
  },
  {
   "cell_type": "code",
   "execution_count": 27,
   "id": "786fba3a",
   "metadata": {},
   "outputs": [
    {
     "data": {
      "text/plain": [
       "[2, 4, 6]"
      ]
     },
     "execution_count": 27,
     "metadata": {},
     "output_type": "execute_result"
    }
   ],
   "source": [
    "list(filter(lambda num:num%2 == 0, nums))"
   ]
  },
  {
   "cell_type": "markdown",
   "id": "ab1a93a6",
   "metadata": {},
   "source": [
    "## Scope\n",
    "\n",
    "**LEGB Rule:**\n",
    "\n",
    "* L: Local -- variable within a function (def or lambda)\n",
    "* E: Enclosing Local -- enclosed function from inner to outer\n",
    "* G: Global (module) -- assigned at top level within the file\n",
    "* B: Built-in -- built-in name modules"
   ]
  },
  {
   "cell_type": "code",
   "execution_count": 28,
   "id": "7616f59f",
   "metadata": {},
   "outputs": [],
   "source": [
    "x = 25\n",
    "\n",
    "def printer():\n",
    "    x = 30\n",
    "    return x"
   ]
  },
  {
   "cell_type": "code",
   "execution_count": 29,
   "id": "80653dd6",
   "metadata": {},
   "outputs": [
    {
     "name": "stdout",
     "output_type": "stream",
     "text": [
      "25\n"
     ]
    }
   ],
   "source": [
    "print(x)"
   ]
  },
  {
   "cell_type": "code",
   "execution_count": 30,
   "id": "bd8a8d72",
   "metadata": {},
   "outputs": [
    {
     "name": "stdout",
     "output_type": "stream",
     "text": [
      "30\n"
     ]
    }
   ],
   "source": [
    "print(printer())"
   ]
  },
  {
   "cell_type": "code",
   "execution_count": 31,
   "id": "d0342f7f",
   "metadata": {},
   "outputs": [],
   "source": [
    "# Global\n",
    "\n",
    "name = \"Abisoye\"\n",
    "\n",
    "def greet():\n",
    "    # Enclosing\n",
    "    name = \"Akinloye\"\n",
    "    \n",
    "    def hello():\n",
    "        # Local\n",
    "        name = \"Samson\"\n",
    "        print(f'Hello {name}.')\n",
    "        \n",
    "    hello()"
   ]
  },
  {
   "cell_type": "code",
   "execution_count": 32,
   "id": "90acac3f",
   "metadata": {},
   "outputs": [
    {
     "name": "stdout",
     "output_type": "stream",
     "text": [
      "Hello Samson.\n"
     ]
    }
   ],
   "source": [
    "greet()"
   ]
  },
  {
   "cell_type": "code",
   "execution_count": 34,
   "id": "a00bfdd7",
   "metadata": {},
   "outputs": [],
   "source": [
    "x = 50\n",
    "\n",
    "def func():\n",
    "    global x\n",
    "    print(f'X is {x}')\n",
    "    \n",
    "    # Local reassignment on a global variable\n",
    "    x = 'New Value'\n",
    "    \n",
    "    print(f'I just locally changed Global X to {x}')"
   ]
  },
  {
   "cell_type": "code",
   "execution_count": 35,
   "id": "457c95d2",
   "metadata": {},
   "outputs": [
    {
     "name": "stdout",
     "output_type": "stream",
     "text": [
      "50\n"
     ]
    }
   ],
   "source": [
    "print(x)"
   ]
  },
  {
   "cell_type": "code",
   "execution_count": 36,
   "id": "8f981d32",
   "metadata": {},
   "outputs": [
    {
     "name": "stdout",
     "output_type": "stream",
     "text": [
      "X is 50\n",
      "I just locally changed Global X to New Value\n"
     ]
    }
   ],
   "source": [
    "func()"
   ]
  },
  {
   "cell_type": "code",
   "execution_count": 37,
   "id": "6343ace6",
   "metadata": {},
   "outputs": [
    {
     "name": "stdout",
     "output_type": "stream",
     "text": [
      "New Value\n"
     ]
    }
   ],
   "source": [
    "print(x)"
   ]
  },
  {
   "cell_type": "markdown",
   "id": "83fb1de1",
   "metadata": {},
   "source": [
    "## Exercise"
   ]
  },
  {
   "cell_type": "markdown",
   "id": "b5a5dcaa",
   "metadata": {},
   "source": [
    "**Write a function that computes the volume of a sphere given its radius**"
   ]
  },
  {
   "cell_type": "code",
   "execution_count": 39,
   "id": "b5128306",
   "metadata": {},
   "outputs": [],
   "source": [
    "def vol_of_sphere(rad):\n",
    "    pass"
   ]
  },
  {
   "cell_type": "markdown",
   "id": "9167609f",
   "metadata": {},
   "source": [
    "**Write a function that checks whether a number is in a given range (Inclusive of high and low)**"
   ]
  },
  {
   "cell_type": "code",
   "execution_count": 40,
   "id": "aba4249c",
   "metadata": {},
   "outputs": [],
   "source": [
    "def range_check(num,low,high):\n",
    "    pass"
   ]
  },
  {
   "cell_type": "code",
   "execution_count": 42,
   "id": "15a30fc8",
   "metadata": {},
   "outputs": [],
   "source": [
    "range_check(3,1,10)"
   ]
  },
  {
   "cell_type": "markdown",
   "id": "b42bb573",
   "metadata": {},
   "source": [
    "**Write a Python function that accepts a string and calculate the number of upper case letters and lower case letter**"
   ]
  },
  {
   "cell_type": "code",
   "execution_count": 43,
   "id": "b0ade75a",
   "metadata": {},
   "outputs": [],
   "source": [
    "def count_case(sentence):\n",
    "    pass"
   ]
  },
  {
   "cell_type": "code",
   "execution_count": 44,
   "id": "5b6b2e2f",
   "metadata": {},
   "outputs": [],
   "source": [
    "count_case('Hello Mr. Rogers, how are you this fine Tuesday')"
   ]
  },
  {
   "cell_type": "markdown",
   "id": "f8b66e90",
   "metadata": {},
   "source": [
    "**Write a Python function that takes a list and returns a new list with unique elements of the first list**"
   ]
  },
  {
   "cell_type": "code",
   "execution_count": 45,
   "id": "6a3cff62",
   "metadata": {},
   "outputs": [],
   "source": [
    "def unique(list):\n",
    "    pass"
   ]
  },
  {
   "cell_type": "code",
   "execution_count": 48,
   "id": "532e056e",
   "metadata": {},
   "outputs": [],
   "source": [
    "unique([1,1,1,1,1,2,2,3,3,3,3,4,5])"
   ]
  },
  {
   "cell_type": "markdown",
   "id": "c55d6794",
   "metadata": {},
   "source": [
    "**Write a Python function to multiply all the numbers in a list**"
   ]
  },
  {
   "cell_type": "code",
   "execution_count": 49,
   "id": "76e0bb5c",
   "metadata": {},
   "outputs": [],
   "source": [
    "def multiply(nums):\n",
    "    pass"
   ]
  },
  {
   "cell_type": "code",
   "execution_count": 50,
   "id": "28ed2b5e",
   "metadata": {},
   "outputs": [],
   "source": [
    "multiply([1,2,3,-4])"
   ]
  },
  {
   "cell_type": "markdown",
   "id": "b3307048",
   "metadata": {},
   "source": [
    "**Write a program function to check whether a string is pangram or not**\n",
    "\n",
    "**N.B:** Pangrams are words or sentences containing every letter of the alphabet at least once."
   ]
  },
  {
   "cell_type": "code",
   "execution_count": 52,
   "id": "7c315751",
   "metadata": {},
   "outputs": [],
   "source": [
    "import string\n",
    "\n",
    "def ispangram(strl, alphabet=string.ascii_lowercase):\n",
    "    pass"
   ]
  },
  {
   "cell_type": "code",
   "execution_count": 53,
   "id": "86fd01d4",
   "metadata": {},
   "outputs": [],
   "source": [
    "ispangram(\"The quick brown fox jump over the lazy dog\")"
   ]
  },
  {
   "cell_type": "markdown",
   "id": "d67424be",
   "metadata": {},
   "source": [
    "# Milestone Project"
   ]
  },
  {
   "cell_type": "code",
   "execution_count": 1,
   "id": "1104c09d",
   "metadata": {},
   "outputs": [],
   "source": [
    "from IPython.display import clear_output\n",
    "\n",
    "def display_board(board):\n",
    "    clear_output()\n",
    "    print('   |   |')\n",
    "    print(' ' + board[7]+ ' | '+ board[8]+ ' | '+ board[9])\n",
    "    print('   |   |')\n",
    "    print('-----------')\n",
    "    print('   |   |')\n",
    "    print(' ' + board[4]+ ' | '+ board[5]+ ' | '+ board[6])\n",
    "    print('   |   |')\n",
    "    print('-----------')\n",
    "    print('   |   |')\n",
    "    print(' ' + board[1]+ ' | '+ board[2]+ ' | '+ board[3])\n",
    "    print('   |   |')"
   ]
  },
  {
   "cell_type": "code",
   "execution_count": 2,
   "id": "2b20ee0e",
   "metadata": {},
   "outputs": [
    {
     "name": "stdout",
     "output_type": "stream",
     "text": [
      "   |   |\n",
      " X | O | X\n",
      "   |   |\n",
      "-----------\n",
      "   |   |\n",
      " O | X | O\n",
      "   |   |\n",
      "-----------\n",
      "   |   |\n",
      " X | O | X\n",
      "   |   |\n"
     ]
    }
   ],
   "source": [
    "test_board = ['#','X','O','X','O','X','O','X','O','X']\n",
    "display_board(test_board)"
   ]
  },
  {
   "cell_type": "code",
   "execution_count": 3,
   "id": "02a8c1d5",
   "metadata": {},
   "outputs": [
    {
     "name": "stdout",
     "output_type": "stream",
     "text": [
      "Player 1: Choose X or O: x\n"
     ]
    }
   ],
   "source": [
    "def player_input():\n",
    "    marker = ''\n",
    "    \n",
    "    while marker != \"X\" and marker != \"O\":\n",
    "        marker = input(\"Player 1: Choose X or O: \").upper()\n",
    "        \n",
    "    if marker == 'X':\n",
    "        return ('X', 'O')\n",
    "    else:\n",
    "        return ('O','X')\n",
    "        \n",
    "player1, player2 = player_input()"
   ]
  },
  {
   "cell_type": "code",
   "execution_count": 4,
   "id": "1a039100",
   "metadata": {},
   "outputs": [],
   "source": [
    "def place_marker(board, marker, position):\n",
    "    board[position] = marker"
   ]
  },
  {
   "cell_type": "code",
   "execution_count": 5,
   "id": "196fd590",
   "metadata": {},
   "outputs": [
    {
     "data": {
      "text/plain": [
       "['#', 'X', 'O', 'X', 'O', 'X', 'O', 'X', 'O', 'X']"
      ]
     },
     "execution_count": 5,
     "metadata": {},
     "output_type": "execute_result"
    }
   ],
   "source": [
    "test_board"
   ]
  },
  {
   "cell_type": "code",
   "execution_count": 6,
   "id": "7daec0fb",
   "metadata": {},
   "outputs": [
    {
     "name": "stdout",
     "output_type": "stream",
     "text": [
      "   |   |\n",
      " X | $ | X\n",
      "   |   |\n",
      "-----------\n",
      "   |   |\n",
      " O | X | O\n",
      "   |   |\n",
      "-----------\n",
      "   |   |\n",
      " X | O | X\n",
      "   |   |\n"
     ]
    }
   ],
   "source": [
    "place_marker(test_board, '$', 8)\n",
    "display_board(test_board)"
   ]
  },
  {
   "cell_type": "code",
   "execution_count": 19,
   "id": "2400a8e1",
   "metadata": {},
   "outputs": [],
   "source": [
    "def win_check(board, mark):\n",
    "    \n",
    "    return ((board[1] == mark and board[2] == mark and board[3] == mark) or\n",
    "    (board[4] == mark and board[5] == mark and board[6] == mark) or\n",
    "    (board[7] == mark and board[8] == mark and board[9] == mark) or \n",
    "    (board[1] == mark and board[4] == mark and board[7] == mark) or\n",
    "    (board[2] == mark and board[5] == mark and board[8] == mark) or\n",
    "    (board[3] == mark and board[6] == mark and board[9] == mark) or\n",
    "    (board[3] == mark and board[5] == mark and board[7] == mark) or\n",
    "    (board[1] == mark and board[5] == mark and board[9] == mark))"
   ]
  },
  {
   "cell_type": "code",
   "execution_count": 20,
   "id": "a4001911",
   "metadata": {},
   "outputs": [
    {
     "data": {
      "text/plain": [
       "True"
      ]
     },
     "execution_count": 20,
     "metadata": {},
     "output_type": "execute_result"
    }
   ],
   "source": [
    "win_check(test_board, 'X')"
   ]
  },
  {
   "cell_type": "code",
   "execution_count": 21,
   "id": "5945868c",
   "metadata": {},
   "outputs": [],
   "source": [
    "import random\n",
    "\n",
    "def choose_first():\n",
    "    \n",
    "    flip = random.randint(0,1)\n",
    "    \n",
    "    if flip == 0:\n",
    "        return 'Player 1'\n",
    "    else:\n",
    "        return 'Player 2'"
   ]
  },
  {
   "cell_type": "code",
   "execution_count": 22,
   "id": "988f4bff",
   "metadata": {},
   "outputs": [],
   "source": [
    "def space_check(board, position):\n",
    "    return board[position] == ' '"
   ]
  },
  {
   "cell_type": "code",
   "execution_count": 23,
   "id": "11ca242d",
   "metadata": {},
   "outputs": [],
   "source": [
    "def full_board_check(board):\n",
    "    for i in range(1,10):\n",
    "        if space_check(board, i):\n",
    "            return False \n",
    "        \n",
    "    return True"
   ]
  },
  {
   "cell_type": "code",
   "execution_count": 24,
   "id": "f5d4082d",
   "metadata": {},
   "outputs": [],
   "source": [
    "def player_choice(board):\n",
    "    position = 0\n",
    "    \n",
    "    while position not in range(1,10) or not space_check(board, position):\n",
    "        position = int(input('Choose a position: (1-9)'))\n",
    "        \n",
    "    return position"
   ]
  },
  {
   "cell_type": "code",
   "execution_count": 25,
   "id": "fd0149f7",
   "metadata": {},
   "outputs": [],
   "source": [
    "def replay():\n",
    "    \n",
    "    choice = input(\"Play again? Enter Yes or No: \")\n",
    "    \n",
    "    return choice.lower() == 'yes'"
   ]
  },
  {
   "cell_type": "code",
   "execution_count": 26,
   "id": "b95545b7",
   "metadata": {},
   "outputs": [
    {
     "name": "stdout",
     "output_type": "stream",
     "text": [
      "   |   |\n",
      "   |   | X\n",
      "   |   |\n",
      "-----------\n",
      "   |   |\n",
      "   | X | O\n",
      "   |   |\n",
      "-----------\n",
      "   |   |\n",
      " X |   | O\n",
      "   |   |\n",
      "Player 1 has won!!!\n",
      "Play again? Enter Yes or No: no\n"
     ]
    }
   ],
   "source": [
    "print(\"Welcome to 'TIC TAC TOE'\")\n",
    "\n",
    "while True:\n",
    "    # Play the game\n",
    "    \n",
    "    # Set the Board, Choose marker\n",
    "    the_board = [' ']*10\n",
    "    player1, player2 = player_input()\n",
    "    \n",
    "    turn = choose_first()\n",
    "    print(turn + ' will go first')\n",
    "    \n",
    "    # Game play\n",
    "    play_game = input('Ready to play? Yes or No')\n",
    "    \n",
    "    if play_game.lower() == 'yes':\n",
    "         game_on = True\n",
    "    else:\n",
    "        game_on = False\n",
    "        \n",
    "    while game_on:\n",
    "        if turn == 'Player 1':\n",
    "            # show the board\n",
    "            display_board(the_board)\n",
    "            # Choose a position\n",
    "            position = player_choice(the_board)\n",
    "            # place the marker on the position\n",
    "            place_marker(the_board, player1, position)\n",
    "            \n",
    "            # check if they won\n",
    "            if win_check(the_board, player1):\n",
    "                display_board(the_board)\n",
    "                print('Player 1 has won!!!')\n",
    "                game_on = False\n",
    "            else:\n",
    "                \n",
    "                if full_board_check(the_board):\n",
    "                    display_board(the_board)\n",
    "                    print(\"Tie Game!!\")\n",
    "                    game_on = False\n",
    "                else:\n",
    "                    turn = \"Player 2\"\n",
    "        else:\n",
    "           # show the board\n",
    "            display_board(the_board)\n",
    "            # Choose a position\n",
    "            position = player_choice(the_board)\n",
    "            # place the marker on the position\n",
    "            place_marker(the_board, player2, position)\n",
    "            \n",
    "            # check if they won\n",
    "            if win_check(the_board, player2):\n",
    "                display_board(the_board)\n",
    "                print('Player 2 has won!!!')\n",
    "                game_on = False\n",
    "            else:\n",
    "                \n",
    "                if full_board_check(the_board):\n",
    "                    display_board(the_board)\n",
    "                    print(\"Tie Game!!\")\n",
    "                    game_on = False\n",
    "                else:\n",
    "                    turn = \"Player 1\" \n",
    "    \n",
    "    if not replay():\n",
    "        break"
   ]
  },
  {
   "cell_type": "code",
   "execution_count": null,
   "id": "353891c1",
   "metadata": {},
   "outputs": [],
   "source": []
  },
  {
   "cell_type": "code",
   "execution_count": null,
   "id": "896ae965",
   "metadata": {},
   "outputs": [],
   "source": []
  },
  {
   "cell_type": "code",
   "execution_count": null,
   "id": "dbccc281",
   "metadata": {},
   "outputs": [],
   "source": []
  },
  {
   "cell_type": "code",
   "execution_count": null,
   "id": "20f914f2",
   "metadata": {},
   "outputs": [],
   "source": []
  },
  {
   "cell_type": "code",
   "execution_count": null,
   "id": "f7a5d544",
   "metadata": {},
   "outputs": [],
   "source": []
  },
  {
   "cell_type": "code",
   "execution_count": null,
   "id": "65274eed",
   "metadata": {},
   "outputs": [],
   "source": []
  },
  {
   "cell_type": "code",
   "execution_count": null,
   "id": "7ea0adc8",
   "metadata": {},
   "outputs": [],
   "source": []
  }
 ],
 "metadata": {
  "kernelspec": {
   "display_name": "Python 3",
   "language": "python",
   "name": "python3"
  },
  "language_info": {
   "codemirror_mode": {
    "name": "ipython",
    "version": 3
   },
   "file_extension": ".py",
   "mimetype": "text/x-python",
   "name": "python",
   "nbconvert_exporter": "python",
   "pygments_lexer": "ipython3",
   "version": "3.8.8"
  }
 },
 "nbformat": 4,
 "nbformat_minor": 5
}
