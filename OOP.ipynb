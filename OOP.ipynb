{
 "cells": [
  {
   "cell_type": "markdown",
   "id": "263a92a0",
   "metadata": {},
   "source": [
    "# OOP\n",
    "\n",
    "**Object Oriented Programming (OOP) allows programmers to create their own object that have methods and attributes** "
   ]
  },
  {
   "cell_type": "code",
   "execution_count": null,
   "id": "16940264",
   "metadata": {},
   "outputs": [],
   "source": [
    "# syntax\n",
    "\n",
    "class NameOfClass():\n",
    "    # first parameter in class is the 'self' param\n",
    "    def __init__(self, param1, param2):\n",
    "        self.param1 = param1\n",
    "        self.param2 = param2\n",
    "        \n",
    "    def some_method(self):\n",
    "        # perform some action\n",
    "        print(self.param1)"
   ]
  },
  {
   "cell_type": "code",
   "execution_count": null,
   "id": "3c62f051",
   "metadata": {},
   "outputs": [],
   "source": [
    "class Student():\n",
    "    pass"
   ]
  },
  {
   "cell_type": "code",
   "execution_count": null,
   "id": "4c38db13",
   "metadata": {},
   "outputs": [],
   "source": [
    "new_student = Student()"
   ]
  },
  {
   "cell_type": "code",
   "execution_count": null,
   "id": "f3dada82",
   "metadata": {},
   "outputs": [],
   "source": [
    "type(new_student)"
   ]
  },
  {
   "cell_type": "markdown",
   "id": "8275f735",
   "metadata": {},
   "source": [
    "### Attributes"
   ]
  },
  {
   "cell_type": "code",
   "execution_count": null,
   "id": "73d85554",
   "metadata": {},
   "outputs": [],
   "source": [
    "# class with attribute\n",
    "\n",
    "class Student():\n",
    "    def __init__(self, name, level):\n",
    "        # Attribute\n",
    "        self.name = name\n",
    "        self.level = level"
   ]
  },
  {
   "cell_type": "code",
   "execution_count": null,
   "id": "9a70060d",
   "metadata": {},
   "outputs": [],
   "source": [
    "new_student = Student('Abisoye', '400L')"
   ]
  },
  {
   "cell_type": "code",
   "execution_count": null,
   "id": "d8b3b196",
   "metadata": {},
   "outputs": [],
   "source": [
    "type(new_student)"
   ]
  },
  {
   "cell_type": "code",
   "execution_count": null,
   "id": "e9994e66",
   "metadata": {},
   "outputs": [],
   "source": [
    "new_student.name"
   ]
  },
  {
   "cell_type": "code",
   "execution_count": null,
   "id": "fe50d72a",
   "metadata": {},
   "outputs": [],
   "source": [
    "new_student.level"
   ]
  },
  {
   "cell_type": "markdown",
   "id": "f73bc91a",
   "metadata": {},
   "source": [
    "### Class Object Attribute"
   ]
  },
  {
   "cell_type": "code",
   "execution_count": 16,
   "id": "b5bcaedd",
   "metadata": {},
   "outputs": [],
   "source": [
    "class Student():\n",
    "    \n",
    "    # class object attribute\n",
    "    degree = 'Undergraduate' \n",
    "    \n",
    "    def __init__(self, name, level):\n",
    "        # Attributes name & level\n",
    "        self.name = name\n",
    "        self.level = level"
   ]
  },
  {
   "cell_type": "code",
   "execution_count": 17,
   "id": "ea4d5155",
   "metadata": {},
   "outputs": [],
   "source": [
    "new_student = Student(name='Akinloye', level = \"500L\")"
   ]
  },
  {
   "cell_type": "code",
   "execution_count": 18,
   "id": "89f862f8",
   "metadata": {},
   "outputs": [
    {
     "data": {
      "text/plain": [
       "'500L'"
      ]
     },
     "execution_count": 18,
     "metadata": {},
     "output_type": "execute_result"
    }
   ],
   "source": [
    "new_student.level"
   ]
  },
  {
   "cell_type": "code",
   "execution_count": 19,
   "id": "32a14b7b",
   "metadata": {},
   "outputs": [
    {
     "data": {
      "text/plain": [
       "'Akinloye'"
      ]
     },
     "execution_count": 19,
     "metadata": {},
     "output_type": "execute_result"
    }
   ],
   "source": [
    "new_student.name"
   ]
  },
  {
   "cell_type": "markdown",
   "id": "be8c759e",
   "metadata": {},
   "source": [
    "### Method"
   ]
  },
  {
   "cell_type": "code",
   "execution_count": 10,
   "id": "b9cc654c",
   "metadata": {},
   "outputs": [],
   "source": [
    "class Student():\n",
    "    \n",
    "    # class object attribute\n",
    "    degree = 'Undergraduate' \n",
    "    \n",
    "    def __init__(self, name, level):\n",
    "        # Attributes name & level\n",
    "        self.name = name\n",
    "        self.level = level\n",
    "        \n",
    "    # method: Operation or Action\n",
    "    def greet(self):\n",
    "        print(f'Welcome, {self.name}.')"
   ]
  },
  {
   "cell_type": "code",
   "execution_count": 11,
   "id": "7a6239fc",
   "metadata": {},
   "outputs": [],
   "source": [
    "new_student = Student('Abisoye', '400L')"
   ]
  },
  {
   "cell_type": "code",
   "execution_count": 13,
   "id": "2bfc9178",
   "metadata": {},
   "outputs": [
    {
     "data": {
      "text/plain": [
       "<bound method Student.greet of <__main__.Student object at 0x0000022B4F1A6190>>"
      ]
     },
     "execution_count": 13,
     "metadata": {},
     "output_type": "execute_result"
    }
   ],
   "source": [
    "new_student.greet"
   ]
  },
  {
   "cell_type": "code",
   "execution_count": 14,
   "id": "b18cc5fa",
   "metadata": {},
   "outputs": [
    {
     "data": {
      "text/plain": [
       "'Undergraduate'"
      ]
     },
     "execution_count": 14,
     "metadata": {},
     "output_type": "execute_result"
    }
   ],
   "source": [
    "new_student.degree"
   ]
  },
  {
   "cell_type": "code",
   "execution_count": 15,
   "id": "d3800be0",
   "metadata": {},
   "outputs": [
    {
     "name": "stdout",
     "output_type": "stream",
     "text": [
      "Welcome, Abisoye.\n"
     ]
    }
   ],
   "source": [
    "new_student.greet()"
   ]
  },
  {
   "cell_type": "code",
   "execution_count": 30,
   "id": "b4d54e35",
   "metadata": {},
   "outputs": [],
   "source": [
    "class Circle():\n",
    "    \n",
    "    pi = 3.14\n",
    "    \n",
    "    def __init__(self, radius):\n",
    "        self.radius = radius\n",
    "        self.area = radius * radius\n",
    "        \n",
    "    # method\n",
    "    \n",
    "    def get_circumference(self):\n",
    "        return (2 * self.pi * self.radius)"
   ]
  },
  {
   "cell_type": "code",
   "execution_count": 31,
   "id": "b7c777e6",
   "metadata": {},
   "outputs": [],
   "source": [
    "circle = Circle(7)"
   ]
  },
  {
   "cell_type": "code",
   "execution_count": 32,
   "id": "d940ec6b",
   "metadata": {},
   "outputs": [
    {
     "data": {
      "text/plain": [
       "3.14"
      ]
     },
     "execution_count": 32,
     "metadata": {},
     "output_type": "execute_result"
    }
   ],
   "source": [
    "circle.pi"
   ]
  },
  {
   "cell_type": "code",
   "execution_count": 33,
   "id": "f2bf34e6",
   "metadata": {},
   "outputs": [
    {
     "data": {
      "text/plain": [
       "7"
      ]
     },
     "execution_count": 33,
     "metadata": {},
     "output_type": "execute_result"
    }
   ],
   "source": [
    "circle.radius"
   ]
  },
  {
   "cell_type": "code",
   "execution_count": 34,
   "id": "ed90513b",
   "metadata": {},
   "outputs": [
    {
     "data": {
      "text/plain": [
       "49"
      ]
     },
     "execution_count": 34,
     "metadata": {},
     "output_type": "execute_result"
    }
   ],
   "source": [
    "circle.area"
   ]
  },
  {
   "cell_type": "code",
   "execution_count": 29,
   "id": "59316de7",
   "metadata": {},
   "outputs": [
    {
     "data": {
      "text/plain": [
       "43.96"
      ]
     },
     "execution_count": 29,
     "metadata": {},
     "output_type": "execute_result"
    }
   ],
   "source": [
    "circle.get_circumference()"
   ]
  },
  {
   "cell_type": "markdown",
   "id": "6123a27c",
   "metadata": {},
   "source": [
    "## Inheritance"
   ]
  },
  {
   "cell_type": "code",
   "execution_count": 35,
   "id": "2f3bc660",
   "metadata": {},
   "outputs": [],
   "source": [
    "class Phone():\n",
    "    \n",
    "    def __init__(self):\n",
    "        print('Phone Lauched!!!')\n",
    "        \n",
    "    def who_am_i(self):\n",
    "        print('A phone')\n",
    "        \n",
    "    def switch_off(self):\n",
    "        print('Switching off...')"
   ]
  },
  {
   "cell_type": "code",
   "execution_count": 43,
   "id": "61530927",
   "metadata": {},
   "outputs": [],
   "source": [
    "class Iphone(Phone):\n",
    "    \n",
    "    def __init__(self):\n",
    "        # inheritance\n",
    "        Phone.__init__(self)\n",
    "        print(\"Iphone Lauched!!!\")\n",
    "        "
   ]
  },
  {
   "cell_type": "code",
   "execution_count": 37,
   "id": "7687da04",
   "metadata": {},
   "outputs": [
    {
     "name": "stdout",
     "output_type": "stream",
     "text": [
      "Phone Lauched!!!\n"
     ]
    }
   ],
   "source": [
    "phone = Phone()"
   ]
  },
  {
   "cell_type": "code",
   "execution_count": 38,
   "id": "3e51ee75",
   "metadata": {},
   "outputs": [
    {
     "name": "stdout",
     "output_type": "stream",
     "text": [
      "A phone\n"
     ]
    }
   ],
   "source": [
    "phone.who_am_i()"
   ]
  },
  {
   "cell_type": "code",
   "execution_count": 39,
   "id": "7a298b17",
   "metadata": {},
   "outputs": [
    {
     "name": "stdout",
     "output_type": "stream",
     "text": [
      "Switching off...\n"
     ]
    }
   ],
   "source": [
    "phone.switch_off()"
   ]
  },
  {
   "cell_type": "code",
   "execution_count": 44,
   "id": "6417b381",
   "metadata": {},
   "outputs": [
    {
     "name": "stdout",
     "output_type": "stream",
     "text": [
      "Phone Lauched!!!\n",
      "Iphone Lauched!!!\n"
     ]
    }
   ],
   "source": [
    "Iphone12 = Iphone()"
   ]
  },
  {
   "cell_type": "code",
   "execution_count": 45,
   "id": "1c6598be",
   "metadata": {},
   "outputs": [
    {
     "name": "stdout",
     "output_type": "stream",
     "text": [
      "Switching off...\n"
     ]
    }
   ],
   "source": [
    "Iphone12.switch_off()"
   ]
  },
  {
   "cell_type": "code",
   "execution_count": 46,
   "id": "98c3ef28",
   "metadata": {},
   "outputs": [
    {
     "name": "stdout",
     "output_type": "stream",
     "text": [
      "A phone\n"
     ]
    }
   ],
   "source": [
    "Iphone12.who_am_i()"
   ]
  },
  {
   "cell_type": "markdown",
   "id": "a918325e",
   "metadata": {},
   "source": [
    "## Polymorphism"
   ]
  },
  {
   "cell_type": "code",
   "execution_count": 6,
   "id": "c10fd6fb",
   "metadata": {},
   "outputs": [],
   "source": [
    "class Dog():\n",
    "    def __init__(self, name):\n",
    "        self.name = name\n",
    "        \n",
    "    def speak(self):\n",
    "        return self.name + \" says woof!\""
   ]
  },
  {
   "cell_type": "code",
   "execution_count": 7,
   "id": "cddcca55",
   "metadata": {},
   "outputs": [],
   "source": [
    "class Cat():\n",
    "    def __init__(self, name):\n",
    "        self.name = name\n",
    "        \n",
    "    def speak(self):\n",
    "        return self.name + \" says meooow!\""
   ]
  },
  {
   "cell_type": "code",
   "execution_count": 8,
   "id": "a216d66c",
   "metadata": {},
   "outputs": [],
   "source": [
    "bingo = Dog('bingo')\n",
    "anita = Cat('anita')"
   ]
  },
  {
   "cell_type": "code",
   "execution_count": 9,
   "id": "91bbf392",
   "metadata": {},
   "outputs": [
    {
     "name": "stdout",
     "output_type": "stream",
     "text": [
      "anita says meooow!\n"
     ]
    }
   ],
   "source": [
    "print(anita.speak())"
   ]
  },
  {
   "cell_type": "code",
   "execution_count": 10,
   "id": "453185f9",
   "metadata": {},
   "outputs": [
    {
     "name": "stdout",
     "output_type": "stream",
     "text": [
      "<class '__main__.Dog'>\n",
      "<class 'str'>\n",
      "<class '__main__.Cat'>\n",
      "<class 'str'>\n"
     ]
    }
   ],
   "source": [
    "for pet in [bingo, anita]:\n",
    "    print(type(pet))\n",
    "    print(type(pet.speak()))"
   ]
  },
  {
   "cell_type": "code",
   "execution_count": 11,
   "id": "c1964d2b",
   "metadata": {},
   "outputs": [],
   "source": [
    "def pet_speak(pet):\n",
    "    print(pet.speak())"
   ]
  },
  {
   "cell_type": "code",
   "execution_count": 12,
   "id": "f36f0edb",
   "metadata": {},
   "outputs": [
    {
     "name": "stdout",
     "output_type": "stream",
     "text": [
      "bingo says woof!\n"
     ]
    }
   ],
   "source": [
    "pet_speak(bingo)"
   ]
  },
  {
   "cell_type": "code",
   "execution_count": 13,
   "id": "5dfd7e2b",
   "metadata": {},
   "outputs": [
    {
     "name": "stdout",
     "output_type": "stream",
     "text": [
      "anita says meooow!\n"
     ]
    }
   ],
   "source": [
    "pet_speak(anita)"
   ]
  },
  {
   "cell_type": "code",
   "execution_count": 14,
   "id": "d6d19198",
   "metadata": {},
   "outputs": [],
   "source": [
    "class Animal():\n",
    "    def __init__(self,name):\n",
    "        self.name = name\n",
    "        \n",
    "    def speak(self):\n",
    "        raise NotImplementedError(\"Subclass must implement this abstract method\")"
   ]
  },
  {
   "cell_type": "code",
   "execution_count": 15,
   "id": "b149d8cd",
   "metadata": {},
   "outputs": [],
   "source": [
    "class Dog(Animal):\n",
    "    \n",
    "    def speak(self):\n",
    "        return self.name + \" says woof!!!\""
   ]
  },
  {
   "cell_type": "code",
   "execution_count": 16,
   "id": "afc049b4",
   "metadata": {},
   "outputs": [],
   "source": [
    "class Cat(Animal):\n",
    "    def speak(self):\n",
    "        return self.name + \" says meow!!!\""
   ]
  },
  {
   "cell_type": "code",
   "execution_count": 17,
   "id": "ddb7b7ed",
   "metadata": {},
   "outputs": [],
   "source": [
    "fido = Dog('fido')\n",
    "isis = Cat('isis')"
   ]
  },
  {
   "cell_type": "code",
   "execution_count": 19,
   "id": "a61a2f21",
   "metadata": {},
   "outputs": [
    {
     "name": "stdout",
     "output_type": "stream",
     "text": [
      "fido says woof!!!\n",
      "isis says meow!!!\n"
     ]
    }
   ],
   "source": [
    "print(fido.speak())\n",
    "print(isis.speak())"
   ]
  },
  {
   "cell_type": "markdown",
   "id": "5b86740f",
   "metadata": {},
   "source": [
    "### Special Methods"
   ]
  },
  {
   "cell_type": "code",
   "execution_count": 27,
   "id": "b104f06e",
   "metadata": {},
   "outputs": [],
   "source": [
    "class Book():\n",
    "    # __init__ is the first special method\n",
    "    def __init__(self,title,author,pages):\n",
    "        self.title = title\n",
    "        self.author = author\n",
    "        self.pages = pages\n",
    "        \n",
    "    # special method for string    \n",
    "    def __str__(self):\n",
    "        return f'{self.title} by {self.author}.'\n",
    "    \n",
    "    # special method for length\n",
    "    def __len__(self):\n",
    "        return self.pages"
   ]
  },
  {
   "cell_type": "code",
   "execution_count": 28,
   "id": "5700582f",
   "metadata": {},
   "outputs": [],
   "source": [
    "book = Book('Python rocks', 'Jose', 200)"
   ]
  },
  {
   "cell_type": "code",
   "execution_count": 29,
   "id": "2c48e124",
   "metadata": {},
   "outputs": [
    {
     "name": "stdout",
     "output_type": "stream",
     "text": [
      "Python rocks by Jose.\n"
     ]
    }
   ],
   "source": [
    "print(book)"
   ]
  },
  {
   "cell_type": "code",
   "execution_count": 30,
   "id": "6b120320",
   "metadata": {},
   "outputs": [
    {
     "data": {
      "text/plain": [
       "'Python rocks by Jose.'"
      ]
     },
     "execution_count": 30,
     "metadata": {},
     "output_type": "execute_result"
    }
   ],
   "source": [
    "str(book)"
   ]
  },
  {
   "cell_type": "code",
   "execution_count": 31,
   "id": "324b69a2",
   "metadata": {},
   "outputs": [
    {
     "data": {
      "text/plain": [
       "200"
      ]
     },
     "execution_count": 31,
     "metadata": {},
     "output_type": "execute_result"
    }
   ],
   "source": [
    "len(book)"
   ]
  },
  {
   "cell_type": "code",
   "execution_count": null,
   "id": "9e8607ca",
   "metadata": {},
   "outputs": [],
   "source": [
    "# to delete \n",
    "\n",
    "del book"
   ]
  },
  {
   "cell_type": "markdown",
   "id": "79f7fb2c",
   "metadata": {},
   "source": [
    "### Exerise"
   ]
  },
  {
   "cell_type": "markdown",
   "id": "623035b0",
   "metadata": {},
   "source": [
    "**Line class methods to accept cordinates as a pair of tuples and return the slope and distance of the line**"
   ]
  },
  {
   "cell_type": "code",
   "execution_count": 47,
   "id": "2f092afd",
   "metadata": {},
   "outputs": [],
   "source": [
    "class Line:\n",
    "    \n",
    "    def __init__(self, cord1, cord2):\n",
    "        self.cord1 = cord1\n",
    "        self.cord2 = cord2\n",
    "        \n",
    "    def distance(self):\n",
    "        x1,y1 = self.cord1\n",
    "        x2,y2 = self.cord2\n",
    "        return ((y2-y1)**2 + (x2-x1)**2)**(1/2)\n",
    "    \n",
    "    def slope(self):\n",
    "        x1,y1 = self.cord1\n",
    "        x2,y2 = self.cord2\n",
    "        return ((y2-y1)/(x2-x1))"
   ]
  },
  {
   "cell_type": "code",
   "execution_count": 48,
   "id": "48e52fad",
   "metadata": {},
   "outputs": [],
   "source": [
    "cordinates = Line((3,2),(8,10))"
   ]
  },
  {
   "cell_type": "code",
   "execution_count": 49,
   "id": "b53ee6a0",
   "metadata": {},
   "outputs": [
    {
     "data": {
      "text/plain": [
       "9.433981132056603"
      ]
     },
     "execution_count": 49,
     "metadata": {},
     "output_type": "execute_result"
    }
   ],
   "source": [
    "cordinates.distance()"
   ]
  },
  {
   "cell_type": "code",
   "execution_count": 43,
   "id": "bdcda730",
   "metadata": {},
   "outputs": [
    {
     "data": {
      "text/plain": [
       "1.6"
      ]
     },
     "execution_count": 43,
     "metadata": {},
     "output_type": "execute_result"
    }
   ],
   "source": [
    "cordinates.slope()"
   ]
  },
  {
   "cell_type": "markdown",
   "id": "4c24e689",
   "metadata": {},
   "source": [
    "**Find radius and surface area of Cylinder**"
   ]
  },
  {
   "cell_type": "code",
   "execution_count": 56,
   "id": "49d28dd9",
   "metadata": {},
   "outputs": [],
   "source": [
    "class Cylinder:\n",
    "    \n",
    "    pi = 3.14\n",
    "    \n",
    "    def __init__(self, height, radius):\n",
    "        self.height = height\n",
    "        self.radius = radius\n",
    "        \n",
    "    def volume(self):\n",
    "        return (self.pi * self.radius**2 * self.height)\n",
    "    \n",
    "    def surface_area(self):\n",
    "        return ((2 * self.pi * self.radius * self.height) + (self.radius**2 + self.pi))"
   ]
  },
  {
   "cell_type": "code",
   "execution_count": 57,
   "id": "2ce9c451",
   "metadata": {},
   "outputs": [],
   "source": [
    "cyl = Cylinder(2,3)"
   ]
  },
  {
   "cell_type": "code",
   "execution_count": 58,
   "id": "af47167f",
   "metadata": {},
   "outputs": [
    {
     "data": {
      "text/plain": [
       "56.52"
      ]
     },
     "execution_count": 58,
     "metadata": {},
     "output_type": "execute_result"
    }
   ],
   "source": [
    "cyl.volume()"
   ]
  },
  {
   "cell_type": "code",
   "execution_count": 59,
   "id": "ac114fc5",
   "metadata": {},
   "outputs": [
    {
     "data": {
      "text/plain": [
       "49.82"
      ]
     },
     "execution_count": 59,
     "metadata": {},
     "output_type": "execute_result"
    }
   ],
   "source": [
    "cyl.surface_area()"
   ]
  },
  {
   "cell_type": "markdown",
   "id": "a0fb7f79",
   "metadata": {},
   "source": [
    "**Create a bank account class that has two attributes: owner and balance, and two methods: deposit and withdraw.**"
   ]
  },
  {
   "cell_type": "code",
   "execution_count": 72,
   "id": "9bf990c4",
   "metadata": {},
   "outputs": [],
   "source": [
    "class Account():\n",
    "\n",
    "    # attributes\n",
    "    def __init__(self,owner,balance):\n",
    "        self.owner = owner\n",
    "        self.balance = balance\n",
    "        \n",
    "    # special method   \n",
    "    def __str__(self):\n",
    "        return \"Owner: {self.owner}\"\n",
    "        \n",
    "    # method\n",
    "    def deposit(self, amount):\n",
    "        self.balance += amount\n",
    "        return \"You just deposited #{}\".format(amount)\n",
    "    \n",
    "    def withdraw(self, amount):\n",
    "        if amount > self.balance:\n",
    "            return \"Insufficient Fund.\"\n",
    "        else:\n",
    "            self.balance-= amount\n",
    "            return 'Please take your cash. Thank you for banking with us.'\n",
    "        \n",
    "    def get_balance(self):\n",
    "        return f'Dear {self.owner}, Your account balance is #{self.balance}.'"
   ]
  },
  {
   "cell_type": "code",
   "execution_count": 73,
   "id": "1cc8a453",
   "metadata": {},
   "outputs": [],
   "source": [
    "acct1 = Account('Abisoye Akinloye', 1000)"
   ]
  },
  {
   "cell_type": "code",
   "execution_count": 74,
   "id": "4da0dc05",
   "metadata": {},
   "outputs": [
    {
     "data": {
      "text/plain": [
       "'You just deposited #500'"
      ]
     },
     "execution_count": 74,
     "metadata": {},
     "output_type": "execute_result"
    }
   ],
   "source": [
    "acct1.deposit(500)"
   ]
  },
  {
   "cell_type": "code",
   "execution_count": 75,
   "id": "99a679c8",
   "metadata": {},
   "outputs": [
    {
     "data": {
      "text/plain": [
       "'Dear Abisoye Akinloye, Your account balance is #1500.'"
      ]
     },
     "execution_count": 75,
     "metadata": {},
     "output_type": "execute_result"
    }
   ],
   "source": [
    "acct1.get_balance()"
   ]
  },
  {
   "cell_type": "code",
   "execution_count": 76,
   "id": "79fc8571",
   "metadata": {},
   "outputs": [
    {
     "data": {
      "text/plain": [
       "'Insufficient Fund.'"
      ]
     },
     "execution_count": 76,
     "metadata": {},
     "output_type": "execute_result"
    }
   ],
   "source": [
    "acct1.withdraw(5000)"
   ]
  },
  {
   "cell_type": "code",
   "execution_count": 77,
   "id": "2bb6dab5",
   "metadata": {},
   "outputs": [
    {
     "data": {
      "text/plain": [
       "'Please take your cash. Thank you for banking with us.'"
      ]
     },
     "execution_count": 77,
     "metadata": {},
     "output_type": "execute_result"
    }
   ],
   "source": [
    "acct1.withdraw(1000)"
   ]
  },
  {
   "cell_type": "code",
   "execution_count": 78,
   "id": "e75d65db",
   "metadata": {},
   "outputs": [
    {
     "data": {
      "text/plain": [
       "'Dear Abisoye Akinloye, Your account balance is #500.'"
      ]
     },
     "execution_count": 78,
     "metadata": {},
     "output_type": "execute_result"
    }
   ],
   "source": [
    "acct1.get_balance()"
   ]
  },
  {
   "cell_type": "code",
   "execution_count": 79,
   "id": "24ece1c3",
   "metadata": {},
   "outputs": [
    {
     "data": {
      "text/plain": [
       "'You just deposited #500'"
      ]
     },
     "execution_count": 79,
     "metadata": {},
     "output_type": "execute_result"
    }
   ],
   "source": [
    "acct1.deposit(500)"
   ]
  },
  {
   "cell_type": "code",
   "execution_count": null,
   "id": "9870a2cc",
   "metadata": {},
   "outputs": [],
   "source": []
  },
  {
   "cell_type": "code",
   "execution_count": 80,
   "id": "25ba1f65",
   "metadata": {},
   "outputs": [],
   "source": [
    "# shopping cart\n",
    "\n",
    "class Item:\n",
    "    def __init__(self, name, price, qty):\n",
    "        self.name = name\n",
    "        self.price = price\n",
    "        self.qty = qty"
   ]
  },
  {
   "cell_type": "code",
   "execution_count": 82,
   "id": "6ac07447",
   "metadata": {},
   "outputs": [],
   "source": [
    "item1 = Item('Laptop', 1500, 5)"
   ]
  },
  {
   "cell_type": "code",
   "execution_count": 84,
   "id": "ef7591e9",
   "metadata": {},
   "outputs": [],
   "source": [
    "# to add attribute\n",
    "\n",
    "item1.spec = {\n",
    "    'ram': '12gb',\n",
    "    'rom_type': 'SSD',\n",
    "    'rom': '1tb',\n",
    "    'processor': 'corei7'\n",
    "}"
   ]
  },
  {
   "cell_type": "code",
   "execution_count": 85,
   "id": "461e8959",
   "metadata": {},
   "outputs": [
    {
     "data": {
      "text/plain": [
       "'Laptop'"
      ]
     },
     "execution_count": 85,
     "metadata": {},
     "output_type": "execute_result"
    }
   ],
   "source": [
    "item1.name"
   ]
  },
  {
   "cell_type": "code",
   "execution_count": 86,
   "id": "ff7edd88",
   "metadata": {},
   "outputs": [
    {
     "data": {
      "text/plain": [
       "{'ram': '12gb', 'rom_type': 'SSD', 'rom': '1tb', 'processor': 'corei7'}"
      ]
     },
     "execution_count": 86,
     "metadata": {},
     "output_type": "execute_result"
    }
   ],
   "source": [
    "item1.spec"
   ]
  },
  {
   "cell_type": "markdown",
   "id": "0aadbe45",
   "metadata": {},
   "source": [
    "### Validate Attribute"
   ]
  },
  {
   "cell_type": "code",
   "execution_count": 5,
   "id": "fec1a11f",
   "metadata": {},
   "outputs": [],
   "source": [
    "# validating data type\n",
    "\n",
    "class Item:\n",
    "    def __init__(self, name: str, price: float, qty=0):\n",
    "        '''\n",
    "        qty sets as 0 has data type of int. \n",
    "        however, any other types assigned to it will result to error\n",
    "        '''\n",
    "        # Run validation to the received arguments\n",
    "        assert price > 0, f'Price {price} should be greater than 0'\n",
    "        assert qty > 0, f'Quantity {qty} should be greater than 0'\n",
    "        \n",
    "        # Assign to self object\n",
    "        self.name = name\n",
    "        self.price = price\n",
    "        self.qty = qty\n",
    "        "
   ]
  },
  {
   "cell_type": "code",
   "execution_count": 16,
   "id": "20a7baca",
   "metadata": {},
   "outputs": [],
   "source": [
    "item2 = Item('Iphone', 1500, 2)\n",
    "\n",
    "# use pycharm to run the code"
   ]
  },
  {
   "cell_type": "code",
   "execution_count": 12,
   "id": "e804c63a",
   "metadata": {},
   "outputs": [],
   "source": [
    "# class attribute\n",
    "    \n",
    "class Item:\n",
    "    # it can be access globally\n",
    "    pay_rate = 0.8\n",
    "    \n",
    "    def __init__(self, name: str, price: float, qty=0):\n",
    "        '''\n",
    "        qty sets as 0 has data type of int. \n",
    "        however, any other types assigned to it will result to error\n",
    "        '''\n",
    "        # Run validation to the received arguments\n",
    "        assert price > 0, f'Price {price} should be greater than 0'\n",
    "        assert qty > 0, f'Quantity {qty} should be greater than 0'\n",
    "        \n",
    "        # Assign to self object\n",
    "        self.name = name\n",
    "        self.price = price\n",
    "        self.qty = qty"
   ]
  },
  {
   "cell_type": "code",
   "execution_count": 14,
   "id": "62b806ac",
   "metadata": {},
   "outputs": [
    {
     "name": "stdout",
     "output_type": "stream",
     "text": [
      "0.8\n"
     ]
    }
   ],
   "source": [
    "print(Item.pay_rate)"
   ]
  },
  {
   "cell_type": "code",
   "execution_count": 17,
   "id": "4e892536",
   "metadata": {},
   "outputs": [
    {
     "data": {
      "text/plain": [
       "0.8"
      ]
     },
     "execution_count": 17,
     "metadata": {},
     "output_type": "execute_result"
    }
   ],
   "source": [
    "item2.pay_rate"
   ]
  },
  {
   "cell_type": "code",
   "execution_count": 18,
   "id": "9e49b64e",
   "metadata": {},
   "outputs": [
    {
     "name": "stdout",
     "output_type": "stream",
     "text": [
      "{'__module__': '__main__', 'pay_rate': 0.8, '__init__': <function Item.__init__ at 0x00000110326FB9D0>, '__dict__': <attribute '__dict__' of 'Item' objects>, '__weakref__': <attribute '__weakref__' of 'Item' objects>, '__doc__': None}\n"
     ]
    }
   ],
   "source": [
    "# To get all attributes for Class level\n",
    "\n",
    "print(Item.__dict__)"
   ]
  },
  {
   "cell_type": "code",
   "execution_count": 19,
   "id": "277daae9",
   "metadata": {},
   "outputs": [
    {
     "name": "stdout",
     "output_type": "stream",
     "text": [
      "{'name': 'Iphone', 'price': 1500, 'qty': 2}\n"
     ]
    }
   ],
   "source": [
    "# To get attributes for instance level\n",
    "\n",
    "print(item2.__dict__)"
   ]
  },
  {
   "cell_type": "code",
   "execution_count": 31,
   "id": "812979ab",
   "metadata": {},
   "outputs": [],
   "source": [
    "# class attribute\n",
    "    \n",
    "class Item:\n",
    "    # it can be access globally\n",
    "    pay_rate = 0.8\n",
    "    \n",
    "    def __init__(self, name: str, price: float, qty=0):\n",
    "        # Run validation to the received arguments\n",
    "        assert price > 0, f'Price {price} should be greater than 0'\n",
    "        assert qty > 0, f'Quantity {qty} should be greater than 0'\n",
    "        \n",
    "        # Assign to self object\n",
    "        self.name = name\n",
    "        self.price = price\n",
    "        self.qty = qty\n",
    "        \n",
    "    def discount(self):\n",
    "        self.price *= self.pay_rate"
   ]
  },
  {
   "cell_type": "code",
   "execution_count": 32,
   "id": "25de1713",
   "metadata": {},
   "outputs": [],
   "source": [
    "item3 = Item('Bag', 250, 1)"
   ]
  },
  {
   "cell_type": "code",
   "execution_count": 33,
   "id": "b5424292",
   "metadata": {},
   "outputs": [],
   "source": [
    "item3.discount()"
   ]
  },
  {
   "cell_type": "code",
   "execution_count": 34,
   "id": "36badf9f",
   "metadata": {},
   "outputs": [
    {
     "name": "stdout",
     "output_type": "stream",
     "text": [
      "200.0\n"
     ]
    }
   ],
   "source": [
    "print(item3.price)"
   ]
  },
  {
   "cell_type": "code",
   "execution_count": 39,
   "id": "2a862f93",
   "metadata": {},
   "outputs": [],
   "source": [
    "item2 = Item('Iphone', 1500, 2)"
   ]
  },
  {
   "cell_type": "code",
   "execution_count": 40,
   "id": "e1ebff17",
   "metadata": {},
   "outputs": [],
   "source": [
    "item2.pay_rate = 0.5"
   ]
  },
  {
   "cell_type": "code",
   "execution_count": 41,
   "id": "8caa3f88",
   "metadata": {},
   "outputs": [],
   "source": [
    "item2.discount()"
   ]
  },
  {
   "cell_type": "code",
   "execution_count": 42,
   "id": "78df174b",
   "metadata": {},
   "outputs": [
    {
     "name": "stdout",
     "output_type": "stream",
     "text": [
      "750.0\n"
     ]
    }
   ],
   "source": [
    "print(item2.price)"
   ]
  },
  {
   "cell_type": "code",
   "execution_count": 18,
   "id": "ceca434c",
   "metadata": {},
   "outputs": [],
   "source": [
    "class Item:\n",
    "    discount = 0.2\n",
    "    instances = []\n",
    "    \n",
    "    def __init__(self, name:str, price:float, qty: int):\n",
    "        # validation\n",
    "        assert price > 0, f'Price must be greater than 0'\n",
    "        assert qty > 0, f'Quantity must be greater than 0'\n",
    "        \n",
    "        # attribute\n",
    "        self.name = name\n",
    "        self.price = price\n",
    "        self.qty = qty\n",
    "        \n",
    "        # save all instances\n",
    "        Item.instances.append(self)\n",
    "        \n",
    "    def total_price(self):\n",
    "        return self.price * self.qty\n",
    "    \n",
    "    def get_discount(self):\n",
    "        return self.price * self.discount\n",
    "    \n",
    "    def apply_discount(self):\n",
    "        new_price = self.price - (self.price * self.discount)\n",
    "        return new_price"
   ]
  },
  {
   "cell_type": "code",
   "execution_count": 19,
   "id": "3a63a8aa",
   "metadata": {},
   "outputs": [],
   "source": [
    "item1 = Item('Laptop', 1500, 1)"
   ]
  },
  {
   "cell_type": "code",
   "execution_count": 20,
   "id": "4461b9e7",
   "metadata": {},
   "outputs": [
    {
     "data": {
      "text/plain": [
       "1500"
      ]
     },
     "execution_count": 20,
     "metadata": {},
     "output_type": "execute_result"
    }
   ],
   "source": [
    "item1.total_price()"
   ]
  },
  {
   "cell_type": "code",
   "execution_count": 21,
   "id": "0bcb5630",
   "metadata": {},
   "outputs": [
    {
     "data": {
      "text/plain": [
       "300.0"
      ]
     },
     "execution_count": 21,
     "metadata": {},
     "output_type": "execute_result"
    }
   ],
   "source": [
    "item1.get_discount()"
   ]
  },
  {
   "cell_type": "code",
   "execution_count": 22,
   "id": "e0bdab1e",
   "metadata": {},
   "outputs": [
    {
     "data": {
      "text/plain": [
       "1200.0"
      ]
     },
     "execution_count": 22,
     "metadata": {},
     "output_type": "execute_result"
    }
   ],
   "source": [
    "item1.apply_discount()"
   ]
  },
  {
   "cell_type": "markdown",
   "id": "599d7fcb",
   "metadata": {},
   "source": [
    "### Multiple Instances"
   ]
  },
  {
   "cell_type": "code",
   "execution_count": 23,
   "id": "4b7d2c86",
   "metadata": {},
   "outputs": [
    {
     "name": "stdout",
     "output_type": "stream",
     "text": [
      "[<__main__.Item object at 0x0000019143436C10>, <__main__.Item object at 0x0000019143431BB0>, <__main__.Item object at 0x00000191434316A0>, <__main__.Item object at 0x0000019143431B50>, <__main__.Item object at 0x0000019143431070>]\n"
     ]
    }
   ],
   "source": [
    "item1 = Item('Laptop', 1500, 1)\n",
    "item2 = Item('Phone', 500, 1)\n",
    "item3 = Item('Suit', 75, 1)\n",
    "item4 = Item('Charger', 10, 1)\n",
    "\n",
    "print(Item.instances)"
   ]
  },
  {
   "cell_type": "code",
   "execution_count": 25,
   "id": "61ac232f",
   "metadata": {},
   "outputs": [
    {
     "name": "stdout",
     "output_type": "stream",
     "text": [
      "Laptop\n",
      "Laptop\n",
      "Phone\n",
      "Suit\n",
      "Charger\n"
     ]
    }
   ],
   "source": [
    "for instance in Item.instances:\n",
    "    print(instance. name)"
   ]
  },
  {
   "cell_type": "markdown",
   "id": "2ba2e60e",
   "metadata": {},
   "source": [
    "##### use   (repr)  to get all instances\n"
   ]
  },
  {
   "cell_type": "code",
   "execution_count": 27,
   "id": "644bb0be",
   "metadata": {},
   "outputs": [],
   "source": [
    "class Item:\n",
    "    discount = 0.2\n",
    "    instances = []\n",
    "    \n",
    "    def __init__(self, name:str, price:float, qty: int):\n",
    "        # validation\n",
    "        assert price > 0, f'Price must be greater than 0'\n",
    "        assert qty > 0, f'Quantity must be greater than 0'\n",
    "        \n",
    "        # attribute\n",
    "        self.name = name\n",
    "        self.price = price\n",
    "        self.qty = qty\n",
    "        \n",
    "        # save all instances\n",
    "        Item.instances.append(self)\n",
    "        \n",
    "    def total_price(self):\n",
    "        return self.price * self.qty\n",
    "    \n",
    "    def get_discount(self):\n",
    "        return self.price * self.discount\n",
    "    \n",
    "    def apply_discount(self):\n",
    "        new_price = self.price - (self.price * self.discount)\n",
    "        return new_price\n",
    "    \n",
    "    def __repr__(self):\n",
    "        return f\"Item('{self.name}', {self.price}, {self.qty})\""
   ]
  },
  {
   "cell_type": "code",
   "execution_count": 28,
   "id": "7c9ec770",
   "metadata": {},
   "outputs": [
    {
     "name": "stdout",
     "output_type": "stream",
     "text": [
      "[Item('Laptop', 1500, 1), Item('Phone', 500, 1), Item('Suit', 75, 1), Item('Charger', 10, 1)]\n"
     ]
    }
   ],
   "source": [
    "item1 = Item('Laptop', 1500, 1)\n",
    "item2 = Item('Phone', 500, 1)\n",
    "item3 = Item('Suit', 75, 1)\n",
    "item4 = Item('Charger', 10, 1)\n",
    "\n",
    "print(Item.instances)"
   ]
  },
  {
   "cell_type": "markdown",
   "id": "23f758d1",
   "metadata": {},
   "source": [
    "#### Instantiation from CSV"
   ]
  },
  {
   "cell_type": "code",
   "execution_count": 38,
   "id": "71259148",
   "metadata": {},
   "outputs": [],
   "source": [
    "import csv\n",
    "\n",
    "class Item:\n",
    "    discount = 0.2\n",
    "    instances = []\n",
    "    \n",
    "    def __init__(self, name:str, price:float, qty: int):\n",
    "        assert price > 0, f'Price must be greater than 0'\n",
    "        assert qty > 0, f'Quantity must be greater than 0'\n",
    "        \n",
    "        self.name = name\n",
    "        self.price = price\n",
    "        self.qty = qty\n",
    "    \n",
    "        Item.instances.append(self)\n",
    "        \n",
    "    def total_price(self):\n",
    "        return self.price * self.qty\n",
    "    \n",
    "    def get_discount(self):\n",
    "        return self.price * self.discount\n",
    "    \n",
    "    def apply_discount(self):\n",
    "        new_price = self.price - (self.price * self.discount)\n",
    "        return new_price\n",
    "    \n",
    "    @classmethod\n",
    "    def instantiate_from_csv(cls):\n",
    "        with open('items.csv', 'r') as f:\n",
    "            reader = csv.DictReader(f)\n",
    "            items = list(reader)\n",
    "            \n",
    "        for item in items:\n",
    "            Item(\n",
    "                name = item.get('name'),\n",
    "                price = float(item.get('price')),\n",
    "                qty = int(item.get('qty')),\n",
    "            )\n",
    "    \n",
    "    def __repr__(self):\n",
    "        return f\"Item('{self.name}', {self.price}, {self.qty})\""
   ]
  },
  {
   "cell_type": "code",
   "execution_count": 39,
   "id": "f5fef876",
   "metadata": {},
   "outputs": [],
   "source": [
    "Item.instantiate_from_csv()"
   ]
  },
  {
   "cell_type": "code",
   "execution_count": 40,
   "id": "f66e18ab",
   "metadata": {},
   "outputs": [
    {
     "data": {
      "text/plain": [
       "[Item(''Laptop'', 1500.0, 1),\n",
       " Item(''Phone'', 500.0, 1),\n",
       " Item(''Suit'', 75.0, 1),\n",
       " Item(''Charger'', 10.0, 1)]"
      ]
     },
     "execution_count": 40,
     "metadata": {},
     "output_type": "execute_result"
    }
   ],
   "source": [
    "Item.instances"
   ]
  },
  {
   "cell_type": "markdown",
   "id": "2f80bf33",
   "metadata": {},
   "source": [
    "## Static Method\n",
    "\n",
    "use for validation logic"
   ]
  },
  {
   "cell_type": "code",
   "execution_count": 2,
   "id": "6c1fdc4d",
   "metadata": {},
   "outputs": [],
   "source": [
    "import csv\n",
    "\n",
    "class Item:\n",
    "    discount = 0.2\n",
    "    instances = []\n",
    "    \n",
    "    def __init__(self, name:str, price:float, qty: int):\n",
    "        assert price > 0, f'Price must be greater than 0'\n",
    "        assert qty > 0, f'Quantity must be greater than 0'\n",
    "        \n",
    "        self.name = name\n",
    "        self.price = price\n",
    "        self.qty = qty\n",
    "    \n",
    "        Item.instances.append(self)\n",
    "        \n",
    "    def total_price(self):\n",
    "        return self.price * self.qty\n",
    "    \n",
    "    def get_discount(self):\n",
    "        return self.price * self.discount\n",
    "    \n",
    "    def apply_discount(self):\n",
    "        new_price = self.price - (self.price * self.discount)\n",
    "        return new_price\n",
    "    \n",
    "    @classmethod\n",
    "    def instantiate_from_csv(cls):\n",
    "        with open('items.csv', 'r') as f:\n",
    "            reader = csv.DictReader(f)\n",
    "            items = list(reader)\n",
    "            \n",
    "        for item in items:\n",
    "            Item(\n",
    "                name = item.get('name'),\n",
    "                price = float(item.get('price')),\n",
    "                qty = int(item.get('qty')),\n",
    "            )\n",
    "            \n",
    "    @staticmethod # regular function\n",
    "    def is_integer(num):\n",
    "        if isinstance(num, float):\n",
    "            # float that are point zero\n",
    "            return num.is_integer()\n",
    "        elif isinstance(num, int):\n",
    "            return True\n",
    "        else:\n",
    "            return False\n",
    "        \n",
    "    def __repr__(self):\n",
    "        return f\"Item('{self.name}', {self.price}, {self.qty})\""
   ]
  },
  {
   "cell_type": "code",
   "execution_count": 3,
   "id": "be0a5723",
   "metadata": {},
   "outputs": [
    {
     "data": {
      "text/plain": [
       "True"
      ]
     },
     "execution_count": 3,
     "metadata": {},
     "output_type": "execute_result"
    }
   ],
   "source": [
    "Item.is_integer(7)"
   ]
  },
  {
   "cell_type": "code",
   "execution_count": 4,
   "id": "32dc6ddb",
   "metadata": {},
   "outputs": [
    {
     "data": {
      "text/plain": [
       "False"
      ]
     },
     "execution_count": 4,
     "metadata": {},
     "output_type": "execute_result"
    }
   ],
   "source": [
    "Item.is_integer(7.5)"
   ]
  },
  {
   "cell_type": "code",
   "execution_count": 5,
   "id": "31222aa0",
   "metadata": {},
   "outputs": [
    {
     "data": {
      "text/plain": [
       "True"
      ]
     },
     "execution_count": 5,
     "metadata": {},
     "output_type": "execute_result"
    }
   ],
   "source": [
    " Item.is_integer(5.0)"
   ]
  },
  {
   "cell_type": "markdown",
   "id": "44e63bcd",
   "metadata": {},
   "source": [
    "#### Class Method VS Static Method\n",
    "\n",
    "* Use static method to do something that has a relationship with the class, but not something that must be unique per instance.\n",
    "\n",
    "* Use class method to do something that has relationship with the class, but usually, those are used to manipulate different structures of data to instantiate objects, like we have done with CSV. Also used for json and yaml files. "
   ]
  },
  {
   "cell_type": "markdown",
   "id": "295396f8",
   "metadata": {},
   "source": [
    "## Super Class\n"
   ]
  },
  {
   "cell_type": "code",
   "execution_count": 6,
   "id": "9256e585",
   "metadata": {},
   "outputs": [],
   "source": [
    "class Phone(Item):\n",
    "    def __init__(self, name: str, price: float, qty: int, broken_phones: int):\n",
    "        # call super to access parent attributes and methods\n",
    "        super().__init__(\n",
    "            name, price, qty\n",
    "        )\n",
    "        \n",
    "        assert broken_phones > 0, f'Broken phones should be integer'\n",
    "        \n",
    "        self.broken_phones = broken_phones"
   ]
  },
  {
   "cell_type": "code",
   "execution_count": 7,
   "id": "819ebf94",
   "metadata": {},
   "outputs": [],
   "source": [
    "phone1 = Phone('Camon 17', 500, 10, 1)"
   ]
  },
  {
   "cell_type": "code",
   "execution_count": 8,
   "id": "5571c597",
   "metadata": {},
   "outputs": [
    {
     "data": {
      "text/plain": [
       "[Item('Camon 17', 500, 10)]"
      ]
     },
     "execution_count": 8,
     "metadata": {},
     "output_type": "execute_result"
    }
   ],
   "source": [
    "Phone.instances\n"
   ]
  },
  {
   "cell_type": "markdown",
   "id": "c9af0541",
   "metadata": {},
   "source": [
    "### Read only attributes\n",
    "\n",
    "* **For methods, add @property above the def statement**\n",
    "* **For attribute, add underscore before the attribute name i.e self._name**"
   ]
  },
  {
   "cell_type": "code",
   "execution_count": 9,
   "id": "d170f3b1",
   "metadata": {},
   "outputs": [],
   "source": [
    "class Phone(Item):\n",
    "    def __init__(self, name: str, price: float, qty: int, broken_phones: int):\n",
    "        # call super to access parent attributes and methods\n",
    "        super().__init__(\n",
    "            name, price, qty\n",
    "        )\n",
    "        \n",
    "        assert broken_phones > 0, f'Broken phones should be integer'\n",
    "        \n",
    "        self._broken_phones = broken_phones\n",
    "        \n",
    "        @property\n",
    "        def broken_phones(self):\n",
    "            return self._broken_phones"
   ]
  },
  {
   "cell_type": "code",
   "execution_count": 10,
   "id": "f097a3b9",
   "metadata": {},
   "outputs": [],
   "source": [
    "phone1 = Phone('Camon 17', 500, 10, 1)"
   ]
  },
  {
   "cell_type": "code",
   "execution_count": 12,
   "id": "ee202b14",
   "metadata": {},
   "outputs": [],
   "source": [
    "phone1.name = 'Camon 16'"
   ]
  },
  {
   "cell_type": "code",
   "execution_count": 13,
   "id": "7c360aad",
   "metadata": {},
   "outputs": [
    {
     "data": {
      "text/plain": [
       "'Camon 16'"
      ]
     },
     "execution_count": 13,
     "metadata": {},
     "output_type": "execute_result"
    }
   ],
   "source": [
    "phone1.name"
   ]
  },
  {
   "cell_type": "markdown",
   "id": "1d2d2ecd",
   "metadata": {},
   "source": [
    "#### Setting Properties for Read Only"
   ]
  },
  {
   "cell_type": "code",
   "execution_count": 29,
   "id": "fce4a556",
   "metadata": {},
   "outputs": [],
   "source": [
    "import csv\n",
    "\n",
    "class Item:\n",
    "    discount = 0.2\n",
    "    instances = []\n",
    "    \n",
    "    def __init__(self, name:str, price:float, qty: int):\n",
    "        assert price > 0, f'Price must be greater than 0'\n",
    "        assert qty > 0, f'Quantity must be greater than 0'\n",
    "        \n",
    "        self.__name = name\n",
    "        self.price = price\n",
    "        self.qty = qty\n",
    "    \n",
    "        Item.instances.append(self)\n",
    "        \n",
    "    def total_price(self):\n",
    "        return self.price * self.qty\n",
    "    \n",
    "    def get_discount(self):\n",
    "        return self.price * self.discount\n",
    "    \n",
    "    def apply_discount(self):\n",
    "        new_price = self.price - (self.price * self.discount)\n",
    "        return new_price\n",
    "    \n",
    "    @classmethod\n",
    "    def instantiate_from_csv(cls):\n",
    "        with open('items.csv', 'r') as f:\n",
    "            reader = csv.DictReader(f)\n",
    "            items = list(reader)\n",
    "            \n",
    "        for item in items:\n",
    "            Item(\n",
    "                name = item.get('name'),\n",
    "                price = float(item.get('price')),\n",
    "                qty = int(item.get('qty')),\n",
    "            )\n",
    "            \n",
    "    @property\n",
    "    def name(self):\n",
    "        return self.__name\n",
    "    \n",
    "    # to set read only attributes\n",
    "    @name.setter\n",
    "    def name(self,value):\n",
    "        self.__name = value\n",
    "    \n",
    "    def __repr__(self):\n",
    "        return f\"Item('{self.name}', {self.price}, {self.qty})\""
   ]
  },
  {
   "cell_type": "code",
   "execution_count": 20,
   "id": "a10b3278",
   "metadata": {},
   "outputs": [],
   "source": [
    "Item.instantiate_from_csv()"
   ]
  },
  {
   "cell_type": "code",
   "execution_count": 26,
   "id": "fcf070f9",
   "metadata": {},
   "outputs": [
    {
     "ename": "AttributeError",
     "evalue": "can't set attribute",
     "output_type": "error",
     "traceback": [
      "\u001b[1;31m---------------------------------------------------------------------------\u001b[0m",
      "\u001b[1;31mAttributeError\u001b[0m                            Traceback (most recent call last)",
      "\u001b[1;32m<ipython-input-26-b1aab068c985>\u001b[0m in \u001b[0;36m<module>\u001b[1;34m\u001b[0m\n\u001b[1;32m----> 1\u001b[1;33m \u001b[0mItem\u001b[0m\u001b[1;33m.\u001b[0m\u001b[0minstances\u001b[0m\u001b[1;33m[\u001b[0m\u001b[1;36m0\u001b[0m\u001b[1;33m]\u001b[0m\u001b[1;33m.\u001b[0m\u001b[0mname\u001b[0m\u001b[1;33m=\u001b[0m\u001b[1;34m\"Samsong\"\u001b[0m\u001b[1;33m\u001b[0m\u001b[1;33m\u001b[0m\u001b[0m\n\u001b[0m",
      "\u001b[1;31mAttributeError\u001b[0m: can't set attribute"
     ]
    }
   ],
   "source": [
    "Item.instances[0].name=\"Samsong\""
   ]
  },
  {
   "cell_type": "markdown",
   "id": "50ff012b",
   "metadata": {},
   "source": [
    "### Summary\n",
    "\n",
    "1. **Encapsulation**: Restricting access to some properties/attributes. (i.e) Read Only\n",
    "\n",
    "2. **Abstraction**: Shows neccesary attributes and hides unneccessary ones from instance.\n",
    "\n",
    "3. **Inheritance**: To reuse code across all classes.\n",
    "\n",
    "4. **Polymorphism**: Use of a single type entities to represent different types. Poly - many, Morphism - form."
   ]
  }
 ],
 "metadata": {
  "kernelspec": {
   "display_name": "Python 3",
   "language": "python",
   "name": "python3"
  },
  "language_info": {
   "codemirror_mode": {
    "name": "ipython",
    "version": 3
   },
   "file_extension": ".py",
   "mimetype": "text/x-python",
   "name": "python",
   "nbconvert_exporter": "python",
   "pygments_lexer": "ipython3",
   "version": "3.8.8"
  }
 },
 "nbformat": 4,
 "nbformat_minor": 5
}
