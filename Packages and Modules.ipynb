{
 "cells": [
  {
   "cell_type": "markdown",
   "id": "686856fb",
   "metadata": {},
   "source": [
    "# Packages\n",
    "\n",
    "* **PyPI is a repository for open-source third-party Python packages**\n",
    "\n",
    "* **We can use `pip install` to install external packages.**"
   ]
  },
  {
   "cell_type": "markdown",
   "id": "bf2579bd",
   "metadata": {},
   "source": [
    "## Modules\n",
    "\n",
    "* **These are just `.py` scripts that you call in another `.py` script.**\n",
    "\n",
    "* **Packages are a collection of modules.**\n",
    "\n",
    "* **Add `__init__.py` to your package folder. It tells python that it is a created package.**"
   ]
  },
  {
   "cell_type": "code",
   "execution_count": 2,
   "id": "b56dde4b",
   "metadata": {},
   "outputs": [
    {
     "name": "stdout",
     "output_type": "stream",
     "text": [
      "Hey, I am a module...\n"
     ]
    }
   ],
   "source": [
    "from modules import my_func\n",
    "\n",
    "my_func()"
   ]
  },
  {
   "cell_type": "code",
   "execution_count": 6,
   "id": "9fe80d3b",
   "metadata": {},
   "outputs": [
    {
     "name": "stdout",
     "output_type": "stream",
     "text": [
      "Function inside package\n"
     ]
    }
   ],
   "source": [
    "# package\n",
    "from package import main\n",
    "\n",
    "main.report()"
   ]
  },
  {
   "cell_type": "code",
   "execution_count": 1,
   "id": "79ebe1a3",
   "metadata": {},
   "outputs": [
    {
     "name": "stdout",
     "output_type": "stream",
     "text": [
      "Function inside sub package...\n"
     ]
    }
   ],
   "source": [
    "# subpackage\n",
    "\n",
    "from package.subpackage import main\n",
    "\n",
    "main.sub_report()"
   ]
  },
  {
   "cell_type": "markdown",
   "id": "f3c754ab",
   "metadata": {},
   "source": [
    "### `__name__` `\"__main__\"`\n",
    "\n",
    "**An often confusing part of Python is a mysterious line of code:**\n",
    "\n",
    "`if __name__ == \"__main__\"`"
   ]
  },
  {
   "cell_type": "markdown",
   "id": "2aef77eb",
   "metadata": {},
   "source": [
    "1. **It helps to know whether a function is running directly or has been imported as a module.**\n",
    "\n",
    "2. **For code organization: below it the functions are called according to how you want it to run.**"
   ]
  },
  {
   "cell_type": "code",
   "execution_count": null,
   "id": "04b75450",
   "metadata": {},
   "outputs": [],
   "source": []
  }
 ],
 "metadata": {
  "kernelspec": {
   "display_name": "Python 3",
   "language": "python",
   "name": "python3"
  },
  "language_info": {
   "codemirror_mode": {
    "name": "ipython",
    "version": 3
   },
   "file_extension": ".py",
   "mimetype": "text/x-python",
   "name": "python",
   "nbconvert_exporter": "python",
   "pygments_lexer": "ipython3",
   "version": "3.8.8"
  }
 },
 "nbformat": 4,
 "nbformat_minor": 5
}
